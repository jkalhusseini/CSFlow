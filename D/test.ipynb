{
 "cells": [
  {
   "cell_type": "code",
   "execution_count": 173,
   "metadata": {},
   "outputs": [],
   "source": [
    "import pandas as pd"
   ]
  },
  {
   "cell_type": "code",
   "execution_count": 174,
   "metadata": {},
   "outputs": [],
   "source": [
    "import pandas as pd\n",
    "import numpy as np\n",
    "import plotly.express as px\n",
    "from scipy import stats\n",
    "import statistics\n",
    "import researchpy as rp\n",
    "import plotly.graph_objects as go\n",
    "from plotly.subplots import make_subplots"
   ]
  },
  {
   "cell_type": "code",
   "execution_count": 175,
   "metadata": {},
   "outputs": [],
   "source": [
    "DataSet = pd.read_csv(\"DS1.csv\")\n"
   ]
  },
  {
   "cell_type": "code",
   "execution_count": 176,
   "metadata": {},
   "outputs": [
    {
     "data": {
      "text/html": [
       "<div>\n",
       "<style scoped>\n",
       "    .dataframe tbody tr th:only-of-type {\n",
       "        vertical-align: middle;\n",
       "    }\n",
       "\n",
       "    .dataframe tbody tr th {\n",
       "        vertical-align: top;\n",
       "    }\n",
       "\n",
       "    .dataframe thead th {\n",
       "        text-align: right;\n",
       "    }\n",
       "</style>\n",
       "<table border=\"1\" class=\"dataframe\">\n",
       "  <thead>\n",
       "    <tr style=\"text-align: right;\">\n",
       "      <th></th>\n",
       "      <th>Age</th>\n",
       "      <th>BMI</th>\n",
       "      <th>Months</th>\n",
       "      <th>FR</th>\n",
       "      <th>FOHR</th>\n",
       "      <th>Etiology</th>\n",
       "    </tr>\n",
       "  </thead>\n",
       "  <tbody>\n",
       "    <tr>\n",
       "      <th>0</th>\n",
       "      <td>2.627778</td>\n",
       "      <td>13.502413</td>\n",
       "      <td>31</td>\n",
       "      <td>11.000000</td>\n",
       "      <td>0.308786</td>\n",
       "      <td>NTD</td>\n",
       "    </tr>\n",
       "    <tr>\n",
       "      <th>1</th>\n",
       "      <td>20.630556</td>\n",
       "      <td>26.226747</td>\n",
       "      <td>235</td>\n",
       "      <td>1.000000</td>\n",
       "      <td>0.376271</td>\n",
       "      <td>NTD</td>\n",
       "    </tr>\n",
       "    <tr>\n",
       "      <th>2</th>\n",
       "      <td>23.102778</td>\n",
       "      <td>40.169222</td>\n",
       "      <td>265</td>\n",
       "      <td>1.000000</td>\n",
       "      <td>0.316228</td>\n",
       "      <td>OTHER</td>\n",
       "    </tr>\n",
       "    <tr>\n",
       "      <th>3</th>\n",
       "      <td>9.905556</td>\n",
       "      <td>17.613899</td>\n",
       "      <td>10</td>\n",
       "      <td>16.000000</td>\n",
       "      <td>0.339401</td>\n",
       "      <td>IVH</td>\n",
       "    </tr>\n",
       "    <tr>\n",
       "      <th>4</th>\n",
       "      <td>5.716667</td>\n",
       "      <td>17.440715</td>\n",
       "      <td>66</td>\n",
       "      <td>0.000000</td>\n",
       "      <td>0.770581</td>\n",
       "      <td>IVH</td>\n",
       "    </tr>\n",
       "    <tr>\n",
       "      <th>...</th>\n",
       "      <td>...</td>\n",
       "      <td>...</td>\n",
       "      <td>...</td>\n",
       "      <td>...</td>\n",
       "      <td>...</td>\n",
       "      <td>...</td>\n",
       "    </tr>\n",
       "    <tr>\n",
       "      <th>79</th>\n",
       "      <td>15.000000</td>\n",
       "      <td>34.285176</td>\n",
       "      <td>177</td>\n",
       "      <td>7.932082</td>\n",
       "      <td>0.373760</td>\n",
       "      <td>NTD</td>\n",
       "    </tr>\n",
       "    <tr>\n",
       "      <th>80</th>\n",
       "      <td>2.000000</td>\n",
       "      <td>16.923338</td>\n",
       "      <td>23</td>\n",
       "      <td>13.857251</td>\n",
       "      <td>0.346880</td>\n",
       "      <td>OTHER</td>\n",
       "    </tr>\n",
       "    <tr>\n",
       "      <th>81</th>\n",
       "      <td>7.000000</td>\n",
       "      <td>18.877718</td>\n",
       "      <td>81</td>\n",
       "      <td>0.668971</td>\n",
       "      <td>0.423242</td>\n",
       "      <td>OTHER</td>\n",
       "    </tr>\n",
       "    <tr>\n",
       "      <th>82</th>\n",
       "      <td>7.000000</td>\n",
       "      <td>18.877718</td>\n",
       "      <td>81</td>\n",
       "      <td>1.003456</td>\n",
       "      <td>0.423242</td>\n",
       "      <td>OTHER</td>\n",
       "    </tr>\n",
       "    <tr>\n",
       "      <th>83</th>\n",
       "      <td>0.000000</td>\n",
       "      <td>31.191262</td>\n",
       "      <td>4</td>\n",
       "      <td>24.847485</td>\n",
       "      <td>0.347308</td>\n",
       "      <td>IVH</td>\n",
       "    </tr>\n",
       "  </tbody>\n",
       "</table>\n",
       "<p>84 rows × 6 columns</p>\n",
       "</div>"
      ],
      "text/plain": [
       "          Age        BMI  Months         FR      FOHR Etiology\n",
       "0    2.627778  13.502413      31  11.000000  0.308786      NTD\n",
       "1   20.630556  26.226747     235   1.000000  0.376271      NTD\n",
       "2   23.102778  40.169222     265   1.000000  0.316228    OTHER\n",
       "3    9.905556  17.613899      10  16.000000  0.339401      IVH\n",
       "4    5.716667  17.440715      66   0.000000  0.770581      IVH\n",
       "..        ...        ...     ...        ...       ...      ...\n",
       "79  15.000000  34.285176     177   7.932082  0.373760      NTD\n",
       "80   2.000000  16.923338      23  13.857251  0.346880    OTHER\n",
       "81   7.000000  18.877718      81   0.668971  0.423242    OTHER\n",
       "82   7.000000  18.877718      81   1.003456  0.423242    OTHER\n",
       "83   0.000000  31.191262       4  24.847485  0.347308      IVH\n",
       "\n",
       "[84 rows x 6 columns]"
      ]
     },
     "execution_count": 176,
     "metadata": {},
     "output_type": "execute_result"
    }
   ],
   "source": [
    "DataSet"
   ]
  },
  {
   "cell_type": "code",
   "execution_count": 177,
   "metadata": {},
   "outputs": [],
   "source": [
    "plot1 = px.scatter(DataSet, y = 'FR', x = 'FOHR')\n"
   ]
  },
  {
   "cell_type": "code",
   "execution_count": 238,
   "metadata": {},
   "outputs": [
    {
     "data": {
      "application/vnd.plotly.v1+json": {
       "config": {
        "plotlyServerURL": "https://plot.ly"
       },
       "data": [
        {
         "marker": {
          "color": "red",
          "line": {
           "color": "black",
           "width": 0.75
          },
          "size": 8
         },
         "mode": "markers",
         "type": "scatter",
         "x": [
          2.627777778,
          20.63055556,
          23.10277778,
          9.905555556,
          5.716666667,
          13.53055556,
          8.636111111,
          21.35,
          8.894444444,
          20.58888889,
          15.91666667,
          2.516666667,
          4.130555556,
          3.369444444,
          10.57777778,
          13.14444444,
          8.025,
          20.92222222,
          14.49166667,
          21.67222222,
          16.925,
          3.908333333,
          18.33611111,
          6.147222222,
          4.988888889,
          9.252777778,
          14.40833333,
          23.03333333,
          5.227777778,
          10.97222222,
          13.49444444,
          12.83611111,
          13.85555556,
          24.87777778,
          11.43888889,
          15.21111111,
          19.57222222,
          19.64722222,
          2.141666667,
          1.105555556,
          1.244444444,
          1.605555556,
          1.786111111,
          2.833333333,
          2.958333333,
          3.155555556,
          5.677777778,
          6.022222222,
          6.575,
          6.661111111,
          6.891666667,
          7.502777778,
          8.475,
          14.31111111,
          15.51111111,
          16.78888889,
          18.92222222,
          0.916666667,
          10,
          7,
          18,
          4,
          9,
          9,
          18,
          2,
          8,
          6,
          12,
          12,
          16,
          16,
          16,
          15,
          11,
          4,
          6,
          13,
          9,
          15,
          2,
          7,
          7,
          0
         ],
         "xaxis": "x",
         "y": [
          11,
          1,
          1,
          16,
          0,
          5,
          11,
          1,
          16,
          6,
          8,
          11,
          1,
          4,
          10,
          3,
          10,
          13,
          2,
          11,
          11,
          9,
          2,
          2,
          9,
          8,
          5,
          4,
          9,
          4,
          3,
          2,
          0,
          9,
          3,
          5,
          4,
          6,
          12,
          15,
          12,
          8,
          14,
          12,
          10,
          7,
          10,
          10,
          8,
          8,
          19,
          10,
          9,
          11,
          12,
          19,
          6,
          54,
          1.146806982,
          0.573403491,
          9.652292101,
          0.081232161,
          0.621187115,
          1.767994098,
          30.34260141,
          1.099023358,
          24.46521562,
          5.781818536,
          2.867017456,
          0.286701746,
          1.433508728,
          0.095567249,
          0.430052618,
          0.191134497,
          44.62990506,
          7.167543639,
          10.99023358,
          9.891210222,
          8.505485118,
          7.932081627,
          13.85725104,
          0.66897074,
          1.003456109,
          24.84748462
         ],
         "yaxis": "y"
        },
        {
         "marker": {
          "color": "green",
          "line": {
           "color": "black",
           "width": 0.75
          },
          "size": 8
         },
         "mode": "markers",
         "type": "scatter",
         "x": [
          13.50241284,
          26.226747,
          40.16922191,
          17.61389885,
          17.44071451,
          28.51527099,
          18.97664203,
          22.62843127,
          12.1728465,
          30.0087205,
          22.64138239,
          14.55754522,
          17.368167,
          15.55997667,
          13.46084546,
          18.4752484,
          18.14047982,
          33.92324648,
          33.8450165,
          36.3888906,
          25.11357016,
          18.09402455,
          28.67073501,
          17.96195049,
          18.97694325,
          17.11961704,
          17.7118137,
          15.87946697,
          13.83735445,
          22.45108889,
          17.93292213,
          17.05017916,
          26.91024824,
          29.5480515,
          23.33326038,
          24.04145927,
          20.09307548,
          27.58632981,
          14.96508649,
          18.4310934,
          16.90380419,
          14.47894805,
          14.24059259,
          16.72850729,
          16.48250988,
          15.18425957,
          20.20922266,
          25.17772847,
          14.55499665,
          25.63026247,
          19.81278971,
          19.3706657,
          20.05253558,
          35.11575318,
          22.10290591,
          28.6977747,
          22.41016746,
          17.42026619,
          25.56877425,
          26.79307546,
          32.7798613,
          16.5949474,
          15.06676023,
          10.44216375,
          28.9176135,
          16.6924166,
          17.87216487,
          15.15018775,
          21.70243839,
          22.32769331,
          22.02979552,
          20.44289978,
          16.78646732,
          18.6320549,
          19.80732554,
          24.01264912,
          14.93163503,
          23.64995765,
          28.07126578,
          34.28517606,
          16.92333842,
          18.87771781,
          18.87771781,
          31.19126201
         ],
         "xaxis": "x2",
         "y": [
          11,
          1,
          1,
          16,
          0,
          5,
          11,
          1,
          16,
          6,
          8,
          11,
          1,
          4,
          10,
          3,
          10,
          13,
          2,
          11,
          11,
          9,
          2,
          2,
          9,
          8,
          5,
          4,
          9,
          4,
          3,
          2,
          0,
          9,
          3,
          5,
          4,
          6,
          12,
          15,
          12,
          8,
          14,
          12,
          10,
          7,
          10,
          10,
          8,
          8,
          19,
          10,
          9,
          11,
          12,
          19,
          6,
          54,
          1.146806982,
          0.573403491,
          9.652292101,
          0.081232161,
          0.621187115,
          1.767994098,
          30.34260141,
          1.099023358,
          24.46521562,
          5.781818536,
          2.867017456,
          0.286701746,
          1.433508728,
          0.095567249,
          0.430052618,
          0.191134497,
          44.62990506,
          7.167543639,
          10.99023358,
          9.891210222,
          8.505485118,
          7.932081627,
          13.85725104,
          0.66897074,
          1.003456109,
          24.84748462
         ],
         "yaxis": "y2"
        },
        {
         "marker": {
          "color": "orange",
          "line": {
           "color": "black",
           "width": 0.75
          },
          "size": 8
         },
         "mode": "markers",
         "type": "scatter",
         "x": [
          31,
          235,
          265,
          10,
          66,
          160,
          103,
          256,
          106,
          246,
          190,
          28,
          49,
          36,
          122,
          154,
          95,
          250,
          10,
          260,
          202,
          46,
          219,
          73,
          4,
          109,
          171,
          273,
          60,
          131,
          156,
          78,
          84,
          124,
          125,
          181,
          234,
          235,
          24,
          12,
          12,
          12,
          14,
          27,
          35,
          22,
          62,
          70,
          78,
          79,
          82,
          90,
          100,
          165,
          175,
          173,
          10,
          1,
          112,
          77,
          216,
          35,
          106,
          110,
          210,
          19,
          93,
          75,
          139,
          0,
          183,
          45,
          52,
          175,
          106,
          49,
          69,
          154,
          102,
          177,
          23,
          81,
          81,
          4
         ],
         "xaxis": "x3",
         "y": [
          11,
          1,
          1,
          16,
          0,
          5,
          11,
          1,
          16,
          6,
          8,
          11,
          1,
          4,
          10,
          3,
          10,
          13,
          2,
          11,
          11,
          9,
          2,
          2,
          9,
          8,
          5,
          4,
          9,
          4,
          3,
          2,
          0,
          9,
          3,
          5,
          4,
          6,
          12,
          15,
          12,
          8,
          14,
          12,
          10,
          7,
          10,
          10,
          8,
          8,
          19,
          10,
          9,
          11,
          12,
          19,
          6,
          54,
          1.146806982,
          0.573403491,
          9.652292101,
          0.081232161,
          0.621187115,
          1.767994098,
          30.34260141,
          1.099023358,
          24.46521562,
          5.781818536,
          2.867017456,
          0.286701746,
          1.433508728,
          0.095567249,
          0.430052618,
          0.191134497,
          44.62990506,
          7.167543639,
          10.99023358,
          9.891210222,
          8.505485118,
          7.932081627,
          13.85725104,
          0.66897074,
          1.003456109,
          24.84748462
         ],
         "yaxis": "y3"
        },
        {
         "marker": {
          "color": "purple",
          "line": {
           "color": "black",
           "width": 0.75
          },
          "size": 8
         },
         "mode": "markers",
         "type": "scatter",
         "x": [
          0.308785942,
          0.376271186,
          0.31622807,
          0.339401294,
          0.770581114,
          0.319067797,
          0.392857143,
          0.364203455,
          0.424424973,
          0.333264786,
          0.41812,
          0.309217391,
          0.338283828,
          0.446055556,
          0.287772277,
          0.358343057,
          0.325585229,
          0.349427481,
          0.327605191,
          0.348095624,
          0.382103004,
          0.335245474,
          0.37644,
          0.411290323,
          0.31124031,
          0.403448276,
          0.383913765,
          0.407981221,
          0.361979167,
          0.3525,
          0.374131274,
          0.394965278,
          0.417944094,
          0.341756421,
          0.324888227,
          0.306177261,
          0.331365314,
          0.333264786,
          0.317594255,
          0.394179894,
          0.387305699,
          0.398858075,
          0.467659574,
          0.327893175,
          0.288651316,
          0.301574803,
          0.332522303,
          0.357904085,
          0.433358434,
          0.321402484,
          0.332811276,
          0.35043755,
          0.375,
          0.416174298,
          0.349744712,
          0.346543002,
          0.384729981,
          0.607113655,
          0.447981366,
          0.340111353,
          0.293293718,
          0.361016949,
          0.562730627,
          0.330578512,
          0.334698436,
          0.346121057,
          0.356626506,
          0.306039106,
          0.385099025,
          0.408309456,
          0.331753555,
          0.409165979,
          0.352050114,
          0.371678056,
          0.509420796,
          0.383271375,
          0.389417989,
          0.342732327,
          0.33160828,
          0.373760331,
          0.346880131,
          0.423242468,
          0.423242468,
          0.347307692
         ],
         "xaxis": "x4",
         "y": [
          11,
          1,
          1,
          16,
          0,
          5,
          11,
          1,
          16,
          6,
          8,
          11,
          1,
          4,
          10,
          3,
          10,
          13,
          2,
          11,
          11,
          9,
          2,
          2,
          9,
          8,
          5,
          4,
          9,
          4,
          3,
          2,
          0,
          9,
          3,
          5,
          4,
          6,
          12,
          15,
          12,
          8,
          14,
          12,
          10,
          7,
          10,
          10,
          8,
          8,
          19,
          10,
          9,
          11,
          12,
          19,
          6,
          54,
          1.146806982,
          0.573403491,
          9.652292101,
          0.081232161,
          0.621187115,
          1.767994098,
          30.34260141,
          1.099023358,
          24.46521562,
          5.781818536,
          2.867017456,
          0.286701746,
          1.433508728,
          0.095567249,
          0.430052618,
          0.191134497,
          44.62990506,
          7.167543639,
          10.99023358,
          9.891210222,
          8.505485118,
          7.932081627,
          13.85725104,
          0.66897074,
          1.003456109,
          24.84748462
         ],
         "yaxis": "y4"
        }
       ],
       "layout": {
        "annotations": [
         {
          "font": {
           "size": 16
          },
          "showarrow": false,
          "text": "Age",
          "x": 0.10625,
          "xanchor": "center",
          "xref": "paper",
          "y": 1,
          "yanchor": "bottom",
          "yref": "paper"
         },
         {
          "font": {
           "size": 16
          },
          "showarrow": false,
          "text": "BMI",
          "x": 0.36875,
          "xanchor": "center",
          "xref": "paper",
          "y": 1,
          "yanchor": "bottom",
          "yref": "paper"
         },
         {
          "font": {
           "size": 16
          },
          "showarrow": false,
          "text": "Months",
          "x": 0.6312500000000001,
          "xanchor": "center",
          "xref": "paper",
          "y": 1,
          "yanchor": "bottom",
          "yref": "paper"
         },
         {
          "font": {
           "size": 16
          },
          "showarrow": false,
          "text": "FOHR",
          "x": 0.89375,
          "xanchor": "center",
          "xref": "paper",
          "y": 1,
          "yanchor": "bottom",
          "yref": "paper"
         },
         {
          "font": {
           "size": 16
          },
          "showarrow": false,
          "text": "Flow Rate",
          "textangle": -90,
          "x": 0,
          "xanchor": "right",
          "xref": "paper",
          "xshift": -40,
          "y": 0.5,
          "yanchor": "middle",
          "yref": "paper"
         }
        ],
        "plot_bgcolor": "white",
        "showlegend": false,
        "template": {
         "data": {
          "bar": [
           {
            "error_x": {
             "color": "#2a3f5f"
            },
            "error_y": {
             "color": "#2a3f5f"
            },
            "marker": {
             "line": {
              "color": "#E5ECF6",
              "width": 0.5
             },
             "pattern": {
              "fillmode": "overlay",
              "size": 10,
              "solidity": 0.2
             }
            },
            "type": "bar"
           }
          ],
          "barpolar": [
           {
            "marker": {
             "line": {
              "color": "#E5ECF6",
              "width": 0.5
             },
             "pattern": {
              "fillmode": "overlay",
              "size": 10,
              "solidity": 0.2
             }
            },
            "type": "barpolar"
           }
          ],
          "carpet": [
           {
            "aaxis": {
             "endlinecolor": "#2a3f5f",
             "gridcolor": "white",
             "linecolor": "white",
             "minorgridcolor": "white",
             "startlinecolor": "#2a3f5f"
            },
            "baxis": {
             "endlinecolor": "#2a3f5f",
             "gridcolor": "white",
             "linecolor": "white",
             "minorgridcolor": "white",
             "startlinecolor": "#2a3f5f"
            },
            "type": "carpet"
           }
          ],
          "choropleth": [
           {
            "colorbar": {
             "outlinewidth": 0,
             "ticks": ""
            },
            "type": "choropleth"
           }
          ],
          "contour": [
           {
            "colorbar": {
             "outlinewidth": 0,
             "ticks": ""
            },
            "colorscale": [
             [
              0,
              "#0d0887"
             ],
             [
              0.1111111111111111,
              "#46039f"
             ],
             [
              0.2222222222222222,
              "#7201a8"
             ],
             [
              0.3333333333333333,
              "#9c179e"
             ],
             [
              0.4444444444444444,
              "#bd3786"
             ],
             [
              0.5555555555555556,
              "#d8576b"
             ],
             [
              0.6666666666666666,
              "#ed7953"
             ],
             [
              0.7777777777777778,
              "#fb9f3a"
             ],
             [
              0.8888888888888888,
              "#fdca26"
             ],
             [
              1,
              "#f0f921"
             ]
            ],
            "type": "contour"
           }
          ],
          "contourcarpet": [
           {
            "colorbar": {
             "outlinewidth": 0,
             "ticks": ""
            },
            "type": "contourcarpet"
           }
          ],
          "heatmap": [
           {
            "colorbar": {
             "outlinewidth": 0,
             "ticks": ""
            },
            "colorscale": [
             [
              0,
              "#0d0887"
             ],
             [
              0.1111111111111111,
              "#46039f"
             ],
             [
              0.2222222222222222,
              "#7201a8"
             ],
             [
              0.3333333333333333,
              "#9c179e"
             ],
             [
              0.4444444444444444,
              "#bd3786"
             ],
             [
              0.5555555555555556,
              "#d8576b"
             ],
             [
              0.6666666666666666,
              "#ed7953"
             ],
             [
              0.7777777777777778,
              "#fb9f3a"
             ],
             [
              0.8888888888888888,
              "#fdca26"
             ],
             [
              1,
              "#f0f921"
             ]
            ],
            "type": "heatmap"
           }
          ],
          "heatmapgl": [
           {
            "colorbar": {
             "outlinewidth": 0,
             "ticks": ""
            },
            "colorscale": [
             [
              0,
              "#0d0887"
             ],
             [
              0.1111111111111111,
              "#46039f"
             ],
             [
              0.2222222222222222,
              "#7201a8"
             ],
             [
              0.3333333333333333,
              "#9c179e"
             ],
             [
              0.4444444444444444,
              "#bd3786"
             ],
             [
              0.5555555555555556,
              "#d8576b"
             ],
             [
              0.6666666666666666,
              "#ed7953"
             ],
             [
              0.7777777777777778,
              "#fb9f3a"
             ],
             [
              0.8888888888888888,
              "#fdca26"
             ],
             [
              1,
              "#f0f921"
             ]
            ],
            "type": "heatmapgl"
           }
          ],
          "histogram": [
           {
            "marker": {
             "pattern": {
              "fillmode": "overlay",
              "size": 10,
              "solidity": 0.2
             }
            },
            "type": "histogram"
           }
          ],
          "histogram2d": [
           {
            "colorbar": {
             "outlinewidth": 0,
             "ticks": ""
            },
            "colorscale": [
             [
              0,
              "#0d0887"
             ],
             [
              0.1111111111111111,
              "#46039f"
             ],
             [
              0.2222222222222222,
              "#7201a8"
             ],
             [
              0.3333333333333333,
              "#9c179e"
             ],
             [
              0.4444444444444444,
              "#bd3786"
             ],
             [
              0.5555555555555556,
              "#d8576b"
             ],
             [
              0.6666666666666666,
              "#ed7953"
             ],
             [
              0.7777777777777778,
              "#fb9f3a"
             ],
             [
              0.8888888888888888,
              "#fdca26"
             ],
             [
              1,
              "#f0f921"
             ]
            ],
            "type": "histogram2d"
           }
          ],
          "histogram2dcontour": [
           {
            "colorbar": {
             "outlinewidth": 0,
             "ticks": ""
            },
            "colorscale": [
             [
              0,
              "#0d0887"
             ],
             [
              0.1111111111111111,
              "#46039f"
             ],
             [
              0.2222222222222222,
              "#7201a8"
             ],
             [
              0.3333333333333333,
              "#9c179e"
             ],
             [
              0.4444444444444444,
              "#bd3786"
             ],
             [
              0.5555555555555556,
              "#d8576b"
             ],
             [
              0.6666666666666666,
              "#ed7953"
             ],
             [
              0.7777777777777778,
              "#fb9f3a"
             ],
             [
              0.8888888888888888,
              "#fdca26"
             ],
             [
              1,
              "#f0f921"
             ]
            ],
            "type": "histogram2dcontour"
           }
          ],
          "mesh3d": [
           {
            "colorbar": {
             "outlinewidth": 0,
             "ticks": ""
            },
            "type": "mesh3d"
           }
          ],
          "parcoords": [
           {
            "line": {
             "colorbar": {
              "outlinewidth": 0,
              "ticks": ""
             }
            },
            "type": "parcoords"
           }
          ],
          "pie": [
           {
            "automargin": true,
            "type": "pie"
           }
          ],
          "scatter": [
           {
            "marker": {
             "colorbar": {
              "outlinewidth": 0,
              "ticks": ""
             }
            },
            "type": "scatter"
           }
          ],
          "scatter3d": [
           {
            "line": {
             "colorbar": {
              "outlinewidth": 0,
              "ticks": ""
             }
            },
            "marker": {
             "colorbar": {
              "outlinewidth": 0,
              "ticks": ""
             }
            },
            "type": "scatter3d"
           }
          ],
          "scattercarpet": [
           {
            "marker": {
             "colorbar": {
              "outlinewidth": 0,
              "ticks": ""
             }
            },
            "type": "scattercarpet"
           }
          ],
          "scattergeo": [
           {
            "marker": {
             "colorbar": {
              "outlinewidth": 0,
              "ticks": ""
             }
            },
            "type": "scattergeo"
           }
          ],
          "scattergl": [
           {
            "marker": {
             "colorbar": {
              "outlinewidth": 0,
              "ticks": ""
             }
            },
            "type": "scattergl"
           }
          ],
          "scattermapbox": [
           {
            "marker": {
             "colorbar": {
              "outlinewidth": 0,
              "ticks": ""
             }
            },
            "type": "scattermapbox"
           }
          ],
          "scatterpolar": [
           {
            "marker": {
             "colorbar": {
              "outlinewidth": 0,
              "ticks": ""
             }
            },
            "type": "scatterpolar"
           }
          ],
          "scatterpolargl": [
           {
            "marker": {
             "colorbar": {
              "outlinewidth": 0,
              "ticks": ""
             }
            },
            "type": "scatterpolargl"
           }
          ],
          "scatterternary": [
           {
            "marker": {
             "colorbar": {
              "outlinewidth": 0,
              "ticks": ""
             }
            },
            "type": "scatterternary"
           }
          ],
          "surface": [
           {
            "colorbar": {
             "outlinewidth": 0,
             "ticks": ""
            },
            "colorscale": [
             [
              0,
              "#0d0887"
             ],
             [
              0.1111111111111111,
              "#46039f"
             ],
             [
              0.2222222222222222,
              "#7201a8"
             ],
             [
              0.3333333333333333,
              "#9c179e"
             ],
             [
              0.4444444444444444,
              "#bd3786"
             ],
             [
              0.5555555555555556,
              "#d8576b"
             ],
             [
              0.6666666666666666,
              "#ed7953"
             ],
             [
              0.7777777777777778,
              "#fb9f3a"
             ],
             [
              0.8888888888888888,
              "#fdca26"
             ],
             [
              1,
              "#f0f921"
             ]
            ],
            "type": "surface"
           }
          ],
          "table": [
           {
            "cells": {
             "fill": {
              "color": "#EBF0F8"
             },
             "line": {
              "color": "white"
             }
            },
            "header": {
             "fill": {
              "color": "#C8D4E3"
             },
             "line": {
              "color": "white"
             }
            },
            "type": "table"
           }
          ]
         },
         "layout": {
          "annotationdefaults": {
           "arrowcolor": "#2a3f5f",
           "arrowhead": 0,
           "arrowwidth": 1
          },
          "autotypenumbers": "strict",
          "coloraxis": {
           "colorbar": {
            "outlinewidth": 0,
            "ticks": ""
           }
          },
          "colorscale": {
           "diverging": [
            [
             0,
             "#8e0152"
            ],
            [
             0.1,
             "#c51b7d"
            ],
            [
             0.2,
             "#de77ae"
            ],
            [
             0.3,
             "#f1b6da"
            ],
            [
             0.4,
             "#fde0ef"
            ],
            [
             0.5,
             "#f7f7f7"
            ],
            [
             0.6,
             "#e6f5d0"
            ],
            [
             0.7,
             "#b8e186"
            ],
            [
             0.8,
             "#7fbc41"
            ],
            [
             0.9,
             "#4d9221"
            ],
            [
             1,
             "#276419"
            ]
           ],
           "sequential": [
            [
             0,
             "#0d0887"
            ],
            [
             0.1111111111111111,
             "#46039f"
            ],
            [
             0.2222222222222222,
             "#7201a8"
            ],
            [
             0.3333333333333333,
             "#9c179e"
            ],
            [
             0.4444444444444444,
             "#bd3786"
            ],
            [
             0.5555555555555556,
             "#d8576b"
            ],
            [
             0.6666666666666666,
             "#ed7953"
            ],
            [
             0.7777777777777778,
             "#fb9f3a"
            ],
            [
             0.8888888888888888,
             "#fdca26"
            ],
            [
             1,
             "#f0f921"
            ]
           ],
           "sequentialminus": [
            [
             0,
             "#0d0887"
            ],
            [
             0.1111111111111111,
             "#46039f"
            ],
            [
             0.2222222222222222,
             "#7201a8"
            ],
            [
             0.3333333333333333,
             "#9c179e"
            ],
            [
             0.4444444444444444,
             "#bd3786"
            ],
            [
             0.5555555555555556,
             "#d8576b"
            ],
            [
             0.6666666666666666,
             "#ed7953"
            ],
            [
             0.7777777777777778,
             "#fb9f3a"
            ],
            [
             0.8888888888888888,
             "#fdca26"
            ],
            [
             1,
             "#f0f921"
            ]
           ]
          },
          "colorway": [
           "#636efa",
           "#EF553B",
           "#00cc96",
           "#ab63fa",
           "#FFA15A",
           "#19d3f3",
           "#FF6692",
           "#B6E880",
           "#FF97FF",
           "#FECB52"
          ],
          "font": {
           "color": "#2a3f5f"
          },
          "geo": {
           "bgcolor": "white",
           "lakecolor": "white",
           "landcolor": "#E5ECF6",
           "showlakes": true,
           "showland": true,
           "subunitcolor": "white"
          },
          "hoverlabel": {
           "align": "left"
          },
          "hovermode": "closest",
          "mapbox": {
           "style": "light"
          },
          "paper_bgcolor": "white",
          "plot_bgcolor": "#E5ECF6",
          "polar": {
           "angularaxis": {
            "gridcolor": "white",
            "linecolor": "white",
            "ticks": ""
           },
           "bgcolor": "#E5ECF6",
           "radialaxis": {
            "gridcolor": "white",
            "linecolor": "white",
            "ticks": ""
           }
          },
          "scene": {
           "xaxis": {
            "backgroundcolor": "#E5ECF6",
            "gridcolor": "white",
            "gridwidth": 2,
            "linecolor": "white",
            "showbackground": true,
            "ticks": "",
            "zerolinecolor": "white"
           },
           "yaxis": {
            "backgroundcolor": "#E5ECF6",
            "gridcolor": "white",
            "gridwidth": 2,
            "linecolor": "white",
            "showbackground": true,
            "ticks": "",
            "zerolinecolor": "white"
           },
           "zaxis": {
            "backgroundcolor": "#E5ECF6",
            "gridcolor": "white",
            "gridwidth": 2,
            "linecolor": "white",
            "showbackground": true,
            "ticks": "",
            "zerolinecolor": "white"
           }
          },
          "shapedefaults": {
           "line": {
            "color": "#2a3f5f"
           }
          },
          "ternary": {
           "aaxis": {
            "gridcolor": "white",
            "linecolor": "white",
            "ticks": ""
           },
           "baxis": {
            "gridcolor": "white",
            "linecolor": "white",
            "ticks": ""
           },
           "bgcolor": "#E5ECF6",
           "caxis": {
            "gridcolor": "white",
            "linecolor": "white",
            "ticks": ""
           }
          },
          "title": {
           "x": 0.05
          },
          "xaxis": {
           "automargin": true,
           "gridcolor": "white",
           "linecolor": "white",
           "ticks": "",
           "title": {
            "standoff": 15
           },
           "zerolinecolor": "white",
           "zerolinewidth": 2
          },
          "yaxis": {
           "automargin": true,
           "gridcolor": "white",
           "linecolor": "white",
           "ticks": "",
           "title": {
            "standoff": 15
           },
           "zerolinecolor": "white",
           "zerolinewidth": 2
          }
         }
        },
        "title": {
         "text": ""
        },
        "xaxis": {
         "anchor": "y",
         "domain": [
          0,
          0.2125
         ],
         "gridcolor": "lightgray",
         "gridwidth": 0.5,
         "linecolor": "black",
         "linewidth": 1.5,
         "showgrid": true,
         "showline": true,
         "ticks": "outside"
        },
        "xaxis2": {
         "anchor": "y2",
         "domain": [
          0.2625,
          0.475
         ],
         "gridcolor": "lightgray",
         "gridwidth": 0.5,
         "linecolor": "black",
         "linewidth": 1.5,
         "showgrid": true,
         "showline": true,
         "ticks": "outside"
        },
        "xaxis3": {
         "anchor": "y3",
         "domain": [
          0.525,
          0.7375
         ],
         "gridcolor": "lightgray",
         "gridwidth": 0.5,
         "linecolor": "black",
         "linewidth": 1.5,
         "showgrid": true,
         "showline": true,
         "ticks": "outside"
        },
        "xaxis4": {
         "anchor": "y4",
         "domain": [
          0.7875,
          1
         ],
         "gridcolor": "lightgray",
         "gridwidth": 0.5,
         "linecolor": "black",
         "linewidth": 1.5,
         "showgrid": true,
         "showline": true,
         "ticks": "outside"
        },
        "yaxis": {
         "anchor": "x",
         "domain": [
          0,
          1
         ],
         "gridcolor": "lightgray",
         "gridwidth": 0.5,
         "linecolor": "black",
         "linewidth": 1.5,
         "showgrid": true,
         "showline": true,
         "ticks": "inside"
        },
        "yaxis2": {
         "anchor": "x2",
         "domain": [
          0,
          1
         ],
         "gridcolor": "lightgray",
         "gridwidth": 0.5,
         "linecolor": "black",
         "linewidth": 1.5,
         "showgrid": true,
         "showline": true,
         "ticks": "inside"
        },
        "yaxis3": {
         "anchor": "x3",
         "domain": [
          0,
          1
         ],
         "gridcolor": "lightgray",
         "gridwidth": 0.5,
         "linecolor": "black",
         "linewidth": 1.5,
         "showgrid": true,
         "showline": true,
         "ticks": "inside"
        },
        "yaxis4": {
         "anchor": "x4",
         "domain": [
          0,
          1
         ],
         "gridcolor": "lightgray",
         "gridwidth": 0.5,
         "linecolor": "black",
         "linewidth": 1.5,
         "showgrid": true,
         "showline": true,
         "ticks": "inside"
        }
       }
      }
     },
     "metadata": {},
     "output_type": "display_data"
    }
   ],
   "source": [
    "SubPlot = make_subplots(rows = 1, cols = 4,\n",
    "y_title= \"Flow Rate\", x_title=\"\", subplot_titles= (\"Age\", \"BMI\", \"Months\", \"FOHR\")   \n",
    "                     )\n",
    "\n",
    "SubPlot.update_layout(showlegend = False, title = \"\", plot_bgcolor = 'white')\n",
    "\n",
    "SubPlot.update_xaxes(showline = True, linecolor = 'black', linewidth = 1.5, ticks = \"outside\", showgrid = True, gridcolor = \"lightgray\", gridwidth = .5)\n",
    "SubPlot.update_yaxes(showline = True, linecolor = 'black', linewidth = 1.5, ticks = \"inside\", showgrid = True, gridcolor = \"lightgray\", gridwidth = .5)\n",
    "\n",
    "SubPlot.append_trace(go.Scatter(x = DataSet['Age'], y = DataSet[\"FR\"], mode = \"markers\", marker = dict(color = \"red\")), row = 1, col = 1)\n",
    "SubPlot.append_trace(go.Scatter(x = DataSet['BMI'], y = DataSet[\"FR\"], mode = \"markers\", marker = dict(color = \"green\")), row = 1, col = 2)\n",
    "SubPlot.append_trace(go.Scatter(x = DataSet['Months'], y = DataSet[\"FR\"], mode = \"markers\", marker = dict(color = \"orange\")), row = 1, col = 3)\n",
    "SubPlot.append_trace(go.Scatter(x = DataSet['FOHR'], y = DataSet[\"FR\"], mode = \"markers\", marker = dict(color = \"purple\")), row = 1, col =4)\n",
    "\n",
    "SubPlot.update_traces(marker = dict(size = 8, line = dict(width = .75, color = \"black\")))\n"
   ]
  },
  {
   "cell_type": "code",
   "execution_count": 234,
   "metadata": {},
   "outputs": [
    {
     "data": {
      "application/vnd.plotly.v1+json": {
       "config": {
        "plotlyServerURL": "https://plot.ly"
       },
       "data": [
        {
         "hovertemplate": "Etiology=NTD<br>FOHR=%{x}<br>Age=%{y}<br>FR=%{z}<extra></extra>",
         "legendgroup": "NTD",
         "marker": {
          "color": "#636efa",
          "size": 5,
          "symbol": "circle"
         },
         "mode": "markers",
         "name": "NTD",
         "opacity": 0.75,
         "scene": "scene",
         "showlegend": true,
         "type": "scatter3d",
         "x": [
          0.308785942,
          0.376271186,
          0.41812,
          0.338283828,
          0.358343057,
          0.348095624,
          0.382103004,
          0.37644,
          0.3525,
          0.374131274,
          0.331365314,
          0.321402484,
          0.332811276,
          0.35043755,
          0.330578512,
          0.346121057,
          0.356626506,
          0.306039106,
          0.385099025,
          0.373760331
         ],
         "y": [
          2.627777778,
          20.63055556,
          15.91666667,
          4.130555556,
          13.14444444,
          21.67222222,
          16.925,
          18.33611111,
          10.97222222,
          13.49444444,
          19.57222222,
          6.661111111,
          6.891666667,
          7.502777778,
          9,
          2,
          8,
          6,
          12,
          15
         ],
         "z": [
          11,
          1,
          8,
          1,
          3,
          11,
          11,
          2,
          4,
          3,
          4,
          8,
          19,
          10,
          1.767994098,
          1.099023358,
          24.46521562,
          5.781818536,
          2.867017456,
          7.932081627
         ]
        },
        {
         "hovertemplate": "Etiology=OTHER<br>FOHR=%{x}<br>Age=%{y}<br>FR=%{z}<extra></extra>",
         "legendgroup": "OTHER",
         "marker": {
          "color": "#EF553B",
          "size": 5,
          "symbol": "circle"
         },
         "mode": "markers",
         "name": "OTHER",
         "opacity": 0.75,
         "scene": "scene",
         "showlegend": true,
         "type": "scatter3d",
         "x": [
          0.31622807,
          0.446055556,
          0.325585229,
          0.349427481,
          0.327605191,
          0.31124031,
          0.361979167,
          0.417944094,
          0.341756421,
          0.324888227,
          0.394179894,
          0.387305699,
          0.398858075,
          0.467659574,
          0.327893175,
          0.301574803,
          0.332522303,
          0.357904085,
          0.433358434,
          0.416174298,
          0.349744712,
          0.346543002,
          0.384729981,
          0.607113655,
          0.340111353,
          0.334698436,
          0.408309456,
          0.409165979,
          0.352050114,
          0.371678056,
          0.509420796,
          0.383271375,
          0.389417989,
          0.346880131,
          0.423242468,
          0.423242468
         ],
         "y": [
          23.10277778,
          3.369444444,
          8.025,
          20.92222222,
          14.49166667,
          4.988888889,
          5.227777778,
          13.85555556,
          24.87777778,
          11.43888889,
          1.105555556,
          1.244444444,
          1.605555556,
          1.786111111,
          2.833333333,
          3.155555556,
          5.677777778,
          6.022222222,
          6.575,
          14.31111111,
          15.51111111,
          16.78888889,
          18.92222222,
          0.916666667,
          7,
          18,
          12,
          16,
          16,
          15,
          11,
          4,
          6,
          2,
          7,
          7
         ],
         "z": [
          1,
          4,
          10,
          13,
          2,
          9,
          9,
          0,
          9,
          3,
          15,
          12,
          8,
          14,
          12,
          7,
          10,
          10,
          8,
          11,
          12,
          19,
          6,
          54,
          0.573403491,
          30.34260141,
          0.286701746,
          0.095567249,
          0.430052618,
          0.191134497,
          44.62990506,
          7.167543639,
          10.99023358,
          13.85725104,
          0.66897074,
          1.003456109
         ]
        },
        {
         "hovertemplate": "Etiology=IVH<br>FOHR=%{x}<br>Age=%{y}<br>FR=%{z}<extra></extra>",
         "legendgroup": "IVH",
         "marker": {
          "color": "#00cc96",
          "size": 5,
          "symbol": "circle"
         },
         "mode": "markers",
         "name": "IVH",
         "opacity": 0.75,
         "scene": "scene",
         "showlegend": true,
         "type": "scatter3d",
         "x": [
          0.339401294,
          0.770581114,
          0.319067797,
          0.392857143,
          0.364203455,
          0.424424973,
          0.333264786,
          0.309217391,
          0.287772277,
          0.335245474,
          0.411290323,
          0.403448276,
          0.383913765,
          0.407981221,
          0.394965278,
          0.306177261,
          0.333264786,
          0.317594255,
          0.288651316,
          0.375,
          0.447981366,
          0.293293718,
          0.361016949,
          0.562730627,
          0.331753555,
          0.342732327,
          0.33160828,
          0.347307692
         ],
         "y": [
          9.905555556,
          5.716666667,
          13.53055556,
          8.636111111,
          21.35,
          8.894444444,
          20.58888889,
          2.516666667,
          10.57777778,
          3.908333333,
          6.147222222,
          9.252777778,
          14.40833333,
          23.03333333,
          12.83611111,
          15.21111111,
          19.64722222,
          2.141666667,
          2.958333333,
          8.475,
          10,
          18,
          4,
          9,
          16,
          13,
          9,
          0
         ],
         "z": [
          16,
          0,
          5,
          11,
          1,
          16,
          6,
          11,
          10,
          9,
          2,
          8,
          5,
          4,
          2,
          5,
          6,
          12,
          10,
          9,
          1.146806982,
          9.652292101,
          0.081232161,
          0.621187115,
          1.433508728,
          9.891210222,
          8.505485118,
          24.84748462
         ]
        }
       ],
       "layout": {
        "legend": {
         "title": {
          "text": "Etiology"
         },
         "tracegroupgap": 0
        },
        "margin": {
         "t": 60
        },
        "scene": {
         "domain": {
          "x": [
           0,
           1
          ],
          "y": [
           0,
           1
          ]
         },
         "xaxis": {
          "title": {
           "text": "FOHR"
          }
         },
         "yaxis": {
          "title": {
           "text": "Age"
          }
         },
         "zaxis": {
          "title": {
           "text": "FR"
          }
         }
        },
        "template": {
         "data": {
          "bar": [
           {
            "error_x": {
             "color": "#2a3f5f"
            },
            "error_y": {
             "color": "#2a3f5f"
            },
            "marker": {
             "line": {
              "color": "#E5ECF6",
              "width": 0.5
             },
             "pattern": {
              "fillmode": "overlay",
              "size": 10,
              "solidity": 0.2
             }
            },
            "type": "bar"
           }
          ],
          "barpolar": [
           {
            "marker": {
             "line": {
              "color": "#E5ECF6",
              "width": 0.5
             },
             "pattern": {
              "fillmode": "overlay",
              "size": 10,
              "solidity": 0.2
             }
            },
            "type": "barpolar"
           }
          ],
          "carpet": [
           {
            "aaxis": {
             "endlinecolor": "#2a3f5f",
             "gridcolor": "white",
             "linecolor": "white",
             "minorgridcolor": "white",
             "startlinecolor": "#2a3f5f"
            },
            "baxis": {
             "endlinecolor": "#2a3f5f",
             "gridcolor": "white",
             "linecolor": "white",
             "minorgridcolor": "white",
             "startlinecolor": "#2a3f5f"
            },
            "type": "carpet"
           }
          ],
          "choropleth": [
           {
            "colorbar": {
             "outlinewidth": 0,
             "ticks": ""
            },
            "type": "choropleth"
           }
          ],
          "contour": [
           {
            "colorbar": {
             "outlinewidth": 0,
             "ticks": ""
            },
            "colorscale": [
             [
              0,
              "#0d0887"
             ],
             [
              0.1111111111111111,
              "#46039f"
             ],
             [
              0.2222222222222222,
              "#7201a8"
             ],
             [
              0.3333333333333333,
              "#9c179e"
             ],
             [
              0.4444444444444444,
              "#bd3786"
             ],
             [
              0.5555555555555556,
              "#d8576b"
             ],
             [
              0.6666666666666666,
              "#ed7953"
             ],
             [
              0.7777777777777778,
              "#fb9f3a"
             ],
             [
              0.8888888888888888,
              "#fdca26"
             ],
             [
              1,
              "#f0f921"
             ]
            ],
            "type": "contour"
           }
          ],
          "contourcarpet": [
           {
            "colorbar": {
             "outlinewidth": 0,
             "ticks": ""
            },
            "type": "contourcarpet"
           }
          ],
          "heatmap": [
           {
            "colorbar": {
             "outlinewidth": 0,
             "ticks": ""
            },
            "colorscale": [
             [
              0,
              "#0d0887"
             ],
             [
              0.1111111111111111,
              "#46039f"
             ],
             [
              0.2222222222222222,
              "#7201a8"
             ],
             [
              0.3333333333333333,
              "#9c179e"
             ],
             [
              0.4444444444444444,
              "#bd3786"
             ],
             [
              0.5555555555555556,
              "#d8576b"
             ],
             [
              0.6666666666666666,
              "#ed7953"
             ],
             [
              0.7777777777777778,
              "#fb9f3a"
             ],
             [
              0.8888888888888888,
              "#fdca26"
             ],
             [
              1,
              "#f0f921"
             ]
            ],
            "type": "heatmap"
           }
          ],
          "heatmapgl": [
           {
            "colorbar": {
             "outlinewidth": 0,
             "ticks": ""
            },
            "colorscale": [
             [
              0,
              "#0d0887"
             ],
             [
              0.1111111111111111,
              "#46039f"
             ],
             [
              0.2222222222222222,
              "#7201a8"
             ],
             [
              0.3333333333333333,
              "#9c179e"
             ],
             [
              0.4444444444444444,
              "#bd3786"
             ],
             [
              0.5555555555555556,
              "#d8576b"
             ],
             [
              0.6666666666666666,
              "#ed7953"
             ],
             [
              0.7777777777777778,
              "#fb9f3a"
             ],
             [
              0.8888888888888888,
              "#fdca26"
             ],
             [
              1,
              "#f0f921"
             ]
            ],
            "type": "heatmapgl"
           }
          ],
          "histogram": [
           {
            "marker": {
             "pattern": {
              "fillmode": "overlay",
              "size": 10,
              "solidity": 0.2
             }
            },
            "type": "histogram"
           }
          ],
          "histogram2d": [
           {
            "colorbar": {
             "outlinewidth": 0,
             "ticks": ""
            },
            "colorscale": [
             [
              0,
              "#0d0887"
             ],
             [
              0.1111111111111111,
              "#46039f"
             ],
             [
              0.2222222222222222,
              "#7201a8"
             ],
             [
              0.3333333333333333,
              "#9c179e"
             ],
             [
              0.4444444444444444,
              "#bd3786"
             ],
             [
              0.5555555555555556,
              "#d8576b"
             ],
             [
              0.6666666666666666,
              "#ed7953"
             ],
             [
              0.7777777777777778,
              "#fb9f3a"
             ],
             [
              0.8888888888888888,
              "#fdca26"
             ],
             [
              1,
              "#f0f921"
             ]
            ],
            "type": "histogram2d"
           }
          ],
          "histogram2dcontour": [
           {
            "colorbar": {
             "outlinewidth": 0,
             "ticks": ""
            },
            "colorscale": [
             [
              0,
              "#0d0887"
             ],
             [
              0.1111111111111111,
              "#46039f"
             ],
             [
              0.2222222222222222,
              "#7201a8"
             ],
             [
              0.3333333333333333,
              "#9c179e"
             ],
             [
              0.4444444444444444,
              "#bd3786"
             ],
             [
              0.5555555555555556,
              "#d8576b"
             ],
             [
              0.6666666666666666,
              "#ed7953"
             ],
             [
              0.7777777777777778,
              "#fb9f3a"
             ],
             [
              0.8888888888888888,
              "#fdca26"
             ],
             [
              1,
              "#f0f921"
             ]
            ],
            "type": "histogram2dcontour"
           }
          ],
          "mesh3d": [
           {
            "colorbar": {
             "outlinewidth": 0,
             "ticks": ""
            },
            "type": "mesh3d"
           }
          ],
          "parcoords": [
           {
            "line": {
             "colorbar": {
              "outlinewidth": 0,
              "ticks": ""
             }
            },
            "type": "parcoords"
           }
          ],
          "pie": [
           {
            "automargin": true,
            "type": "pie"
           }
          ],
          "scatter": [
           {
            "marker": {
             "colorbar": {
              "outlinewidth": 0,
              "ticks": ""
             }
            },
            "type": "scatter"
           }
          ],
          "scatter3d": [
           {
            "line": {
             "colorbar": {
              "outlinewidth": 0,
              "ticks": ""
             }
            },
            "marker": {
             "colorbar": {
              "outlinewidth": 0,
              "ticks": ""
             }
            },
            "type": "scatter3d"
           }
          ],
          "scattercarpet": [
           {
            "marker": {
             "colorbar": {
              "outlinewidth": 0,
              "ticks": ""
             }
            },
            "type": "scattercarpet"
           }
          ],
          "scattergeo": [
           {
            "marker": {
             "colorbar": {
              "outlinewidth": 0,
              "ticks": ""
             }
            },
            "type": "scattergeo"
           }
          ],
          "scattergl": [
           {
            "marker": {
             "colorbar": {
              "outlinewidth": 0,
              "ticks": ""
             }
            },
            "type": "scattergl"
           }
          ],
          "scattermapbox": [
           {
            "marker": {
             "colorbar": {
              "outlinewidth": 0,
              "ticks": ""
             }
            },
            "type": "scattermapbox"
           }
          ],
          "scatterpolar": [
           {
            "marker": {
             "colorbar": {
              "outlinewidth": 0,
              "ticks": ""
             }
            },
            "type": "scatterpolar"
           }
          ],
          "scatterpolargl": [
           {
            "marker": {
             "colorbar": {
              "outlinewidth": 0,
              "ticks": ""
             }
            },
            "type": "scatterpolargl"
           }
          ],
          "scatterternary": [
           {
            "marker": {
             "colorbar": {
              "outlinewidth": 0,
              "ticks": ""
             }
            },
            "type": "scatterternary"
           }
          ],
          "surface": [
           {
            "colorbar": {
             "outlinewidth": 0,
             "ticks": ""
            },
            "colorscale": [
             [
              0,
              "#0d0887"
             ],
             [
              0.1111111111111111,
              "#46039f"
             ],
             [
              0.2222222222222222,
              "#7201a8"
             ],
             [
              0.3333333333333333,
              "#9c179e"
             ],
             [
              0.4444444444444444,
              "#bd3786"
             ],
             [
              0.5555555555555556,
              "#d8576b"
             ],
             [
              0.6666666666666666,
              "#ed7953"
             ],
             [
              0.7777777777777778,
              "#fb9f3a"
             ],
             [
              0.8888888888888888,
              "#fdca26"
             ],
             [
              1,
              "#f0f921"
             ]
            ],
            "type": "surface"
           }
          ],
          "table": [
           {
            "cells": {
             "fill": {
              "color": "#EBF0F8"
             },
             "line": {
              "color": "white"
             }
            },
            "header": {
             "fill": {
              "color": "#C8D4E3"
             },
             "line": {
              "color": "white"
             }
            },
            "type": "table"
           }
          ]
         },
         "layout": {
          "annotationdefaults": {
           "arrowcolor": "#2a3f5f",
           "arrowhead": 0,
           "arrowwidth": 1
          },
          "autotypenumbers": "strict",
          "coloraxis": {
           "colorbar": {
            "outlinewidth": 0,
            "ticks": ""
           }
          },
          "colorscale": {
           "diverging": [
            [
             0,
             "#8e0152"
            ],
            [
             0.1,
             "#c51b7d"
            ],
            [
             0.2,
             "#de77ae"
            ],
            [
             0.3,
             "#f1b6da"
            ],
            [
             0.4,
             "#fde0ef"
            ],
            [
             0.5,
             "#f7f7f7"
            ],
            [
             0.6,
             "#e6f5d0"
            ],
            [
             0.7,
             "#b8e186"
            ],
            [
             0.8,
             "#7fbc41"
            ],
            [
             0.9,
             "#4d9221"
            ],
            [
             1,
             "#276419"
            ]
           ],
           "sequential": [
            [
             0,
             "#0d0887"
            ],
            [
             0.1111111111111111,
             "#46039f"
            ],
            [
             0.2222222222222222,
             "#7201a8"
            ],
            [
             0.3333333333333333,
             "#9c179e"
            ],
            [
             0.4444444444444444,
             "#bd3786"
            ],
            [
             0.5555555555555556,
             "#d8576b"
            ],
            [
             0.6666666666666666,
             "#ed7953"
            ],
            [
             0.7777777777777778,
             "#fb9f3a"
            ],
            [
             0.8888888888888888,
             "#fdca26"
            ],
            [
             1,
             "#f0f921"
            ]
           ],
           "sequentialminus": [
            [
             0,
             "#0d0887"
            ],
            [
             0.1111111111111111,
             "#46039f"
            ],
            [
             0.2222222222222222,
             "#7201a8"
            ],
            [
             0.3333333333333333,
             "#9c179e"
            ],
            [
             0.4444444444444444,
             "#bd3786"
            ],
            [
             0.5555555555555556,
             "#d8576b"
            ],
            [
             0.6666666666666666,
             "#ed7953"
            ],
            [
             0.7777777777777778,
             "#fb9f3a"
            ],
            [
             0.8888888888888888,
             "#fdca26"
            ],
            [
             1,
             "#f0f921"
            ]
           ]
          },
          "colorway": [
           "#636efa",
           "#EF553B",
           "#00cc96",
           "#ab63fa",
           "#FFA15A",
           "#19d3f3",
           "#FF6692",
           "#B6E880",
           "#FF97FF",
           "#FECB52"
          ],
          "font": {
           "color": "#2a3f5f"
          },
          "geo": {
           "bgcolor": "white",
           "lakecolor": "white",
           "landcolor": "#E5ECF6",
           "showlakes": true,
           "showland": true,
           "subunitcolor": "white"
          },
          "hoverlabel": {
           "align": "left"
          },
          "hovermode": "closest",
          "mapbox": {
           "style": "light"
          },
          "paper_bgcolor": "white",
          "plot_bgcolor": "#E5ECF6",
          "polar": {
           "angularaxis": {
            "gridcolor": "white",
            "linecolor": "white",
            "ticks": ""
           },
           "bgcolor": "#E5ECF6",
           "radialaxis": {
            "gridcolor": "white",
            "linecolor": "white",
            "ticks": ""
           }
          },
          "scene": {
           "xaxis": {
            "backgroundcolor": "#E5ECF6",
            "gridcolor": "white",
            "gridwidth": 2,
            "linecolor": "white",
            "showbackground": true,
            "ticks": "",
            "zerolinecolor": "white"
           },
           "yaxis": {
            "backgroundcolor": "#E5ECF6",
            "gridcolor": "white",
            "gridwidth": 2,
            "linecolor": "white",
            "showbackground": true,
            "ticks": "",
            "zerolinecolor": "white"
           },
           "zaxis": {
            "backgroundcolor": "#E5ECF6",
            "gridcolor": "white",
            "gridwidth": 2,
            "linecolor": "white",
            "showbackground": true,
            "ticks": "",
            "zerolinecolor": "white"
           }
          },
          "shapedefaults": {
           "line": {
            "color": "#2a3f5f"
           }
          },
          "ternary": {
           "aaxis": {
            "gridcolor": "white",
            "linecolor": "white",
            "ticks": ""
           },
           "baxis": {
            "gridcolor": "white",
            "linecolor": "white",
            "ticks": ""
           },
           "bgcolor": "#E5ECF6",
           "caxis": {
            "gridcolor": "white",
            "linecolor": "white",
            "ticks": ""
           }
          },
          "title": {
           "x": 0.05
          },
          "xaxis": {
           "automargin": true,
           "gridcolor": "white",
           "linecolor": "white",
           "ticks": "",
           "title": {
            "standoff": 15
           },
           "zerolinecolor": "white",
           "zerolinewidth": 2
          },
          "yaxis": {
           "automargin": true,
           "gridcolor": "white",
           "linecolor": "white",
           "ticks": "",
           "title": {
            "standoff": 15
           },
           "zerolinecolor": "white",
           "zerolinewidth": 2
          }
         }
        }
       }
      }
     },
     "metadata": {},
     "output_type": "display_data"
    }
   ],
   "source": [
    "Plot3D = px.scatter_3d(DataSet, x = \"FOHR\", y = \"Age\", z = \"FR\", color = \"Etiology\")\n",
    "Plot3D.update_traces(marker_size = 5, opacity = 0.75)\n",
    "Plot3D.show()"
   ]
  },
  {
   "cell_type": "code",
   "execution_count": 180,
   "metadata": {},
   "outputs": [],
   "source": [
    "from sklearn import linear_model"
   ]
  },
  {
   "cell_type": "code",
   "execution_count": 236,
   "metadata": {},
   "outputs": [
    {
     "data": {
      "application/vnd.plotly.v1+json": {
       "config": {
        "plotlyServerURL": "https://plot.ly"
       },
       "data": [
        {
         "diagonal": {
          "visible": false
         },
         "dimensions": [
          {
           "axis": {
            "matches": true
           },
           "label": "Age",
           "values": [
            2.627777778,
            20.63055556,
            15.91666667,
            4.130555556,
            13.14444444,
            21.67222222,
            16.925,
            18.33611111,
            10.97222222,
            13.49444444,
            19.57222222,
            6.661111111,
            6.891666667,
            7.502777778,
            9,
            2,
            8,
            6,
            12,
            15
           ]
          },
          {
           "axis": {
            "matches": true
           },
           "label": "BMI",
           "values": [
            13.50241284,
            26.226747,
            22.64138239,
            17.368167,
            18.4752484,
            36.3888906,
            25.11357016,
            28.67073501,
            22.45108889,
            17.93292213,
            20.09307548,
            25.63026247,
            19.81278971,
            19.3706657,
            10.44216375,
            16.6924166,
            17.87216487,
            15.15018775,
            21.70243839,
            34.28517606
           ]
          },
          {
           "axis": {
            "matches": true
           },
           "label": "Months",
           "values": [
            31,
            235,
            190,
            49,
            154,
            260,
            202,
            219,
            131,
            156,
            234,
            79,
            82,
            90,
            110,
            19,
            93,
            75,
            139,
            177
           ]
          },
          {
           "axis": {
            "matches": true
           },
           "label": "FR",
           "values": [
            11,
            1,
            8,
            1,
            3,
            11,
            11,
            2,
            4,
            3,
            4,
            8,
            19,
            10,
            1.767994098,
            1.099023358,
            24.46521562,
            5.781818536,
            2.867017456,
            7.932081627
           ]
          },
          {
           "axis": {
            "matches": true
           },
           "label": "FOHR",
           "values": [
            0.308785942,
            0.376271186,
            0.41812,
            0.338283828,
            0.358343057,
            0.348095624,
            0.382103004,
            0.37644,
            0.3525,
            0.374131274,
            0.331365314,
            0.321402484,
            0.332811276,
            0.35043755,
            0.330578512,
            0.346121057,
            0.356626506,
            0.306039106,
            0.385099025,
            0.373760331
           ]
          },
          {
           "axis": {
            "matches": true
           },
           "label": "Etiology",
           "values": [
            "NTD",
            "NTD",
            "NTD",
            "NTD",
            "NTD",
            "NTD",
            "NTD",
            "NTD",
            "NTD",
            "NTD",
            "NTD",
            "NTD",
            "NTD",
            "NTD",
            "NTD",
            "NTD",
            "NTD",
            "NTD",
            "NTD",
            "NTD"
           ]
          }
         ],
         "hovertemplate": "Etiology=NTD<br>%{xaxis.title.text}=%{x}<br>%{yaxis.title.text}=%{y}<extra></extra>",
         "legendgroup": "NTD",
         "marker": {
          "color": "#636efa",
          "size": 4,
          "symbol": "circle"
         },
         "name": "NTD",
         "showlegend": true,
         "showupperhalf": false,
         "type": "splom"
        },
        {
         "diagonal": {
          "visible": false
         },
         "dimensions": [
          {
           "axis": {
            "matches": true
           },
           "label": "Age",
           "values": [
            23.10277778,
            3.369444444,
            8.025,
            20.92222222,
            14.49166667,
            4.988888889,
            5.227777778,
            13.85555556,
            24.87777778,
            11.43888889,
            1.105555556,
            1.244444444,
            1.605555556,
            1.786111111,
            2.833333333,
            3.155555556,
            5.677777778,
            6.022222222,
            6.575,
            14.31111111,
            15.51111111,
            16.78888889,
            18.92222222,
            0.916666667,
            7,
            18,
            12,
            16,
            16,
            15,
            11,
            4,
            6,
            2,
            7,
            7
           ]
          },
          {
           "axis": {
            "matches": true
           },
           "label": "BMI",
           "values": [
            40.16922191,
            15.55997667,
            18.14047982,
            33.92324648,
            33.8450165,
            18.97694325,
            13.83735445,
            26.91024824,
            29.5480515,
            23.33326038,
            18.4310934,
            16.90380419,
            14.47894805,
            14.24059259,
            16.72850729,
            15.18425957,
            20.20922266,
            25.17772847,
            14.55499665,
            35.11575318,
            22.10290591,
            28.6977747,
            22.41016746,
            17.42026619,
            26.79307546,
            28.9176135,
            22.32769331,
            20.44289978,
            16.78646732,
            18.6320549,
            19.80732554,
            24.01264912,
            14.93163503,
            16.92333842,
            18.87771781,
            18.87771781
           ]
          },
          {
           "axis": {
            "matches": true
           },
           "label": "Months",
           "values": [
            265,
            36,
            95,
            250,
            10,
            4,
            60,
            84,
            124,
            125,
            12,
            12,
            12,
            14,
            27,
            22,
            62,
            70,
            78,
            165,
            175,
            173,
            10,
            1,
            77,
            210,
            0,
            45,
            52,
            175,
            106,
            49,
            69,
            23,
            81,
            81
           ]
          },
          {
           "axis": {
            "matches": true
           },
           "label": "FR",
           "values": [
            1,
            4,
            10,
            13,
            2,
            9,
            9,
            0,
            9,
            3,
            15,
            12,
            8,
            14,
            12,
            7,
            10,
            10,
            8,
            11,
            12,
            19,
            6,
            54,
            0.573403491,
            30.34260141,
            0.286701746,
            0.095567249,
            0.430052618,
            0.191134497,
            44.62990506,
            7.167543639,
            10.99023358,
            13.85725104,
            0.66897074,
            1.003456109
           ]
          },
          {
           "axis": {
            "matches": true
           },
           "label": "FOHR",
           "values": [
            0.31622807,
            0.446055556,
            0.325585229,
            0.349427481,
            0.327605191,
            0.31124031,
            0.361979167,
            0.417944094,
            0.341756421,
            0.324888227,
            0.394179894,
            0.387305699,
            0.398858075,
            0.467659574,
            0.327893175,
            0.301574803,
            0.332522303,
            0.357904085,
            0.433358434,
            0.416174298,
            0.349744712,
            0.346543002,
            0.384729981,
            0.607113655,
            0.340111353,
            0.334698436,
            0.408309456,
            0.409165979,
            0.352050114,
            0.371678056,
            0.509420796,
            0.383271375,
            0.389417989,
            0.346880131,
            0.423242468,
            0.423242468
           ]
          },
          {
           "axis": {
            "matches": true
           },
           "label": "Etiology",
           "values": [
            "OTHER",
            "OTHER",
            "OTHER",
            "OTHER",
            "OTHER",
            "OTHER",
            "OTHER",
            "OTHER",
            "OTHER",
            "OTHER",
            "OTHER",
            "OTHER",
            "OTHER",
            "OTHER",
            "OTHER",
            "OTHER",
            "OTHER",
            "OTHER",
            "OTHER",
            "OTHER",
            "OTHER",
            "OTHER",
            "OTHER",
            "OTHER",
            "OTHER",
            "OTHER",
            "OTHER",
            "OTHER",
            "OTHER",
            "OTHER",
            "OTHER",
            "OTHER",
            "OTHER",
            "OTHER",
            "OTHER",
            "OTHER"
           ]
          }
         ],
         "hovertemplate": "Etiology=OTHER<br>%{xaxis.title.text}=%{x}<br>%{yaxis.title.text}=%{y}<extra></extra>",
         "legendgroup": "OTHER",
         "marker": {
          "color": "#EF553B",
          "size": 4,
          "symbol": "circle"
         },
         "name": "OTHER",
         "showlegend": true,
         "showupperhalf": false,
         "type": "splom"
        },
        {
         "diagonal": {
          "visible": false
         },
         "dimensions": [
          {
           "axis": {
            "matches": true
           },
           "label": "Age",
           "values": [
            9.905555556,
            5.716666667,
            13.53055556,
            8.636111111,
            21.35,
            8.894444444,
            20.58888889,
            2.516666667,
            10.57777778,
            3.908333333,
            6.147222222,
            9.252777778,
            14.40833333,
            23.03333333,
            12.83611111,
            15.21111111,
            19.64722222,
            2.141666667,
            2.958333333,
            8.475,
            10,
            18,
            4,
            9,
            16,
            13,
            9,
            0
           ]
          },
          {
           "axis": {
            "matches": true
           },
           "label": "BMI",
           "values": [
            17.61389885,
            17.44071451,
            28.51527099,
            18.97664203,
            22.62843127,
            12.1728465,
            30.0087205,
            14.55754522,
            13.46084546,
            18.09402455,
            17.96195049,
            17.11961704,
            17.7118137,
            15.87946697,
            17.05017916,
            24.04145927,
            27.58632981,
            14.96508649,
            16.48250988,
            20.05253558,
            25.56877425,
            32.7798613,
            16.5949474,
            15.06676023,
            22.02979552,
            23.64995765,
            28.07126578,
            31.19126201
           ]
          },
          {
           "axis": {
            "matches": true
           },
           "label": "Months",
           "values": [
            10,
            66,
            160,
            103,
            256,
            106,
            246,
            28,
            122,
            46,
            73,
            109,
            171,
            273,
            78,
            181,
            235,
            24,
            35,
            100,
            112,
            216,
            35,
            106,
            183,
            154,
            102,
            4
           ]
          },
          {
           "axis": {
            "matches": true
           },
           "label": "FR",
           "values": [
            16,
            0,
            5,
            11,
            1,
            16,
            6,
            11,
            10,
            9,
            2,
            8,
            5,
            4,
            2,
            5,
            6,
            12,
            10,
            9,
            1.146806982,
            9.652292101,
            0.081232161,
            0.621187115,
            1.433508728,
            9.891210222,
            8.505485118,
            24.84748462
           ]
          },
          {
           "axis": {
            "matches": true
           },
           "label": "FOHR",
           "values": [
            0.339401294,
            0.770581114,
            0.319067797,
            0.392857143,
            0.364203455,
            0.424424973,
            0.333264786,
            0.309217391,
            0.287772277,
            0.335245474,
            0.411290323,
            0.403448276,
            0.383913765,
            0.407981221,
            0.394965278,
            0.306177261,
            0.333264786,
            0.317594255,
            0.288651316,
            0.375,
            0.447981366,
            0.293293718,
            0.361016949,
            0.562730627,
            0.331753555,
            0.342732327,
            0.33160828,
            0.347307692
           ]
          },
          {
           "axis": {
            "matches": true
           },
           "label": "Etiology",
           "values": [
            "IVH",
            "IVH",
            "IVH",
            "IVH",
            "IVH",
            "IVH",
            "IVH",
            "IVH",
            "IVH",
            "IVH",
            "IVH",
            "IVH",
            "IVH",
            "IVH",
            "IVH",
            "IVH",
            "IVH",
            "IVH",
            "IVH",
            "IVH",
            "IVH",
            "IVH",
            "IVH",
            "IVH",
            "IVH",
            "IVH",
            "IVH",
            "IVH"
           ]
          }
         ],
         "hovertemplate": "Etiology=IVH<br>%{xaxis.title.text}=%{x}<br>%{yaxis.title.text}=%{y}<extra></extra>",
         "legendgroup": "IVH",
         "marker": {
          "color": "#00cc96",
          "size": 4,
          "symbol": "circle"
         },
         "name": "IVH",
         "showlegend": true,
         "showupperhalf": false,
         "type": "splom"
        }
       ],
       "layout": {
        "dragmode": "select",
        "legend": {
         "title": {
          "text": "Etiology"
         },
         "tracegroupgap": 0
        },
        "margin": {
         "t": 60
        },
        "template": {
         "data": {
          "bar": [
           {
            "error_x": {
             "color": "#2a3f5f"
            },
            "error_y": {
             "color": "#2a3f5f"
            },
            "marker": {
             "line": {
              "color": "#E5ECF6",
              "width": 0.5
             },
             "pattern": {
              "fillmode": "overlay",
              "size": 10,
              "solidity": 0.2
             }
            },
            "type": "bar"
           }
          ],
          "barpolar": [
           {
            "marker": {
             "line": {
              "color": "#E5ECF6",
              "width": 0.5
             },
             "pattern": {
              "fillmode": "overlay",
              "size": 10,
              "solidity": 0.2
             }
            },
            "type": "barpolar"
           }
          ],
          "carpet": [
           {
            "aaxis": {
             "endlinecolor": "#2a3f5f",
             "gridcolor": "white",
             "linecolor": "white",
             "minorgridcolor": "white",
             "startlinecolor": "#2a3f5f"
            },
            "baxis": {
             "endlinecolor": "#2a3f5f",
             "gridcolor": "white",
             "linecolor": "white",
             "minorgridcolor": "white",
             "startlinecolor": "#2a3f5f"
            },
            "type": "carpet"
           }
          ],
          "choropleth": [
           {
            "colorbar": {
             "outlinewidth": 0,
             "ticks": ""
            },
            "type": "choropleth"
           }
          ],
          "contour": [
           {
            "colorbar": {
             "outlinewidth": 0,
             "ticks": ""
            },
            "colorscale": [
             [
              0,
              "#0d0887"
             ],
             [
              0.1111111111111111,
              "#46039f"
             ],
             [
              0.2222222222222222,
              "#7201a8"
             ],
             [
              0.3333333333333333,
              "#9c179e"
             ],
             [
              0.4444444444444444,
              "#bd3786"
             ],
             [
              0.5555555555555556,
              "#d8576b"
             ],
             [
              0.6666666666666666,
              "#ed7953"
             ],
             [
              0.7777777777777778,
              "#fb9f3a"
             ],
             [
              0.8888888888888888,
              "#fdca26"
             ],
             [
              1,
              "#f0f921"
             ]
            ],
            "type": "contour"
           }
          ],
          "contourcarpet": [
           {
            "colorbar": {
             "outlinewidth": 0,
             "ticks": ""
            },
            "type": "contourcarpet"
           }
          ],
          "heatmap": [
           {
            "colorbar": {
             "outlinewidth": 0,
             "ticks": ""
            },
            "colorscale": [
             [
              0,
              "#0d0887"
             ],
             [
              0.1111111111111111,
              "#46039f"
             ],
             [
              0.2222222222222222,
              "#7201a8"
             ],
             [
              0.3333333333333333,
              "#9c179e"
             ],
             [
              0.4444444444444444,
              "#bd3786"
             ],
             [
              0.5555555555555556,
              "#d8576b"
             ],
             [
              0.6666666666666666,
              "#ed7953"
             ],
             [
              0.7777777777777778,
              "#fb9f3a"
             ],
             [
              0.8888888888888888,
              "#fdca26"
             ],
             [
              1,
              "#f0f921"
             ]
            ],
            "type": "heatmap"
           }
          ],
          "heatmapgl": [
           {
            "colorbar": {
             "outlinewidth": 0,
             "ticks": ""
            },
            "colorscale": [
             [
              0,
              "#0d0887"
             ],
             [
              0.1111111111111111,
              "#46039f"
             ],
             [
              0.2222222222222222,
              "#7201a8"
             ],
             [
              0.3333333333333333,
              "#9c179e"
             ],
             [
              0.4444444444444444,
              "#bd3786"
             ],
             [
              0.5555555555555556,
              "#d8576b"
             ],
             [
              0.6666666666666666,
              "#ed7953"
             ],
             [
              0.7777777777777778,
              "#fb9f3a"
             ],
             [
              0.8888888888888888,
              "#fdca26"
             ],
             [
              1,
              "#f0f921"
             ]
            ],
            "type": "heatmapgl"
           }
          ],
          "histogram": [
           {
            "marker": {
             "pattern": {
              "fillmode": "overlay",
              "size": 10,
              "solidity": 0.2
             }
            },
            "type": "histogram"
           }
          ],
          "histogram2d": [
           {
            "colorbar": {
             "outlinewidth": 0,
             "ticks": ""
            },
            "colorscale": [
             [
              0,
              "#0d0887"
             ],
             [
              0.1111111111111111,
              "#46039f"
             ],
             [
              0.2222222222222222,
              "#7201a8"
             ],
             [
              0.3333333333333333,
              "#9c179e"
             ],
             [
              0.4444444444444444,
              "#bd3786"
             ],
             [
              0.5555555555555556,
              "#d8576b"
             ],
             [
              0.6666666666666666,
              "#ed7953"
             ],
             [
              0.7777777777777778,
              "#fb9f3a"
             ],
             [
              0.8888888888888888,
              "#fdca26"
             ],
             [
              1,
              "#f0f921"
             ]
            ],
            "type": "histogram2d"
           }
          ],
          "histogram2dcontour": [
           {
            "colorbar": {
             "outlinewidth": 0,
             "ticks": ""
            },
            "colorscale": [
             [
              0,
              "#0d0887"
             ],
             [
              0.1111111111111111,
              "#46039f"
             ],
             [
              0.2222222222222222,
              "#7201a8"
             ],
             [
              0.3333333333333333,
              "#9c179e"
             ],
             [
              0.4444444444444444,
              "#bd3786"
             ],
             [
              0.5555555555555556,
              "#d8576b"
             ],
             [
              0.6666666666666666,
              "#ed7953"
             ],
             [
              0.7777777777777778,
              "#fb9f3a"
             ],
             [
              0.8888888888888888,
              "#fdca26"
             ],
             [
              1,
              "#f0f921"
             ]
            ],
            "type": "histogram2dcontour"
           }
          ],
          "mesh3d": [
           {
            "colorbar": {
             "outlinewidth": 0,
             "ticks": ""
            },
            "type": "mesh3d"
           }
          ],
          "parcoords": [
           {
            "line": {
             "colorbar": {
              "outlinewidth": 0,
              "ticks": ""
             }
            },
            "type": "parcoords"
           }
          ],
          "pie": [
           {
            "automargin": true,
            "type": "pie"
           }
          ],
          "scatter": [
           {
            "marker": {
             "colorbar": {
              "outlinewidth": 0,
              "ticks": ""
             }
            },
            "type": "scatter"
           }
          ],
          "scatter3d": [
           {
            "line": {
             "colorbar": {
              "outlinewidth": 0,
              "ticks": ""
             }
            },
            "marker": {
             "colorbar": {
              "outlinewidth": 0,
              "ticks": ""
             }
            },
            "type": "scatter3d"
           }
          ],
          "scattercarpet": [
           {
            "marker": {
             "colorbar": {
              "outlinewidth": 0,
              "ticks": ""
             }
            },
            "type": "scattercarpet"
           }
          ],
          "scattergeo": [
           {
            "marker": {
             "colorbar": {
              "outlinewidth": 0,
              "ticks": ""
             }
            },
            "type": "scattergeo"
           }
          ],
          "scattergl": [
           {
            "marker": {
             "colorbar": {
              "outlinewidth": 0,
              "ticks": ""
             }
            },
            "type": "scattergl"
           }
          ],
          "scattermapbox": [
           {
            "marker": {
             "colorbar": {
              "outlinewidth": 0,
              "ticks": ""
             }
            },
            "type": "scattermapbox"
           }
          ],
          "scatterpolar": [
           {
            "marker": {
             "colorbar": {
              "outlinewidth": 0,
              "ticks": ""
             }
            },
            "type": "scatterpolar"
           }
          ],
          "scatterpolargl": [
           {
            "marker": {
             "colorbar": {
              "outlinewidth": 0,
              "ticks": ""
             }
            },
            "type": "scatterpolargl"
           }
          ],
          "scatterternary": [
           {
            "marker": {
             "colorbar": {
              "outlinewidth": 0,
              "ticks": ""
             }
            },
            "type": "scatterternary"
           }
          ],
          "surface": [
           {
            "colorbar": {
             "outlinewidth": 0,
             "ticks": ""
            },
            "colorscale": [
             [
              0,
              "#0d0887"
             ],
             [
              0.1111111111111111,
              "#46039f"
             ],
             [
              0.2222222222222222,
              "#7201a8"
             ],
             [
              0.3333333333333333,
              "#9c179e"
             ],
             [
              0.4444444444444444,
              "#bd3786"
             ],
             [
              0.5555555555555556,
              "#d8576b"
             ],
             [
              0.6666666666666666,
              "#ed7953"
             ],
             [
              0.7777777777777778,
              "#fb9f3a"
             ],
             [
              0.8888888888888888,
              "#fdca26"
             ],
             [
              1,
              "#f0f921"
             ]
            ],
            "type": "surface"
           }
          ],
          "table": [
           {
            "cells": {
             "fill": {
              "color": "#EBF0F8"
             },
             "line": {
              "color": "white"
             }
            },
            "header": {
             "fill": {
              "color": "#C8D4E3"
             },
             "line": {
              "color": "white"
             }
            },
            "type": "table"
           }
          ]
         },
         "layout": {
          "annotationdefaults": {
           "arrowcolor": "#2a3f5f",
           "arrowhead": 0,
           "arrowwidth": 1
          },
          "autotypenumbers": "strict",
          "coloraxis": {
           "colorbar": {
            "outlinewidth": 0,
            "ticks": ""
           }
          },
          "colorscale": {
           "diverging": [
            [
             0,
             "#8e0152"
            ],
            [
             0.1,
             "#c51b7d"
            ],
            [
             0.2,
             "#de77ae"
            ],
            [
             0.3,
             "#f1b6da"
            ],
            [
             0.4,
             "#fde0ef"
            ],
            [
             0.5,
             "#f7f7f7"
            ],
            [
             0.6,
             "#e6f5d0"
            ],
            [
             0.7,
             "#b8e186"
            ],
            [
             0.8,
             "#7fbc41"
            ],
            [
             0.9,
             "#4d9221"
            ],
            [
             1,
             "#276419"
            ]
           ],
           "sequential": [
            [
             0,
             "#0d0887"
            ],
            [
             0.1111111111111111,
             "#46039f"
            ],
            [
             0.2222222222222222,
             "#7201a8"
            ],
            [
             0.3333333333333333,
             "#9c179e"
            ],
            [
             0.4444444444444444,
             "#bd3786"
            ],
            [
             0.5555555555555556,
             "#d8576b"
            ],
            [
             0.6666666666666666,
             "#ed7953"
            ],
            [
             0.7777777777777778,
             "#fb9f3a"
            ],
            [
             0.8888888888888888,
             "#fdca26"
            ],
            [
             1,
             "#f0f921"
            ]
           ],
           "sequentialminus": [
            [
             0,
             "#0d0887"
            ],
            [
             0.1111111111111111,
             "#46039f"
            ],
            [
             0.2222222222222222,
             "#7201a8"
            ],
            [
             0.3333333333333333,
             "#9c179e"
            ],
            [
             0.4444444444444444,
             "#bd3786"
            ],
            [
             0.5555555555555556,
             "#d8576b"
            ],
            [
             0.6666666666666666,
             "#ed7953"
            ],
            [
             0.7777777777777778,
             "#fb9f3a"
            ],
            [
             0.8888888888888888,
             "#fdca26"
            ],
            [
             1,
             "#f0f921"
            ]
           ]
          },
          "colorway": [
           "#636efa",
           "#EF553B",
           "#00cc96",
           "#ab63fa",
           "#FFA15A",
           "#19d3f3",
           "#FF6692",
           "#B6E880",
           "#FF97FF",
           "#FECB52"
          ],
          "font": {
           "color": "#2a3f5f"
          },
          "geo": {
           "bgcolor": "white",
           "lakecolor": "white",
           "landcolor": "#E5ECF6",
           "showlakes": true,
           "showland": true,
           "subunitcolor": "white"
          },
          "hoverlabel": {
           "align": "left"
          },
          "hovermode": "closest",
          "mapbox": {
           "style": "light"
          },
          "paper_bgcolor": "white",
          "plot_bgcolor": "#E5ECF6",
          "polar": {
           "angularaxis": {
            "gridcolor": "white",
            "linecolor": "white",
            "ticks": ""
           },
           "bgcolor": "#E5ECF6",
           "radialaxis": {
            "gridcolor": "white",
            "linecolor": "white",
            "ticks": ""
           }
          },
          "scene": {
           "xaxis": {
            "backgroundcolor": "#E5ECF6",
            "gridcolor": "white",
            "gridwidth": 2,
            "linecolor": "white",
            "showbackground": true,
            "ticks": "",
            "zerolinecolor": "white"
           },
           "yaxis": {
            "backgroundcolor": "#E5ECF6",
            "gridcolor": "white",
            "gridwidth": 2,
            "linecolor": "white",
            "showbackground": true,
            "ticks": "",
            "zerolinecolor": "white"
           },
           "zaxis": {
            "backgroundcolor": "#E5ECF6",
            "gridcolor": "white",
            "gridwidth": 2,
            "linecolor": "white",
            "showbackground": true,
            "ticks": "",
            "zerolinecolor": "white"
           }
          },
          "shapedefaults": {
           "line": {
            "color": "#2a3f5f"
           }
          },
          "ternary": {
           "aaxis": {
            "gridcolor": "white",
            "linecolor": "white",
            "ticks": ""
           },
           "baxis": {
            "gridcolor": "white",
            "linecolor": "white",
            "ticks": ""
           },
           "bgcolor": "#E5ECF6",
           "caxis": {
            "gridcolor": "white",
            "linecolor": "white",
            "ticks": ""
           }
          },
          "title": {
           "x": 0.05
          },
          "xaxis": {
           "automargin": true,
           "gridcolor": "white",
           "linecolor": "white",
           "ticks": "",
           "title": {
            "standoff": 15
           },
           "zerolinecolor": "white",
           "zerolinewidth": 2
          },
          "yaxis": {
           "automargin": true,
           "gridcolor": "white",
           "linecolor": "white",
           "ticks": "",
           "title": {
            "standoff": 15
           },
           "zerolinecolor": "white",
           "zerolinewidth": 2
          }
         }
        }
       }
      }
     },
     "metadata": {},
     "output_type": "display_data"
    }
   ],
   "source": [
    "figscat.update_traces(marker_size = 4)\n",
    "figscat.show()"
   ]
  },
  {
   "cell_type": "code",
   "execution_count": 237,
   "metadata": {},
   "outputs": [],
   "source": [
    "df = pd.read_csv(\"DS1.csv\")\n",
    "\n",
    "\n",
    "x = df[['FOHR','Age']]\n",
    "y = df [\"FR\"]\n"
   ]
  },
  {
   "cell_type": "code",
   "execution_count": 182,
   "metadata": {},
   "outputs": [
    {
     "data": {
      "text/html": [
       "<style>#sk-container-id-5 {color: black;background-color: white;}#sk-container-id-5 pre{padding: 0;}#sk-container-id-5 div.sk-toggleable {background-color: white;}#sk-container-id-5 label.sk-toggleable__label {cursor: pointer;display: block;width: 100%;margin-bottom: 0;padding: 0.3em;box-sizing: border-box;text-align: center;}#sk-container-id-5 label.sk-toggleable__label-arrow:before {content: \"▸\";float: left;margin-right: 0.25em;color: #696969;}#sk-container-id-5 label.sk-toggleable__label-arrow:hover:before {color: black;}#sk-container-id-5 div.sk-estimator:hover label.sk-toggleable__label-arrow:before {color: black;}#sk-container-id-5 div.sk-toggleable__content {max-height: 0;max-width: 0;overflow: hidden;text-align: left;background-color: #f0f8ff;}#sk-container-id-5 div.sk-toggleable__content pre {margin: 0.2em;color: black;border-radius: 0.25em;background-color: #f0f8ff;}#sk-container-id-5 input.sk-toggleable__control:checked~div.sk-toggleable__content {max-height: 200px;max-width: 100%;overflow: auto;}#sk-container-id-5 input.sk-toggleable__control:checked~label.sk-toggleable__label-arrow:before {content: \"▾\";}#sk-container-id-5 div.sk-estimator input.sk-toggleable__control:checked~label.sk-toggleable__label {background-color: #d4ebff;}#sk-container-id-5 div.sk-label input.sk-toggleable__control:checked~label.sk-toggleable__label {background-color: #d4ebff;}#sk-container-id-5 input.sk-hidden--visually {border: 0;clip: rect(1px 1px 1px 1px);clip: rect(1px, 1px, 1px, 1px);height: 1px;margin: -1px;overflow: hidden;padding: 0;position: absolute;width: 1px;}#sk-container-id-5 div.sk-estimator {font-family: monospace;background-color: #f0f8ff;border: 1px dotted black;border-radius: 0.25em;box-sizing: border-box;margin-bottom: 0.5em;}#sk-container-id-5 div.sk-estimator:hover {background-color: #d4ebff;}#sk-container-id-5 div.sk-parallel-item::after {content: \"\";width: 100%;border-bottom: 1px solid gray;flex-grow: 1;}#sk-container-id-5 div.sk-label:hover label.sk-toggleable__label {background-color: #d4ebff;}#sk-container-id-5 div.sk-serial::before {content: \"\";position: absolute;border-left: 1px solid gray;box-sizing: border-box;top: 0;bottom: 0;left: 50%;z-index: 0;}#sk-container-id-5 div.sk-serial {display: flex;flex-direction: column;align-items: center;background-color: white;padding-right: 0.2em;padding-left: 0.2em;position: relative;}#sk-container-id-5 div.sk-item {position: relative;z-index: 1;}#sk-container-id-5 div.sk-parallel {display: flex;align-items: stretch;justify-content: center;background-color: white;position: relative;}#sk-container-id-5 div.sk-item::before, #sk-container-id-5 div.sk-parallel-item::before {content: \"\";position: absolute;border-left: 1px solid gray;box-sizing: border-box;top: 0;bottom: 0;left: 50%;z-index: -1;}#sk-container-id-5 div.sk-parallel-item {display: flex;flex-direction: column;z-index: 1;position: relative;background-color: white;}#sk-container-id-5 div.sk-parallel-item:first-child::after {align-self: flex-end;width: 50%;}#sk-container-id-5 div.sk-parallel-item:last-child::after {align-self: flex-start;width: 50%;}#sk-container-id-5 div.sk-parallel-item:only-child::after {width: 0;}#sk-container-id-5 div.sk-dashed-wrapped {border: 1px dashed gray;margin: 0 0.4em 0.5em 0.4em;box-sizing: border-box;padding-bottom: 0.4em;background-color: white;}#sk-container-id-5 div.sk-label label {font-family: monospace;font-weight: bold;display: inline-block;line-height: 1.2em;}#sk-container-id-5 div.sk-label-container {text-align: center;}#sk-container-id-5 div.sk-container {/* jupyter's `normalize.less` sets `[hidden] { display: none; }` but bootstrap.min.css set `[hidden] { display: none !important; }` so we also need the `!important` here to be able to override the default hidden behavior on the sphinx rendered scikit-learn.org. See: https://github.com/scikit-learn/scikit-learn/issues/21755 */display: inline-block !important;position: relative;}#sk-container-id-5 div.sk-text-repr-fallback {display: none;}</style><div id=\"sk-container-id-5\" class=\"sk-top-container\"><div class=\"sk-text-repr-fallback\"><pre>LinearRegression()</pre><b>In a Jupyter environment, please rerun this cell to show the HTML representation or trust the notebook. <br />On GitHub, the HTML representation is unable to render, please try loading this page with nbviewer.org.</b></div><div class=\"sk-container\" hidden><div class=\"sk-item\"><div class=\"sk-estimator sk-toggleable\"><input class=\"sk-toggleable__control sk-hidden--visually\" id=\"sk-estimator-id-5\" type=\"checkbox\" checked><label for=\"sk-estimator-id-5\" class=\"sk-toggleable__label sk-toggleable__label-arrow\">LinearRegression</label><div class=\"sk-toggleable__content\"><pre>LinearRegression()</pre></div></div></div></div></div>"
      ],
      "text/plain": [
       "LinearRegression()"
      ]
     },
     "execution_count": 182,
     "metadata": {},
     "output_type": "execute_result"
    }
   ],
   "source": [
    "regr = linear_model.LinearRegression()\n",
    "regr.fit(x,y)"
   ]
  },
  {
   "cell_type": "code",
   "execution_count": 183,
   "metadata": {},
   "outputs": [
    {
     "name": "stdout",
     "output_type": "stream",
     "text": [
      "[4.56051676]\n"
     ]
    },
    {
     "name": "stderr",
     "output_type": "stream",
     "text": [
      "/Users/jacobalhusseini/opt/anaconda3/envs/DataAnalytics/lib/python3.9/site-packages/sklearn/base.py:439: UserWarning:\n",
      "\n",
      "X does not have valid feature names, but LinearRegression was fitted with feature names\n",
      "\n"
     ]
    }
   ],
   "source": [
    "predictedFlow = regr.predict([[0.3, 20]])\n",
    "print(predictedFlow)"
   ]
  },
  {
   "cell_type": "code",
   "execution_count": 184,
   "metadata": {},
   "outputs": [],
   "source": [
    "import plotly.express as px\n",
    "from sklearn.decomposition import PCA"
   ]
  },
  {
   "cell_type": "code",
   "execution_count": 185,
   "metadata": {},
   "outputs": [],
   "source": [
    "df = pd.read_csv(\"DS1.csv\")\n",
    "features = [\"FR\", \"BMI\", \"FOHR\", \"Age\", \"Months\"]"
   ]
  },
  {
   "cell_type": "code",
   "execution_count": 235,
   "metadata": {},
   "outputs": [
    {
     "data": {
      "application/vnd.plotly.v1+json": {
       "config": {
        "plotlyServerURL": "https://plot.ly"
       },
       "data": [
        {
         "diagonal": {
          "visible": false
         },
         "dimensions": [
          {
           "axis": {
            "matches": true
           },
           "label": "PC 1 (98.1%)",
           "values": [
            -75.7684450466738,
            129.4910115406354,
            84.04491146981364,
            -57.38670382110417,
            47.88461434391988,
            154.7429075526503,
            96.12807367971502,
            113.47628908165603,
            24.96930117394589,
            49.8784216540355,
            128.10337602437798,
            -27.07930518610957,
            -24.51613320258263,
            -16.365183578612967,
            3.4243263266889854,
            -87.46048658871922,
            -13.656335368101496,
            -31.526827572445455,
            32.99981547593673,
            71.53241356857987
           ]
          },
          {
           "axis": {
            "matches": true
           },
           "label": "PC 2 (1.3%)",
           "values": [
            1.1202511904282297,
            -5.353048832373276,
            0.8518190630327439,
            -8.336926915164264,
            -4.889340187365953,
            5.6623291451822135,
            4.154533114411963,
            -4.340598149818113,
            -3.9279953802933574,
            -4.911712509953109,
            -2.699376549972973,
            -0.4446121601067111,
            10.164964469741607,
            1.2965565038117934,
            -7.182526199544222,
            -8.713128485926044,
            15.608830439374225,
            -3.351043003548184,
            -5.024012707433743,
            1.3437050249948967
           ]
          },
          {
           "axis": {
            "matches": true
           },
           "label": "PC 3 (0.5%)",
           "values": [
            -5.174426273596252,
            -0.07160266679573417,
            -2.3346433279916132,
            -1.8806869490880027,
            -4.6812329216360435,
            7.871643202243344,
            -0.5503089022093302,
            2.455174693008703,
            -0.22119129104700927,
            -5.202228631890725,
            -6.21906872629809,
            4.553782155655701,
            -1.3831705610870768,
            -1.8178490207743814,
            -10.724210961209515,
            -1.2900347789200928,
            -3.7234306541896913,
            -5.175515415694434,
            -1.0598596460530973,
            9.133029591430015
           ]
          },
          {
           "axis": {
            "matches": true
           },
           "label": "PC 4 (0.2%)",
           "values": [
            -0.7662759698124937,
            0.8508560480299112,
            0.523893758964767,
            -2.5056333764239542,
            0.6082891300393569,
            -1.8440845749605688,
            0.3396145002709524,
            -1.2363750240844142,
            -1.53604200816587,
            1.0199351564357089,
            2.2584992625508264,
            -3.704259611188346,
            -0.6195111287806288,
            -1.160666452456732,
            1.462791781472855,
            -2.7936060010485178,
            1.0584991553783651,
            -0.8230442767362398,
            -0.8242110883631023,
            -3.612809667966122
           ]
          },
          {
           "axis": {
            "matches": true
           },
           "label": "PC 5 (0.0%)",
           "values": [
            -0.08203991288757918,
            0.023721675607417763,
            0.04988573215035242,
            -0.03149023006598812,
            -0.012232920719591181,
            0.0047018861351363845,
            0.015123477561985066,
            0.028575384845576087,
            -0.010741824635307456,
            0.0022570443599190877,
            -0.037147287550915856,
            -0.04022110476634855,
            -0.0553107025833354,
            -0.026902157679332434,
            -0.054742839380070116,
            -0.025421153716724085,
            -0.04286214047428069,
            -0.07443248385390593,
            0.021430736721455762,
            0.029972372995684123
           ]
          }
         ],
         "hovertemplate": "color=NTD<br>%{xaxis.title.text}=%{x}<br>%{yaxis.title.text}=%{y}<extra></extra>",
         "legendgroup": "NTD",
         "marker": {
          "color": "#636efa",
          "size": 4.5,
          "symbol": "circle"
         },
         "name": "NTD",
         "showlegend": true,
         "showupperhalf": false,
         "type": "splom"
        },
        {
         "diagonal": {
          "visible": false
         },
         "dimensions": [
          {
           "axis": {
            "matches": true
           },
           "label": "PC 1 (98.1%)",
           "values": [
            160.16154219542761,
            -70.52422961453183,
            -11.39972710763548,
            144.58446251572582,
            -94.83349464467008,
            -102.2379133627521,
            -46.640418819811046,
            -21.403112701177488,
            19.180989880599004,
            19.078294575627,
            -94.66326323286484,
            -94.66787177180261,
            -94.67862377098551,
            -92.7872332680704,
            -79.61767896908036,
            -84.55813940836924,
            -44.35743548937233,
            -36.146334289233245,
            -28.56157477623017,
            59.50954230240935,
            68.97683138721601,
            67.23721536101517,
            -95.09021616306286,
            -106.35634619315493,
            -28.86988517418629,
            104.00485724925733,
            -105.44084077280924,
            -60.399115121781094,
            -53.58784812205113,
            68.99526108973437,
            -0.7585452186662431,
            -57.21464509379527,
            -37.60536699641277,
            -83.68524315246367,
            -25.228474372033297,
            -25.23426124344188
           ]
          },
          {
           "axis": {
            "matches": true
           },
           "label": "PC 2 (1.3%)",
           "values": [
            -4.054252687447581,
            -5.668568853953674,
            1.276362269686213,
            7.35278133642032,
            -7.878915533071694,
            -1.2425896329174393,
            -0.47300933722229627,
            -8.785535751273233,
            0.26692854638793867,
            -5.022563316134749,
            5.155454904548646,
            2.062645823440486,
            -2.099834105137687,
            3.8784877086336444,
            2.225828518573962,
            -2.9716018034622937,
            0.9348698647247646,
            1.3862402440950852,
            -1.1681371325500955,
            4.263101162070526,
            4.528174438290126,
            11.773230094693773,
            -4.98232171855152,
            43.67685489153591,
            -7.823336227293824,
            23.712491288446348,
            -10.325408612324535,
            -10.052642923047847,
            -9.814815889150005,
            -7.39975821915976,
            35.81321036249878,
            -1.7659247573236436,
            1.6957130196958672,
            4.071322161845007,
            -8.156087307057676,
            -7.823396476010241
           ]
          },
          {
           "axis": {
            "matches": true
           },
           "label": "PC 3 (0.5%)",
           "values": [
            11.904160149431071,
            -3.089330089528225,
            -3.121100152260325,
            5.887750986796956,
            19.573857860760487,
            2.5765758046637934,
            -5.800175033557488,
            8.114803535345382,
            11.415491509418601,
            1.1859580462390502,
            0.04160500523105867,
            -1.2475638294726707,
            -3.271928554780083,
            -3.760373929454968,
            -1.8498162920863452,
            -2.703606964614528,
            0.17085851094626325,
            4.432249169557641,
            -5.807747339204361,
            10.358959613108,
            -2.134145424235908,
            4.388766713530583,
            10.20071888922372,
            -1.5295884136977995,
            6.131396903237219,
            2.2333447991158373,
            8.626841173174771,
            5.2920971338006195,
            1.3946928574361592,
            -5.179600759900803,
            -2.3973789388759092,
            4.111831986612566,
            -5.161507147224151,
            -1.7487228526347902,
            -1.562054564990578,
            -1.5729616708813816
           ]
          },
          {
           "axis": {
            "matches": true
           },
           "label": "PC 4 (0.2%)",
           "values": [
            -2.98579971866343,
            -1.684079418975772,
            -0.5039296005342518,
            -1.0351357852784222,
            3.6644368847500512,
            0.7341801817429238,
            -0.05924114792987041,
            1.5802336952240301,
            9.918954306911932,
            -1.1983702316775366,
            -2.528132521042169,
            -2.1753373185753304,
            -1.4098794010837346,
            -0.6789761918414421,
            -1.3644280832002282,
            -0.7828176390706972,
            -1.7786548969316023,
            -3.5160860756451315,
            -0.017568653792436908,
            -3.6520607693338727,
            1.4461748259979268,
            1.2021617248146912,
            12.03560026382456,
            1.9420161498146882,
            -4.3971727868146395,
            1.5456245183373856,
            5.523772160033673,
            7.677141848387357,
            8.594075150112817,
            0.9920966196903568,
            4.528062799210277,
            -4.262404154948414,
            0.04757710013527604,
            -1.8342123496363194,
            -1.9264041892493646,
            -1.894083430067267
           ]
          },
          {
           "axis": {
            "matches": true
           },
           "label": "PC 5 (0.0%)",
           "values": [
            -0.007099122136077255,
            0.06835604144146469,
            -0.05444139703878376,
            -0.001783051731931738,
            -0.020107789929315403,
            -0.06925945313765397,
            -0.02578451696007001,
            0.06372374507666292,
            -0.02514974071201949,
            -0.035991279991625345,
            0.008517087008006895,
            0.0022148113900834544,
            0.013566748436551652,
            0.07405766646767087,
            -0.057892965987883106,
            -0.08156388924666713,
            -0.04339781488804103,
            -0.007333850893824482,
            0.04847517527455058,
            0.0699221906368825,
            -0.025476161347809948,
            -0.025115949064678185,
            0.004102283086120901,
            0.16810240744357652,
            -0.009841112332705956,
            -0.049774908636754225,
            0.04004243595267261,
            0.036846546965445835,
            -0.027917685069862804,
            0.004929205582615715,
            0.08616994198721208,
            0.01955374665969579,
            0.0013230426050085454,
            -0.04047948277116074,
            0.05680527514932304,
            0.056370880955525476
           ]
          }
         ],
         "hovertemplate": "color=OTHER<br>%{xaxis.title.text}=%{x}<br>%{yaxis.title.text}=%{y}<extra></extra>",
         "legendgroup": "OTHER",
         "marker": {
          "color": "#EF553B",
          "size": 4.5,
          "symbol": "circle"
         },
         "name": "OTHER",
         "showlegend": true,
         "showupperhalf": false,
         "type": "splom"
        },
        {
         "diagonal": {
          "visible": false
         },
         "dimensions": [
          {
           "axis": {
            "matches": true
           },
           "label": "PC 1 (98.1%)",
           "values": [
            -96.09749502485143,
            -40.31574259423586,
            54.29073121550643,
            -3.3664163517313734,
            150.31145373309025,
            -0.740239352402574,
            140.5268641976868,
            -78.71993288245457,
            15.480211995609071,
            -60.498582285498266,
            -33.322360718757544,
            2.626837776356777,
            64.84511905236822,
            167.02450622408136,
            -27.91463534503405,
            75.14002752896825,
            129.3950852498118,
            -82.73160381300251,
            -71.61310823032147,
            -6.2858750746836645,
            6.152810714936934,
            110.50908599126281,
            -71.36426568855646,
            -0.34149143269556875,
            77.16238029310962,
            47.97952479837305,
            -3.9004804154517925,
            -102.32960879565667
           ]
          },
          {
           "axis": {
            "matches": true
           },
           "label": "PC 2 (1.3%)",
           "values": [
            5.365514584084908,
            -9.11179711144353,
            -2.1666491914543644,
            2.4363571450745187,
            -5.221221233249164,
            7.012690724819088,
            0.08557099080939921,
            1.1367823685134533,
            1.3143829985145548,
            -0.37570293749012235,
            -6.983596942209574,
            -0.5953777845556061,
            -2.7090310294091546,
            -2.4632082407655114,
            -7.468396312992214,
            -2.1665801008919714,
            -0.2153623826178315,
            2.1072072648457643,
            0.3706193279106605,
            0.46886307628210466,
            -6.86863778501403,
            3.5006838047391917,
            -9.569574543199346,
            -8.106126823351467,
            -5.865074408364784,
            2.308189490613599,
            0.48997407748228017,
            15.695836751343723
           ]
          },
          {
           "axis": {
            "matches": true
           },
           "label": "PC 3 (0.5%)",
           "values": [
            2.335383670879588,
            -2.3491671849718823,
            4.419825335002673,
            -2.681926012447437,
            -4.569367548437174,
            -9.339842936175248,
            2.5883554611193995,
            -4.026732937176675,
            -8.405655770696184,
            -1.340392806396517,
            -2.2334577881468487,
            -4.508927032288132,
            -6.14015660253943,
            -11.538739904311266,
            -1.1609445545364871,
            -0.576142221418053,
            0.710597664996576,
            -3.543619026257747,
            -2.49225416967602,
            -1.4663331287733905,
            3.703409992057584,
            6.144721186086636,
            -1.7125674940627098,
            -6.086313163493354,
            -2.2124229814041745,
            -0.0966723151823748,
            6.124752424222835,
            11.846062239940101
           ]
          },
          {
           "axis": {
            "matches": true
           },
           "label": "PC 4 (0.2%)",
           "values": [
            6.1749692391276545,
            -1.9743071086270725,
            -2.5016318053933384,
            -0.5078590798018456,
            1.7036086563703425,
            2.354265639275073,
            -0.5134162501620676,
            -1.0775476039048124,
            2.133432808544418,
            -2.037310258152568,
            -1.8965480499311285,
            0.10888856993440056,
            1.407986108526947,
            5.001864204983135,
            4.423536389942215,
            -0.4556408726726308,
            -0.04261943691121966,
            -1.2727249078510663,
            -1.7499797729455104,
            -1.0661723412900614,
            -2.8374776933834673,
            -2.044154992616195,
            -1.771342529773443,
            -0.004295115533024522,
            0.5153468945046724,
            -0.5982267157423538,
            -3.412715887740212,
            -6.503121566628681
           ]
          },
          {
           "axis": {
            "matches": true
           },
           "label": "PC 5 (0.0%)",
           "values": [
            -0.056758563889230174,
            0.40206504500318146,
            -0.03293808257921235,
            0.01331082870692167,
            0.004894080398445573,
            0.024077312073198298,
            -0.017065839540592605,
            -0.07949920482317151,
            -0.10241665705028029,
            -0.043407750545995584,
            0.04137992891672573,
            0.02378204794938786,
            0.009214103897130429,
            0.030326014050289174,
            0.017887155742485745,
            -0.055230136619528726,
            -0.022100968634426517,
            -0.07151839787291203,
            -0.09462529888947617,
            0.0002457597354398319,
            0.09453931193040206,
            -0.055796269291054613,
            -0.010012152691161338,
            0.18834564032411347,
            -0.02977332321417989,
            -0.025802623764998707,
            -0.025964683175327314,
            -0.02394988845252938
           ]
          }
         ],
         "hovertemplate": "color=IVH<br>%{xaxis.title.text}=%{x}<br>%{yaxis.title.text}=%{y}<extra></extra>",
         "legendgroup": "IVH",
         "marker": {
          "color": "#00cc96",
          "size": 4.5,
          "symbol": "circle"
         },
         "name": "IVH",
         "showlegend": true,
         "showupperhalf": false,
         "type": "splom"
        }
       ],
       "layout": {
        "dragmode": "select",
        "legend": {
         "title": {
          "text": "color"
         },
         "tracegroupgap": 0
        },
        "margin": {
         "t": 60
        },
        "template": {
         "data": {
          "bar": [
           {
            "error_x": {
             "color": "#2a3f5f"
            },
            "error_y": {
             "color": "#2a3f5f"
            },
            "marker": {
             "line": {
              "color": "#E5ECF6",
              "width": 0.5
             },
             "pattern": {
              "fillmode": "overlay",
              "size": 10,
              "solidity": 0.2
             }
            },
            "type": "bar"
           }
          ],
          "barpolar": [
           {
            "marker": {
             "line": {
              "color": "#E5ECF6",
              "width": 0.5
             },
             "pattern": {
              "fillmode": "overlay",
              "size": 10,
              "solidity": 0.2
             }
            },
            "type": "barpolar"
           }
          ],
          "carpet": [
           {
            "aaxis": {
             "endlinecolor": "#2a3f5f",
             "gridcolor": "white",
             "linecolor": "white",
             "minorgridcolor": "white",
             "startlinecolor": "#2a3f5f"
            },
            "baxis": {
             "endlinecolor": "#2a3f5f",
             "gridcolor": "white",
             "linecolor": "white",
             "minorgridcolor": "white",
             "startlinecolor": "#2a3f5f"
            },
            "type": "carpet"
           }
          ],
          "choropleth": [
           {
            "colorbar": {
             "outlinewidth": 0,
             "ticks": ""
            },
            "type": "choropleth"
           }
          ],
          "contour": [
           {
            "colorbar": {
             "outlinewidth": 0,
             "ticks": ""
            },
            "colorscale": [
             [
              0,
              "#0d0887"
             ],
             [
              0.1111111111111111,
              "#46039f"
             ],
             [
              0.2222222222222222,
              "#7201a8"
             ],
             [
              0.3333333333333333,
              "#9c179e"
             ],
             [
              0.4444444444444444,
              "#bd3786"
             ],
             [
              0.5555555555555556,
              "#d8576b"
             ],
             [
              0.6666666666666666,
              "#ed7953"
             ],
             [
              0.7777777777777778,
              "#fb9f3a"
             ],
             [
              0.8888888888888888,
              "#fdca26"
             ],
             [
              1,
              "#f0f921"
             ]
            ],
            "type": "contour"
           }
          ],
          "contourcarpet": [
           {
            "colorbar": {
             "outlinewidth": 0,
             "ticks": ""
            },
            "type": "contourcarpet"
           }
          ],
          "heatmap": [
           {
            "colorbar": {
             "outlinewidth": 0,
             "ticks": ""
            },
            "colorscale": [
             [
              0,
              "#0d0887"
             ],
             [
              0.1111111111111111,
              "#46039f"
             ],
             [
              0.2222222222222222,
              "#7201a8"
             ],
             [
              0.3333333333333333,
              "#9c179e"
             ],
             [
              0.4444444444444444,
              "#bd3786"
             ],
             [
              0.5555555555555556,
              "#d8576b"
             ],
             [
              0.6666666666666666,
              "#ed7953"
             ],
             [
              0.7777777777777778,
              "#fb9f3a"
             ],
             [
              0.8888888888888888,
              "#fdca26"
             ],
             [
              1,
              "#f0f921"
             ]
            ],
            "type": "heatmap"
           }
          ],
          "heatmapgl": [
           {
            "colorbar": {
             "outlinewidth": 0,
             "ticks": ""
            },
            "colorscale": [
             [
              0,
              "#0d0887"
             ],
             [
              0.1111111111111111,
              "#46039f"
             ],
             [
              0.2222222222222222,
              "#7201a8"
             ],
             [
              0.3333333333333333,
              "#9c179e"
             ],
             [
              0.4444444444444444,
              "#bd3786"
             ],
             [
              0.5555555555555556,
              "#d8576b"
             ],
             [
              0.6666666666666666,
              "#ed7953"
             ],
             [
              0.7777777777777778,
              "#fb9f3a"
             ],
             [
              0.8888888888888888,
              "#fdca26"
             ],
             [
              1,
              "#f0f921"
             ]
            ],
            "type": "heatmapgl"
           }
          ],
          "histogram": [
           {
            "marker": {
             "pattern": {
              "fillmode": "overlay",
              "size": 10,
              "solidity": 0.2
             }
            },
            "type": "histogram"
           }
          ],
          "histogram2d": [
           {
            "colorbar": {
             "outlinewidth": 0,
             "ticks": ""
            },
            "colorscale": [
             [
              0,
              "#0d0887"
             ],
             [
              0.1111111111111111,
              "#46039f"
             ],
             [
              0.2222222222222222,
              "#7201a8"
             ],
             [
              0.3333333333333333,
              "#9c179e"
             ],
             [
              0.4444444444444444,
              "#bd3786"
             ],
             [
              0.5555555555555556,
              "#d8576b"
             ],
             [
              0.6666666666666666,
              "#ed7953"
             ],
             [
              0.7777777777777778,
              "#fb9f3a"
             ],
             [
              0.8888888888888888,
              "#fdca26"
             ],
             [
              1,
              "#f0f921"
             ]
            ],
            "type": "histogram2d"
           }
          ],
          "histogram2dcontour": [
           {
            "colorbar": {
             "outlinewidth": 0,
             "ticks": ""
            },
            "colorscale": [
             [
              0,
              "#0d0887"
             ],
             [
              0.1111111111111111,
              "#46039f"
             ],
             [
              0.2222222222222222,
              "#7201a8"
             ],
             [
              0.3333333333333333,
              "#9c179e"
             ],
             [
              0.4444444444444444,
              "#bd3786"
             ],
             [
              0.5555555555555556,
              "#d8576b"
             ],
             [
              0.6666666666666666,
              "#ed7953"
             ],
             [
              0.7777777777777778,
              "#fb9f3a"
             ],
             [
              0.8888888888888888,
              "#fdca26"
             ],
             [
              1,
              "#f0f921"
             ]
            ],
            "type": "histogram2dcontour"
           }
          ],
          "mesh3d": [
           {
            "colorbar": {
             "outlinewidth": 0,
             "ticks": ""
            },
            "type": "mesh3d"
           }
          ],
          "parcoords": [
           {
            "line": {
             "colorbar": {
              "outlinewidth": 0,
              "ticks": ""
             }
            },
            "type": "parcoords"
           }
          ],
          "pie": [
           {
            "automargin": true,
            "type": "pie"
           }
          ],
          "scatter": [
           {
            "marker": {
             "colorbar": {
              "outlinewidth": 0,
              "ticks": ""
             }
            },
            "type": "scatter"
           }
          ],
          "scatter3d": [
           {
            "line": {
             "colorbar": {
              "outlinewidth": 0,
              "ticks": ""
             }
            },
            "marker": {
             "colorbar": {
              "outlinewidth": 0,
              "ticks": ""
             }
            },
            "type": "scatter3d"
           }
          ],
          "scattercarpet": [
           {
            "marker": {
             "colorbar": {
              "outlinewidth": 0,
              "ticks": ""
             }
            },
            "type": "scattercarpet"
           }
          ],
          "scattergeo": [
           {
            "marker": {
             "colorbar": {
              "outlinewidth": 0,
              "ticks": ""
             }
            },
            "type": "scattergeo"
           }
          ],
          "scattergl": [
           {
            "marker": {
             "colorbar": {
              "outlinewidth": 0,
              "ticks": ""
             }
            },
            "type": "scattergl"
           }
          ],
          "scattermapbox": [
           {
            "marker": {
             "colorbar": {
              "outlinewidth": 0,
              "ticks": ""
             }
            },
            "type": "scattermapbox"
           }
          ],
          "scatterpolar": [
           {
            "marker": {
             "colorbar": {
              "outlinewidth": 0,
              "ticks": ""
             }
            },
            "type": "scatterpolar"
           }
          ],
          "scatterpolargl": [
           {
            "marker": {
             "colorbar": {
              "outlinewidth": 0,
              "ticks": ""
             }
            },
            "type": "scatterpolargl"
           }
          ],
          "scatterternary": [
           {
            "marker": {
             "colorbar": {
              "outlinewidth": 0,
              "ticks": ""
             }
            },
            "type": "scatterternary"
           }
          ],
          "surface": [
           {
            "colorbar": {
             "outlinewidth": 0,
             "ticks": ""
            },
            "colorscale": [
             [
              0,
              "#0d0887"
             ],
             [
              0.1111111111111111,
              "#46039f"
             ],
             [
              0.2222222222222222,
              "#7201a8"
             ],
             [
              0.3333333333333333,
              "#9c179e"
             ],
             [
              0.4444444444444444,
              "#bd3786"
             ],
             [
              0.5555555555555556,
              "#d8576b"
             ],
             [
              0.6666666666666666,
              "#ed7953"
             ],
             [
              0.7777777777777778,
              "#fb9f3a"
             ],
             [
              0.8888888888888888,
              "#fdca26"
             ],
             [
              1,
              "#f0f921"
             ]
            ],
            "type": "surface"
           }
          ],
          "table": [
           {
            "cells": {
             "fill": {
              "color": "#EBF0F8"
             },
             "line": {
              "color": "white"
             }
            },
            "header": {
             "fill": {
              "color": "#C8D4E3"
             },
             "line": {
              "color": "white"
             }
            },
            "type": "table"
           }
          ]
         },
         "layout": {
          "annotationdefaults": {
           "arrowcolor": "#2a3f5f",
           "arrowhead": 0,
           "arrowwidth": 1
          },
          "autotypenumbers": "strict",
          "coloraxis": {
           "colorbar": {
            "outlinewidth": 0,
            "ticks": ""
           }
          },
          "colorscale": {
           "diverging": [
            [
             0,
             "#8e0152"
            ],
            [
             0.1,
             "#c51b7d"
            ],
            [
             0.2,
             "#de77ae"
            ],
            [
             0.3,
             "#f1b6da"
            ],
            [
             0.4,
             "#fde0ef"
            ],
            [
             0.5,
             "#f7f7f7"
            ],
            [
             0.6,
             "#e6f5d0"
            ],
            [
             0.7,
             "#b8e186"
            ],
            [
             0.8,
             "#7fbc41"
            ],
            [
             0.9,
             "#4d9221"
            ],
            [
             1,
             "#276419"
            ]
           ],
           "sequential": [
            [
             0,
             "#0d0887"
            ],
            [
             0.1111111111111111,
             "#46039f"
            ],
            [
             0.2222222222222222,
             "#7201a8"
            ],
            [
             0.3333333333333333,
             "#9c179e"
            ],
            [
             0.4444444444444444,
             "#bd3786"
            ],
            [
             0.5555555555555556,
             "#d8576b"
            ],
            [
             0.6666666666666666,
             "#ed7953"
            ],
            [
             0.7777777777777778,
             "#fb9f3a"
            ],
            [
             0.8888888888888888,
             "#fdca26"
            ],
            [
             1,
             "#f0f921"
            ]
           ],
           "sequentialminus": [
            [
             0,
             "#0d0887"
            ],
            [
             0.1111111111111111,
             "#46039f"
            ],
            [
             0.2222222222222222,
             "#7201a8"
            ],
            [
             0.3333333333333333,
             "#9c179e"
            ],
            [
             0.4444444444444444,
             "#bd3786"
            ],
            [
             0.5555555555555556,
             "#d8576b"
            ],
            [
             0.6666666666666666,
             "#ed7953"
            ],
            [
             0.7777777777777778,
             "#fb9f3a"
            ],
            [
             0.8888888888888888,
             "#fdca26"
            ],
            [
             1,
             "#f0f921"
            ]
           ]
          },
          "colorway": [
           "#636efa",
           "#EF553B",
           "#00cc96",
           "#ab63fa",
           "#FFA15A",
           "#19d3f3",
           "#FF6692",
           "#B6E880",
           "#FF97FF",
           "#FECB52"
          ],
          "font": {
           "color": "#2a3f5f"
          },
          "geo": {
           "bgcolor": "white",
           "lakecolor": "white",
           "landcolor": "#E5ECF6",
           "showlakes": true,
           "showland": true,
           "subunitcolor": "white"
          },
          "hoverlabel": {
           "align": "left"
          },
          "hovermode": "closest",
          "mapbox": {
           "style": "light"
          },
          "paper_bgcolor": "white",
          "plot_bgcolor": "#E5ECF6",
          "polar": {
           "angularaxis": {
            "gridcolor": "white",
            "linecolor": "white",
            "ticks": ""
           },
           "bgcolor": "#E5ECF6",
           "radialaxis": {
            "gridcolor": "white",
            "linecolor": "white",
            "ticks": ""
           }
          },
          "scene": {
           "xaxis": {
            "backgroundcolor": "#E5ECF6",
            "gridcolor": "white",
            "gridwidth": 2,
            "linecolor": "white",
            "showbackground": true,
            "ticks": "",
            "zerolinecolor": "white"
           },
           "yaxis": {
            "backgroundcolor": "#E5ECF6",
            "gridcolor": "white",
            "gridwidth": 2,
            "linecolor": "white",
            "showbackground": true,
            "ticks": "",
            "zerolinecolor": "white"
           },
           "zaxis": {
            "backgroundcolor": "#E5ECF6",
            "gridcolor": "white",
            "gridwidth": 2,
            "linecolor": "white",
            "showbackground": true,
            "ticks": "",
            "zerolinecolor": "white"
           }
          },
          "shapedefaults": {
           "line": {
            "color": "#2a3f5f"
           }
          },
          "ternary": {
           "aaxis": {
            "gridcolor": "white",
            "linecolor": "white",
            "ticks": ""
           },
           "baxis": {
            "gridcolor": "white",
            "linecolor": "white",
            "ticks": ""
           },
           "bgcolor": "#E5ECF6",
           "caxis": {
            "gridcolor": "white",
            "linecolor": "white",
            "ticks": ""
           }
          },
          "title": {
           "x": 0.05
          },
          "xaxis": {
           "automargin": true,
           "gridcolor": "white",
           "linecolor": "white",
           "ticks": "",
           "title": {
            "standoff": 15
           },
           "zerolinecolor": "white",
           "zerolinewidth": 2
          },
          "yaxis": {
           "automargin": true,
           "gridcolor": "white",
           "linecolor": "white",
           "ticks": "",
           "title": {
            "standoff": 15
           },
           "zerolinecolor": "white",
           "zerolinewidth": 2
          }
         }
        }
       }
      }
     },
     "metadata": {},
     "output_type": "display_data"
    }
   ],
   "source": [
    "pca = PCA()\n",
    "components = pca.fit_transform(df[features])\n",
    "labels = {\n",
    "    str(i): f\"PC {i+1} ({var:.1f}%)\"\n",
    "    for i, var in enumerate(pca.explained_variance_ratio_ * 100)\n",
    "}\n",
    "\n",
    "fig = px.scatter_matrix(\n",
    "    components,\n",
    "    labels=labels,\n",
    "    dimensions=range(5),\n",
    "    color=df[\"Etiology\"]\n",
    ")\n",
    "fig.update_traces(diagonal_visible=False, showupperhalf = False )\n",
    "fig.update_traces(marker_size = 4.5\n",
    "                  )\n",
    "fig.show()\n"
   ]
  },
  {
   "cell_type": "code",
   "execution_count": 187,
   "metadata": {},
   "outputs": [
    {
     "data": {
      "application/vnd.plotly.v1+json": {
       "config": {
        "plotlyServerURL": "https://plot.ly"
       },
       "data": [
        {
         "hovertemplate": "color=NTD<br>0=%{x}<br>1=%{y}<extra></extra>",
         "legendgroup": "NTD",
         "marker": {
          "color": "#636efa",
          "symbol": "circle"
         },
         "mode": "markers",
         "name": "NTD",
         "orientation": "v",
         "showlegend": true,
         "type": "scatter",
         "x": [
          -75.7684450466738,
          129.49101154063538,
          84.04491146981364,
          -57.38670382110415,
          47.88461434391988,
          154.7429075526503,
          96.128073679715,
          113.47628908165606,
          24.969301173945897,
          49.8784216540355,
          128.103376024378,
          -27.07930518610957,
          -24.516133202582633,
          -16.36518357861297,
          3.4243263266889854,
          -87.46048658871922,
          -13.6563353681015,
          -31.526827572445452,
          32.99981547593673,
          71.53241356857987
         ],
         "xaxis": "x",
         "y": [
          1.1202511904282249,
          -5.353048832373274,
          0.851819063032743,
          -8.336926915164268,
          -4.889340187365953,
          5.662329145182214,
          4.154533114411962,
          -4.3405981498181125,
          -3.927995380293358,
          -4.91171250995311,
          -2.699376549972972,
          -0.44461216010671184,
          10.164964469741607,
          1.296556503811792,
          -7.182526199544221,
          -8.713128485926045,
          15.608830439374229,
          -3.351043003548185,
          -5.024012707433743,
          1.3437050249948963
         ],
         "yaxis": "y"
        },
        {
         "hovertemplate": "color=OTHER<br>0=%{x}<br>1=%{y}<extra></extra>",
         "legendgroup": "OTHER",
         "marker": {
          "color": "#EF553B",
          "symbol": "circle"
         },
         "mode": "markers",
         "name": "OTHER",
         "orientation": "v",
         "showlegend": true,
         "type": "scatter",
         "x": [
          160.16154219542761,
          -70.52422961453183,
          -11.39972710763548,
          144.58446251572582,
          -94.83349464467008,
          -102.23791336275212,
          -46.640418819811046,
          -21.403112701177488,
          19.180989880599004,
          19.07829457562701,
          -94.66326323286481,
          -94.66787177180261,
          -94.67862377098551,
          -92.7872332680704,
          -79.61767896908036,
          -84.55813940836924,
          -44.35743548937233,
          -36.146334289233245,
          -28.56157477623017,
          59.509542302409365,
          68.97683138721602,
          67.23721536101517,
          -95.09021616306289,
          -106.35634619315493,
          -28.869885174186283,
          104.00485724925733,
          -105.44084077280922,
          -60.3991151217811,
          -53.58784812205114,
          68.99526108973436,
          -0.7585452186662428,
          -57.21464509379527,
          -37.60536699641277,
          -83.68524315246366,
          -25.228474372033297,
          -25.234261243441885
         ],
         "xaxis": "x",
         "y": [
          -4.054252687447585,
          -5.668568853953677,
          1.2763622696862125,
          7.35278133642032,
          -7.878915533071681,
          -1.2425896329174373,
          -0.4730093372222978,
          -8.785535751273231,
          0.26692854638795005,
          -5.022563316134749,
          5.155454904548645,
          2.0626458234404828,
          -2.09983410513769,
          3.8784877086336405,
          2.225828518573962,
          -2.971601803462294,
          0.934869864724764,
          1.3862402440950843,
          -1.1681371325500989,
          4.263101162070525,
          4.528174438290129,
          11.773230094693774,
          -4.982321718551509,
          43.67685489153592,
          -7.823336227293825,
          23.71249128844635,
          -10.325408612324527,
          -10.052642923047843,
          -9.814815889149997,
          -7.399758219159761,
          35.81321036249877,
          -1.7659247573236454,
          1.695713019695865,
          4.071322161845005,
          -8.15608730705768,
          -7.823396476010248
         ],
         "yaxis": "y"
        },
        {
         "hovertemplate": "color=IVH<br>0=%{x}<br>1=%{y}<extra></extra>",
         "legendgroup": "IVH",
         "marker": {
          "color": "#00cc96",
          "symbol": "circle"
         },
         "mode": "markers",
         "name": "IVH",
         "orientation": "v",
         "showlegend": true,
         "type": "scatter",
         "x": [
          -96.09749502485143,
          -40.31574259423586,
          54.29073121550643,
          -3.3664163517313734,
          150.31145373309022,
          -0.740239352402574,
          140.5268641976868,
          -78.71993288245457,
          15.480211995609075,
          -60.49858228549825,
          -33.322360718757544,
          2.626837776356777,
          64.84511905236822,
          167.02450622408134,
          -27.91463534503405,
          75.14002752896823,
          129.3950852498118,
          -82.73160381300251,
          -71.61310823032147,
          -6.2858750746836645,
          6.152810714936934,
          110.50908599126278,
          -71.36426568855644,
          -0.3414914326955688,
          77.16238029310962,
          47.97952479837305,
          -3.9004804154517925,
          -102.32960879565667
         ],
         "xaxis": "x",
         "y": [
          5.365514584084924,
          -9.111797111443535,
          -2.1666491914543635,
          2.4363571450745174,
          -5.221221233249164,
          7.012690724819087,
          0.08557099080940093,
          1.1367823685134528,
          1.3143829985145545,
          -0.37570293749012346,
          -6.983596942209577,
          -0.5953777845556077,
          -2.709031029409155,
          -2.46320824076551,
          -7.468396312992213,
          -2.16658010089197,
          -0.21536238261783006,
          2.1072072648457634,
          0.3706193279106603,
          0.46886307628210333,
          -6.868637785014035,
          3.500683804739193,
          -9.569574543199348,
          -8.10612682335147,
          -5.865074408364783,
          2.3081894906135996,
          0.4899740774822801,
          15.695836751343723
         ],
         "yaxis": "y"
        }
       ],
       "layout": {
        "legend": {
         "title": {
          "text": "color"
         },
         "tracegroupgap": 0
        },
        "margin": {
         "t": 60
        },
        "template": {
         "data": {
          "bar": [
           {
            "error_x": {
             "color": "#2a3f5f"
            },
            "error_y": {
             "color": "#2a3f5f"
            },
            "marker": {
             "line": {
              "color": "#E5ECF6",
              "width": 0.5
             },
             "pattern": {
              "fillmode": "overlay",
              "size": 10,
              "solidity": 0.2
             }
            },
            "type": "bar"
           }
          ],
          "barpolar": [
           {
            "marker": {
             "line": {
              "color": "#E5ECF6",
              "width": 0.5
             },
             "pattern": {
              "fillmode": "overlay",
              "size": 10,
              "solidity": 0.2
             }
            },
            "type": "barpolar"
           }
          ],
          "carpet": [
           {
            "aaxis": {
             "endlinecolor": "#2a3f5f",
             "gridcolor": "white",
             "linecolor": "white",
             "minorgridcolor": "white",
             "startlinecolor": "#2a3f5f"
            },
            "baxis": {
             "endlinecolor": "#2a3f5f",
             "gridcolor": "white",
             "linecolor": "white",
             "minorgridcolor": "white",
             "startlinecolor": "#2a3f5f"
            },
            "type": "carpet"
           }
          ],
          "choropleth": [
           {
            "colorbar": {
             "outlinewidth": 0,
             "ticks": ""
            },
            "type": "choropleth"
           }
          ],
          "contour": [
           {
            "colorbar": {
             "outlinewidth": 0,
             "ticks": ""
            },
            "colorscale": [
             [
              0,
              "#0d0887"
             ],
             [
              0.1111111111111111,
              "#46039f"
             ],
             [
              0.2222222222222222,
              "#7201a8"
             ],
             [
              0.3333333333333333,
              "#9c179e"
             ],
             [
              0.4444444444444444,
              "#bd3786"
             ],
             [
              0.5555555555555556,
              "#d8576b"
             ],
             [
              0.6666666666666666,
              "#ed7953"
             ],
             [
              0.7777777777777778,
              "#fb9f3a"
             ],
             [
              0.8888888888888888,
              "#fdca26"
             ],
             [
              1,
              "#f0f921"
             ]
            ],
            "type": "contour"
           }
          ],
          "contourcarpet": [
           {
            "colorbar": {
             "outlinewidth": 0,
             "ticks": ""
            },
            "type": "contourcarpet"
           }
          ],
          "heatmap": [
           {
            "colorbar": {
             "outlinewidth": 0,
             "ticks": ""
            },
            "colorscale": [
             [
              0,
              "#0d0887"
             ],
             [
              0.1111111111111111,
              "#46039f"
             ],
             [
              0.2222222222222222,
              "#7201a8"
             ],
             [
              0.3333333333333333,
              "#9c179e"
             ],
             [
              0.4444444444444444,
              "#bd3786"
             ],
             [
              0.5555555555555556,
              "#d8576b"
             ],
             [
              0.6666666666666666,
              "#ed7953"
             ],
             [
              0.7777777777777778,
              "#fb9f3a"
             ],
             [
              0.8888888888888888,
              "#fdca26"
             ],
             [
              1,
              "#f0f921"
             ]
            ],
            "type": "heatmap"
           }
          ],
          "heatmapgl": [
           {
            "colorbar": {
             "outlinewidth": 0,
             "ticks": ""
            },
            "colorscale": [
             [
              0,
              "#0d0887"
             ],
             [
              0.1111111111111111,
              "#46039f"
             ],
             [
              0.2222222222222222,
              "#7201a8"
             ],
             [
              0.3333333333333333,
              "#9c179e"
             ],
             [
              0.4444444444444444,
              "#bd3786"
             ],
             [
              0.5555555555555556,
              "#d8576b"
             ],
             [
              0.6666666666666666,
              "#ed7953"
             ],
             [
              0.7777777777777778,
              "#fb9f3a"
             ],
             [
              0.8888888888888888,
              "#fdca26"
             ],
             [
              1,
              "#f0f921"
             ]
            ],
            "type": "heatmapgl"
           }
          ],
          "histogram": [
           {
            "marker": {
             "pattern": {
              "fillmode": "overlay",
              "size": 10,
              "solidity": 0.2
             }
            },
            "type": "histogram"
           }
          ],
          "histogram2d": [
           {
            "colorbar": {
             "outlinewidth": 0,
             "ticks": ""
            },
            "colorscale": [
             [
              0,
              "#0d0887"
             ],
             [
              0.1111111111111111,
              "#46039f"
             ],
             [
              0.2222222222222222,
              "#7201a8"
             ],
             [
              0.3333333333333333,
              "#9c179e"
             ],
             [
              0.4444444444444444,
              "#bd3786"
             ],
             [
              0.5555555555555556,
              "#d8576b"
             ],
             [
              0.6666666666666666,
              "#ed7953"
             ],
             [
              0.7777777777777778,
              "#fb9f3a"
             ],
             [
              0.8888888888888888,
              "#fdca26"
             ],
             [
              1,
              "#f0f921"
             ]
            ],
            "type": "histogram2d"
           }
          ],
          "histogram2dcontour": [
           {
            "colorbar": {
             "outlinewidth": 0,
             "ticks": ""
            },
            "colorscale": [
             [
              0,
              "#0d0887"
             ],
             [
              0.1111111111111111,
              "#46039f"
             ],
             [
              0.2222222222222222,
              "#7201a8"
             ],
             [
              0.3333333333333333,
              "#9c179e"
             ],
             [
              0.4444444444444444,
              "#bd3786"
             ],
             [
              0.5555555555555556,
              "#d8576b"
             ],
             [
              0.6666666666666666,
              "#ed7953"
             ],
             [
              0.7777777777777778,
              "#fb9f3a"
             ],
             [
              0.8888888888888888,
              "#fdca26"
             ],
             [
              1,
              "#f0f921"
             ]
            ],
            "type": "histogram2dcontour"
           }
          ],
          "mesh3d": [
           {
            "colorbar": {
             "outlinewidth": 0,
             "ticks": ""
            },
            "type": "mesh3d"
           }
          ],
          "parcoords": [
           {
            "line": {
             "colorbar": {
              "outlinewidth": 0,
              "ticks": ""
             }
            },
            "type": "parcoords"
           }
          ],
          "pie": [
           {
            "automargin": true,
            "type": "pie"
           }
          ],
          "scatter": [
           {
            "marker": {
             "colorbar": {
              "outlinewidth": 0,
              "ticks": ""
             }
            },
            "type": "scatter"
           }
          ],
          "scatter3d": [
           {
            "line": {
             "colorbar": {
              "outlinewidth": 0,
              "ticks": ""
             }
            },
            "marker": {
             "colorbar": {
              "outlinewidth": 0,
              "ticks": ""
             }
            },
            "type": "scatter3d"
           }
          ],
          "scattercarpet": [
           {
            "marker": {
             "colorbar": {
              "outlinewidth": 0,
              "ticks": ""
             }
            },
            "type": "scattercarpet"
           }
          ],
          "scattergeo": [
           {
            "marker": {
             "colorbar": {
              "outlinewidth": 0,
              "ticks": ""
             }
            },
            "type": "scattergeo"
           }
          ],
          "scattergl": [
           {
            "marker": {
             "colorbar": {
              "outlinewidth": 0,
              "ticks": ""
             }
            },
            "type": "scattergl"
           }
          ],
          "scattermapbox": [
           {
            "marker": {
             "colorbar": {
              "outlinewidth": 0,
              "ticks": ""
             }
            },
            "type": "scattermapbox"
           }
          ],
          "scatterpolar": [
           {
            "marker": {
             "colorbar": {
              "outlinewidth": 0,
              "ticks": ""
             }
            },
            "type": "scatterpolar"
           }
          ],
          "scatterpolargl": [
           {
            "marker": {
             "colorbar": {
              "outlinewidth": 0,
              "ticks": ""
             }
            },
            "type": "scatterpolargl"
           }
          ],
          "scatterternary": [
           {
            "marker": {
             "colorbar": {
              "outlinewidth": 0,
              "ticks": ""
             }
            },
            "type": "scatterternary"
           }
          ],
          "surface": [
           {
            "colorbar": {
             "outlinewidth": 0,
             "ticks": ""
            },
            "colorscale": [
             [
              0,
              "#0d0887"
             ],
             [
              0.1111111111111111,
              "#46039f"
             ],
             [
              0.2222222222222222,
              "#7201a8"
             ],
             [
              0.3333333333333333,
              "#9c179e"
             ],
             [
              0.4444444444444444,
              "#bd3786"
             ],
             [
              0.5555555555555556,
              "#d8576b"
             ],
             [
              0.6666666666666666,
              "#ed7953"
             ],
             [
              0.7777777777777778,
              "#fb9f3a"
             ],
             [
              0.8888888888888888,
              "#fdca26"
             ],
             [
              1,
              "#f0f921"
             ]
            ],
            "type": "surface"
           }
          ],
          "table": [
           {
            "cells": {
             "fill": {
              "color": "#EBF0F8"
             },
             "line": {
              "color": "white"
             }
            },
            "header": {
             "fill": {
              "color": "#C8D4E3"
             },
             "line": {
              "color": "white"
             }
            },
            "type": "table"
           }
          ]
         },
         "layout": {
          "annotationdefaults": {
           "arrowcolor": "#2a3f5f",
           "arrowhead": 0,
           "arrowwidth": 1
          },
          "autotypenumbers": "strict",
          "coloraxis": {
           "colorbar": {
            "outlinewidth": 0,
            "ticks": ""
           }
          },
          "colorscale": {
           "diverging": [
            [
             0,
             "#8e0152"
            ],
            [
             0.1,
             "#c51b7d"
            ],
            [
             0.2,
             "#de77ae"
            ],
            [
             0.3,
             "#f1b6da"
            ],
            [
             0.4,
             "#fde0ef"
            ],
            [
             0.5,
             "#f7f7f7"
            ],
            [
             0.6,
             "#e6f5d0"
            ],
            [
             0.7,
             "#b8e186"
            ],
            [
             0.8,
             "#7fbc41"
            ],
            [
             0.9,
             "#4d9221"
            ],
            [
             1,
             "#276419"
            ]
           ],
           "sequential": [
            [
             0,
             "#0d0887"
            ],
            [
             0.1111111111111111,
             "#46039f"
            ],
            [
             0.2222222222222222,
             "#7201a8"
            ],
            [
             0.3333333333333333,
             "#9c179e"
            ],
            [
             0.4444444444444444,
             "#bd3786"
            ],
            [
             0.5555555555555556,
             "#d8576b"
            ],
            [
             0.6666666666666666,
             "#ed7953"
            ],
            [
             0.7777777777777778,
             "#fb9f3a"
            ],
            [
             0.8888888888888888,
             "#fdca26"
            ],
            [
             1,
             "#f0f921"
            ]
           ],
           "sequentialminus": [
            [
             0,
             "#0d0887"
            ],
            [
             0.1111111111111111,
             "#46039f"
            ],
            [
             0.2222222222222222,
             "#7201a8"
            ],
            [
             0.3333333333333333,
             "#9c179e"
            ],
            [
             0.4444444444444444,
             "#bd3786"
            ],
            [
             0.5555555555555556,
             "#d8576b"
            ],
            [
             0.6666666666666666,
             "#ed7953"
            ],
            [
             0.7777777777777778,
             "#fb9f3a"
            ],
            [
             0.8888888888888888,
             "#fdca26"
            ],
            [
             1,
             "#f0f921"
            ]
           ]
          },
          "colorway": [
           "#636efa",
           "#EF553B",
           "#00cc96",
           "#ab63fa",
           "#FFA15A",
           "#19d3f3",
           "#FF6692",
           "#B6E880",
           "#FF97FF",
           "#FECB52"
          ],
          "font": {
           "color": "#2a3f5f"
          },
          "geo": {
           "bgcolor": "white",
           "lakecolor": "white",
           "landcolor": "#E5ECF6",
           "showlakes": true,
           "showland": true,
           "subunitcolor": "white"
          },
          "hoverlabel": {
           "align": "left"
          },
          "hovermode": "closest",
          "mapbox": {
           "style": "light"
          },
          "paper_bgcolor": "white",
          "plot_bgcolor": "#E5ECF6",
          "polar": {
           "angularaxis": {
            "gridcolor": "white",
            "linecolor": "white",
            "ticks": ""
           },
           "bgcolor": "#E5ECF6",
           "radialaxis": {
            "gridcolor": "white",
            "linecolor": "white",
            "ticks": ""
           }
          },
          "scene": {
           "xaxis": {
            "backgroundcolor": "#E5ECF6",
            "gridcolor": "white",
            "gridwidth": 2,
            "linecolor": "white",
            "showbackground": true,
            "ticks": "",
            "zerolinecolor": "white"
           },
           "yaxis": {
            "backgroundcolor": "#E5ECF6",
            "gridcolor": "white",
            "gridwidth": 2,
            "linecolor": "white",
            "showbackground": true,
            "ticks": "",
            "zerolinecolor": "white"
           },
           "zaxis": {
            "backgroundcolor": "#E5ECF6",
            "gridcolor": "white",
            "gridwidth": 2,
            "linecolor": "white",
            "showbackground": true,
            "ticks": "",
            "zerolinecolor": "white"
           }
          },
          "shapedefaults": {
           "line": {
            "color": "#2a3f5f"
           }
          },
          "ternary": {
           "aaxis": {
            "gridcolor": "white",
            "linecolor": "white",
            "ticks": ""
           },
           "baxis": {
            "gridcolor": "white",
            "linecolor": "white",
            "ticks": ""
           },
           "bgcolor": "#E5ECF6",
           "caxis": {
            "gridcolor": "white",
            "linecolor": "white",
            "ticks": ""
           }
          },
          "title": {
           "x": 0.05
          },
          "xaxis": {
           "automargin": true,
           "gridcolor": "white",
           "linecolor": "white",
           "ticks": "",
           "title": {
            "standoff": 15
           },
           "zerolinecolor": "white",
           "zerolinewidth": 2
          },
          "yaxis": {
           "automargin": true,
           "gridcolor": "white",
           "linecolor": "white",
           "ticks": "",
           "title": {
            "standoff": 15
           },
           "zerolinecolor": "white",
           "zerolinewidth": 2
          }
         }
        },
        "xaxis": {
         "anchor": "y",
         "domain": [
          0,
          1
         ],
         "title": {
          "text": "0"
         }
        },
        "yaxis": {
         "anchor": "x",
         "domain": [
          0,
          1
         ],
         "title": {
          "text": "1"
         }
        }
       }
      }
     },
     "metadata": {},
     "output_type": "display_data"
    }
   ],
   "source": [
    "df = pd.read_csv(\"DS1.csv\")\n",
    "X = df[['Months', 'BMI', 'Age', 'FOHR', 'FR']]\n",
    "\n",
    "pca = PCA(n_components=5)\n",
    "components = pca.fit_transform(X)\n",
    "\n",
    "fig = px.scatter(components, x=0, y=1, color = df['Etiology'])\n",
    "fig.show()"
   ]
  },
  {
   "cell_type": "code",
   "execution_count": 231,
   "metadata": {},
   "outputs": [
    {
     "data": {
      "application/vnd.plotly.v1+json": {
       "config": {
        "plotlyServerURL": "https://plot.ly"
       },
       "data": [
        {
         "hovertemplate": "color=NTD<br>PC 1=%{x}<br>PC 2=%{y}<br>PC 3=%{z}<extra></extra>",
         "legendgroup": "NTD",
         "marker": {
          "color": "#636efa",
          "size": 4,
          "symbol": "circle"
         },
         "mode": "markers",
         "name": "NTD",
         "scene": "scene",
         "showlegend": true,
         "type": "scatter3d",
         "x": [
          7.090510712225245,
          -11.780246369265551,
          -2.8756674318006374,
          -3.2947829401211863,
          -5.294370576670042,
          -5.598534529680831,
          -1.1618262483863933,
          -10.54941901860931,
          -4.461652746717418,
          -5.307378481980737,
          -7.289607130028582,
          0.06452280649433621,
          11.10880355793381,
          2.948873032009932,
          -2.9331714693844697,
          -2.217850993330123,
          15.989815877990145,
          0.7424494950933654,
          -5.702660918591606,
          -5.239655550336003
         ],
         "y": [
          -8.83555805029353,
          6.103685887392471,
          3.917679679267792,
          -9.645409257109536,
          -2.7248791914648263,
          17.9928835514471,
          7.499553288859237,
          6.8584387552211465,
          -0.8517151801620291,
          -2.8897240368547488,
          2.591397385649018,
          0.5204134643304347,
          1.4488679210908668,
          -2.394771923968127,
          -11.182751042523048,
          -11.316279061637319,
          3.1430355628359834,
          -7.989585051909458,
          -1.2502623127435943,
          11.304727666977398
         ],
         "z": [
          0.2207068104036369,
          2.812217104439616,
          2.8928882551217714,
          -2.7272682585828254,
          3.1535315555821937,
          -2.166544188630722,
          2.2916671860217073,
          -0.3741514203324253,
          -1.008646432803226,
          3.7774801533873643,
          6.715831092385108,
          -5.733471169520532,
          -0.07150316099647816,
          -0.5302176295215576,
          5.625941185411433,
          -3.7539814099170044,
          2.7866318170033915,
          0.7710450466003925,
          0.08749911083066754,
          -5.840238379853017
         ]
        },
        {
         "hovertemplate": "color=OTHER<br>PC 1=%{x}<br>PC 2=%{y}<br>PC 3=%{z}<extra></extra>",
         "legendgroup": "OTHER",
         "marker": {
          "color": "#EF553B",
          "size": 4,
          "symbol": "circle"
         },
         "mode": "markers",
         "name": "OTHER",
         "scene": "scene",
         "showlegend": true,
         "type": "scatter3d",
         "x": [
          -15.936115885805517,
          0.09073325304088438,
          3.025648090720255,
          -2.9585211425526774,
          -10.227385827929556,
          3.1317605058270495,
          4.21344240477953,
          -10.175226090368806,
          -7.072087875338206,
          -5.7374167147597905,
          10.124950745478554,
          7.745838540302177,
          4.59366395954392,
          9.925434973333207,
          7.1637460113511695,
          2.9340836197365356,
          3.4716373477332896,
          2.2008046107952532,
          2.6306964961714594,
          -2.425317636832709,
          0.9713657817641557,
          5.2023796318282844,
          -5.7822053197208945,
          45.19142228606244,
          -6.953394527298755,
          14.787690842126084,
          -8.14544489342754,
          -9.450935089572162,
          -8.31687516684488,
          -8.560256611527,
          32.346012162899264,
          0.7343755089563654,
          5.4348592576698005,
          9.100880115534691,
          -5.058291689995069,
          -4.760161726060999
         ],
         "y": [
          17.08227516259076,
          -10.027930526881812,
          -2.9283245615855953,
          16.73438565772798,
          8.134268192189383,
          -4.574529732222482,
          -7.9455994675309185,
          2.1556312569357825,
          14.33619762889401,
          -0.4081416309161111,
          -4.629244088111446,
          -6.891310362522654,
          -10.069432832018906,
          -7.525754399396611,
          -6.077257179339966,
          -9.109974719112595,
          -2.8943770252379295,
          0.7025644592796182,
          -7.097020887105963,
          12.796972925160425,
          5.045147561841133,
          13.335650201502087,
          4.659242945896148,
          11.472024565515266,
          -1.704767603960037,
          19.113626388877798,
          -1.9414387796531043,
          -0.9612388766370078,
          -3.3143370780381916,
          -2.7446654150341154,
          14.967710848513393,
          -2.5095051923901246,
          -5.881581181936882,
          -5.628947253415145,
          -7.0712699021902505,
          -6.926300055279193
         ],
         "z": [
          -5.106524894332703,
          -1.6126511057232549,
          0.692630616629434,
          -0.7214231685683103,
          -6.684658984834509,
          -2.1703191487413456,
          1.5632167297807145,
          -2.591876208385985,
          4.581020920530052,
          -1.4231744607409509,
          -3.7425174534870957,
          -2.984367702679551,
          -1.5794960528714073,
          -0.4875277000502665,
          -1.7378915931473418,
          -1.1044411706827824,
          -2.403980343567312,
          -5.60570521145149,
          1.8864438373773809,
          -6.4955423411289965,
          3.511514886361103,
          0.7745264622048302,
          4.915026811654835,
          2.0167029064561897,
          -7.288505852070896,
          2.989472197385698,
          -0.6895580069530433,
          3.4243051240322306,
          6.004461699544541,
          3.9847286564726643,
          6.253293427682141,
          -6.606563255963495,
          1.6160900374914469,
          -2.2157828191304234,
          -1.786342903022421,
          -1.741817101098164
         ]
        },
        {
         "hovertemplate": "color=IVH<br>PC 1=%{x}<br>PC 2=%{y}<br>PC 3=%{z}<extra></extra>",
         "legendgroup": "IVH",
         "marker": {
          "color": "#00cc96",
          "size": 4,
          "symbol": "circle"
         },
         "mode": "markers",
         "name": "IVH",
         "scene": "scene",
         "showlegend": true,
         "type": "scatter3d",
         "x": [
          7.757651694163159,
          -4.823000451363476,
          -5.958566691101929,
          3.4866175131157413,
          -11.23921068119741,
          9.397713599928712,
          -8.17217572945522,
          6.89276456652391,
          3.0960947163583685,
          3.7567295890785544,
          -3.328688372445014,
          0.9958651598100354,
          -3.831994527074974,
          -7.681166177228997,
          -5.739072068245534,
          -5.5936494800313685,
          -7.2496316938157905,
          7.837725160908258,
          5.388371863671402,
          1.5210531168302215,
          -7.336776247991965,
          -4.536918484403827,
          -3.88574752084586,
          -5.012353258376634,
          -8.621368734210527,
          -0.27880404620633736,
          -0.9587567371407753,
          16.41735289628331
         ],
         "y": [
          0.41754816599684097,
          -9.097460737900565,
          5.228337901412396,
          -1.564548902924987,
          4.068096787154956,
          -3.8941217061237183,
          10.830175541986582,
          -8.179979418722695,
          -4.625233829774594,
          -5.812797584015287,
          -7.6212059369315295,
          -3.7711238302390813,
          -1.6368907815574623,
          1.7466075054438126,
          -4.313146060018569,
          3.159434640104383,
          8.62176648646472,
          -7.6885208775279645,
          -7.038656318222127,
          -1.7909791359305636,
          -0.5297255367936916,
          12.78496734661785,
          -10.648629711841755,
          -8.52040156030048,
          0.7028859786734717,
          3.7123917773801445,
          3.7817444054251004,
          7.706968293353098
         ],
         "z": [
          3.188071140306661,
          -1.786880201647018,
          -3.269663893806496,
          0.6786876607230302,
          5.817027290180577,
          6.245669552208547,
          0.8254299519303473,
          -0.5896980364366428,
          5.745381156540415,
          -2.323061081378986,
          -1.5779071429870266,
          2.0038308208104367,
          4.844150314213565,
          12.088742936385604,
          3.7904480604314137,
          1.0228157710415546,
          1.8386080112140393,
          -1.004714239195758,
          -1.7450908775069365,
          -0.44778482411627984,
          -4.23878021945394,
          -2.443305732095445,
          -2.405744551468651,
          2.2665414883102004,
          2.50175969958637,
          0.37991326498986017,
          -5.702946034632292,
          -12.063684386148417
         ]
        }
       ],
       "layout": {
        "legend": {
         "title": {
          "text": "color"
         },
         "tracegroupgap": 0
        },
        "scene": {
         "domain": {
          "x": [
           0,
           1
          ],
          "y": [
           0,
           1
          ]
         },
         "xaxis": {
          "title": {
           "text": "PC 1"
          }
         },
         "yaxis": {
          "title": {
           "text": "PC 2"
          }
         },
         "zaxis": {
          "title": {
           "text": "PC 3"
          }
         }
        },
        "template": {
         "data": {
          "bar": [
           {
            "error_x": {
             "color": "#2a3f5f"
            },
            "error_y": {
             "color": "#2a3f5f"
            },
            "marker": {
             "line": {
              "color": "#E5ECF6",
              "width": 0.5
             },
             "pattern": {
              "fillmode": "overlay",
              "size": 10,
              "solidity": 0.2
             }
            },
            "type": "bar"
           }
          ],
          "barpolar": [
           {
            "marker": {
             "line": {
              "color": "#E5ECF6",
              "width": 0.5
             },
             "pattern": {
              "fillmode": "overlay",
              "size": 10,
              "solidity": 0.2
             }
            },
            "type": "barpolar"
           }
          ],
          "carpet": [
           {
            "aaxis": {
             "endlinecolor": "#2a3f5f",
             "gridcolor": "white",
             "linecolor": "white",
             "minorgridcolor": "white",
             "startlinecolor": "#2a3f5f"
            },
            "baxis": {
             "endlinecolor": "#2a3f5f",
             "gridcolor": "white",
             "linecolor": "white",
             "minorgridcolor": "white",
             "startlinecolor": "#2a3f5f"
            },
            "type": "carpet"
           }
          ],
          "choropleth": [
           {
            "colorbar": {
             "outlinewidth": 0,
             "ticks": ""
            },
            "type": "choropleth"
           }
          ],
          "contour": [
           {
            "colorbar": {
             "outlinewidth": 0,
             "ticks": ""
            },
            "colorscale": [
             [
              0,
              "#0d0887"
             ],
             [
              0.1111111111111111,
              "#46039f"
             ],
             [
              0.2222222222222222,
              "#7201a8"
             ],
             [
              0.3333333333333333,
              "#9c179e"
             ],
             [
              0.4444444444444444,
              "#bd3786"
             ],
             [
              0.5555555555555556,
              "#d8576b"
             ],
             [
              0.6666666666666666,
              "#ed7953"
             ],
             [
              0.7777777777777778,
              "#fb9f3a"
             ],
             [
              0.8888888888888888,
              "#fdca26"
             ],
             [
              1,
              "#f0f921"
             ]
            ],
            "type": "contour"
           }
          ],
          "contourcarpet": [
           {
            "colorbar": {
             "outlinewidth": 0,
             "ticks": ""
            },
            "type": "contourcarpet"
           }
          ],
          "heatmap": [
           {
            "colorbar": {
             "outlinewidth": 0,
             "ticks": ""
            },
            "colorscale": [
             [
              0,
              "#0d0887"
             ],
             [
              0.1111111111111111,
              "#46039f"
             ],
             [
              0.2222222222222222,
              "#7201a8"
             ],
             [
              0.3333333333333333,
              "#9c179e"
             ],
             [
              0.4444444444444444,
              "#bd3786"
             ],
             [
              0.5555555555555556,
              "#d8576b"
             ],
             [
              0.6666666666666666,
              "#ed7953"
             ],
             [
              0.7777777777777778,
              "#fb9f3a"
             ],
             [
              0.8888888888888888,
              "#fdca26"
             ],
             [
              1,
              "#f0f921"
             ]
            ],
            "type": "heatmap"
           }
          ],
          "heatmapgl": [
           {
            "colorbar": {
             "outlinewidth": 0,
             "ticks": ""
            },
            "colorscale": [
             [
              0,
              "#0d0887"
             ],
             [
              0.1111111111111111,
              "#46039f"
             ],
             [
              0.2222222222222222,
              "#7201a8"
             ],
             [
              0.3333333333333333,
              "#9c179e"
             ],
             [
              0.4444444444444444,
              "#bd3786"
             ],
             [
              0.5555555555555556,
              "#d8576b"
             ],
             [
              0.6666666666666666,
              "#ed7953"
             ],
             [
              0.7777777777777778,
              "#fb9f3a"
             ],
             [
              0.8888888888888888,
              "#fdca26"
             ],
             [
              1,
              "#f0f921"
             ]
            ],
            "type": "heatmapgl"
           }
          ],
          "histogram": [
           {
            "marker": {
             "pattern": {
              "fillmode": "overlay",
              "size": 10,
              "solidity": 0.2
             }
            },
            "type": "histogram"
           }
          ],
          "histogram2d": [
           {
            "colorbar": {
             "outlinewidth": 0,
             "ticks": ""
            },
            "colorscale": [
             [
              0,
              "#0d0887"
             ],
             [
              0.1111111111111111,
              "#46039f"
             ],
             [
              0.2222222222222222,
              "#7201a8"
             ],
             [
              0.3333333333333333,
              "#9c179e"
             ],
             [
              0.4444444444444444,
              "#bd3786"
             ],
             [
              0.5555555555555556,
              "#d8576b"
             ],
             [
              0.6666666666666666,
              "#ed7953"
             ],
             [
              0.7777777777777778,
              "#fb9f3a"
             ],
             [
              0.8888888888888888,
              "#fdca26"
             ],
             [
              1,
              "#f0f921"
             ]
            ],
            "type": "histogram2d"
           }
          ],
          "histogram2dcontour": [
           {
            "colorbar": {
             "outlinewidth": 0,
             "ticks": ""
            },
            "colorscale": [
             [
              0,
              "#0d0887"
             ],
             [
              0.1111111111111111,
              "#46039f"
             ],
             [
              0.2222222222222222,
              "#7201a8"
             ],
             [
              0.3333333333333333,
              "#9c179e"
             ],
             [
              0.4444444444444444,
              "#bd3786"
             ],
             [
              0.5555555555555556,
              "#d8576b"
             ],
             [
              0.6666666666666666,
              "#ed7953"
             ],
             [
              0.7777777777777778,
              "#fb9f3a"
             ],
             [
              0.8888888888888888,
              "#fdca26"
             ],
             [
              1,
              "#f0f921"
             ]
            ],
            "type": "histogram2dcontour"
           }
          ],
          "mesh3d": [
           {
            "colorbar": {
             "outlinewidth": 0,
             "ticks": ""
            },
            "type": "mesh3d"
           }
          ],
          "parcoords": [
           {
            "line": {
             "colorbar": {
              "outlinewidth": 0,
              "ticks": ""
             }
            },
            "type": "parcoords"
           }
          ],
          "pie": [
           {
            "automargin": true,
            "type": "pie"
           }
          ],
          "scatter": [
           {
            "marker": {
             "colorbar": {
              "outlinewidth": 0,
              "ticks": ""
             }
            },
            "type": "scatter"
           }
          ],
          "scatter3d": [
           {
            "line": {
             "colorbar": {
              "outlinewidth": 0,
              "ticks": ""
             }
            },
            "marker": {
             "colorbar": {
              "outlinewidth": 0,
              "ticks": ""
             }
            },
            "type": "scatter3d"
           }
          ],
          "scattercarpet": [
           {
            "marker": {
             "colorbar": {
              "outlinewidth": 0,
              "ticks": ""
             }
            },
            "type": "scattercarpet"
           }
          ],
          "scattergeo": [
           {
            "marker": {
             "colorbar": {
              "outlinewidth": 0,
              "ticks": ""
             }
            },
            "type": "scattergeo"
           }
          ],
          "scattergl": [
           {
            "marker": {
             "colorbar": {
              "outlinewidth": 0,
              "ticks": ""
             }
            },
            "type": "scattergl"
           }
          ],
          "scattermapbox": [
           {
            "marker": {
             "colorbar": {
              "outlinewidth": 0,
              "ticks": ""
             }
            },
            "type": "scattermapbox"
           }
          ],
          "scatterpolar": [
           {
            "marker": {
             "colorbar": {
              "outlinewidth": 0,
              "ticks": ""
             }
            },
            "type": "scatterpolar"
           }
          ],
          "scatterpolargl": [
           {
            "marker": {
             "colorbar": {
              "outlinewidth": 0,
              "ticks": ""
             }
            },
            "type": "scatterpolargl"
           }
          ],
          "scatterternary": [
           {
            "marker": {
             "colorbar": {
              "outlinewidth": 0,
              "ticks": ""
             }
            },
            "type": "scatterternary"
           }
          ],
          "surface": [
           {
            "colorbar": {
             "outlinewidth": 0,
             "ticks": ""
            },
            "colorscale": [
             [
              0,
              "#0d0887"
             ],
             [
              0.1111111111111111,
              "#46039f"
             ],
             [
              0.2222222222222222,
              "#7201a8"
             ],
             [
              0.3333333333333333,
              "#9c179e"
             ],
             [
              0.4444444444444444,
              "#bd3786"
             ],
             [
              0.5555555555555556,
              "#d8576b"
             ],
             [
              0.6666666666666666,
              "#ed7953"
             ],
             [
              0.7777777777777778,
              "#fb9f3a"
             ],
             [
              0.8888888888888888,
              "#fdca26"
             ],
             [
              1,
              "#f0f921"
             ]
            ],
            "type": "surface"
           }
          ],
          "table": [
           {
            "cells": {
             "fill": {
              "color": "#EBF0F8"
             },
             "line": {
              "color": "white"
             }
            },
            "header": {
             "fill": {
              "color": "#C8D4E3"
             },
             "line": {
              "color": "white"
             }
            },
            "type": "table"
           }
          ]
         },
         "layout": {
          "annotationdefaults": {
           "arrowcolor": "#2a3f5f",
           "arrowhead": 0,
           "arrowwidth": 1
          },
          "autotypenumbers": "strict",
          "coloraxis": {
           "colorbar": {
            "outlinewidth": 0,
            "ticks": ""
           }
          },
          "colorscale": {
           "diverging": [
            [
             0,
             "#8e0152"
            ],
            [
             0.1,
             "#c51b7d"
            ],
            [
             0.2,
             "#de77ae"
            ],
            [
             0.3,
             "#f1b6da"
            ],
            [
             0.4,
             "#fde0ef"
            ],
            [
             0.5,
             "#f7f7f7"
            ],
            [
             0.6,
             "#e6f5d0"
            ],
            [
             0.7,
             "#b8e186"
            ],
            [
             0.8,
             "#7fbc41"
            ],
            [
             0.9,
             "#4d9221"
            ],
            [
             1,
             "#276419"
            ]
           ],
           "sequential": [
            [
             0,
             "#0d0887"
            ],
            [
             0.1111111111111111,
             "#46039f"
            ],
            [
             0.2222222222222222,
             "#7201a8"
            ],
            [
             0.3333333333333333,
             "#9c179e"
            ],
            [
             0.4444444444444444,
             "#bd3786"
            ],
            [
             0.5555555555555556,
             "#d8576b"
            ],
            [
             0.6666666666666666,
             "#ed7953"
            ],
            [
             0.7777777777777778,
             "#fb9f3a"
            ],
            [
             0.8888888888888888,
             "#fdca26"
            ],
            [
             1,
             "#f0f921"
            ]
           ],
           "sequentialminus": [
            [
             0,
             "#0d0887"
            ],
            [
             0.1111111111111111,
             "#46039f"
            ],
            [
             0.2222222222222222,
             "#7201a8"
            ],
            [
             0.3333333333333333,
             "#9c179e"
            ],
            [
             0.4444444444444444,
             "#bd3786"
            ],
            [
             0.5555555555555556,
             "#d8576b"
            ],
            [
             0.6666666666666666,
             "#ed7953"
            ],
            [
             0.7777777777777778,
             "#fb9f3a"
            ],
            [
             0.8888888888888888,
             "#fdca26"
            ],
            [
             1,
             "#f0f921"
            ]
           ]
          },
          "colorway": [
           "#636efa",
           "#EF553B",
           "#00cc96",
           "#ab63fa",
           "#FFA15A",
           "#19d3f3",
           "#FF6692",
           "#B6E880",
           "#FF97FF",
           "#FECB52"
          ],
          "font": {
           "color": "#2a3f5f"
          },
          "geo": {
           "bgcolor": "white",
           "lakecolor": "white",
           "landcolor": "#E5ECF6",
           "showlakes": true,
           "showland": true,
           "subunitcolor": "white"
          },
          "hoverlabel": {
           "align": "left"
          },
          "hovermode": "closest",
          "mapbox": {
           "style": "light"
          },
          "paper_bgcolor": "white",
          "plot_bgcolor": "#E5ECF6",
          "polar": {
           "angularaxis": {
            "gridcolor": "white",
            "linecolor": "white",
            "ticks": ""
           },
           "bgcolor": "#E5ECF6",
           "radialaxis": {
            "gridcolor": "white",
            "linecolor": "white",
            "ticks": ""
           }
          },
          "scene": {
           "xaxis": {
            "backgroundcolor": "#E5ECF6",
            "gridcolor": "white",
            "gridwidth": 2,
            "linecolor": "white",
            "showbackground": true,
            "ticks": "",
            "zerolinecolor": "white"
           },
           "yaxis": {
            "backgroundcolor": "#E5ECF6",
            "gridcolor": "white",
            "gridwidth": 2,
            "linecolor": "white",
            "showbackground": true,
            "ticks": "",
            "zerolinecolor": "white"
           },
           "zaxis": {
            "backgroundcolor": "#E5ECF6",
            "gridcolor": "white",
            "gridwidth": 2,
            "linecolor": "white",
            "showbackground": true,
            "ticks": "",
            "zerolinecolor": "white"
           }
          },
          "shapedefaults": {
           "line": {
            "color": "#2a3f5f"
           }
          },
          "ternary": {
           "aaxis": {
            "gridcolor": "white",
            "linecolor": "white",
            "ticks": ""
           },
           "baxis": {
            "gridcolor": "white",
            "linecolor": "white",
            "ticks": ""
           },
           "bgcolor": "#E5ECF6",
           "caxis": {
            "gridcolor": "white",
            "linecolor": "white",
            "ticks": ""
           }
          },
          "title": {
           "x": 0.05
          },
          "xaxis": {
           "automargin": true,
           "gridcolor": "white",
           "linecolor": "white",
           "ticks": "",
           "title": {
            "standoff": 15
           },
           "zerolinecolor": "white",
           "zerolinewidth": 2
          },
          "yaxis": {
           "automargin": true,
           "gridcolor": "white",
           "linecolor": "white",
           "ticks": "",
           "title": {
            "standoff": 15
           },
           "zerolinecolor": "white",
           "zerolinewidth": 2
          }
         }
        },
        "title": {
         "text": "Total Explained Variance: 100.00%"
        }
       }
      }
     },
     "metadata": {},
     "output_type": "display_data"
    }
   ],
   "source": [
    "X = df[['Age', 'FR', 'FOHR', \"BMI\"]]\n",
    "\n",
    "pca = PCA(n_components=4)\n",
    "components = pca.fit_transform(X)\n",
    "\n",
    "total_var = pca.explained_variance_ratio_.sum() * 100\n",
    "\n",
    "fig = px.scatter_3d(\n",
    "    components, x=0, y=1, z=2, color=df['Etiology'],\n",
    "    title=f'Total Explained Variance: {total_var:.2f}%',\n",
    "    labels={'0': 'PC 1', '1': 'PC 2', '2': 'PC 3'}\n",
    ")\n",
    "fig.update_traces(marker_size = 4)\n",
    "fig.show()"
   ]
  },
  {
   "cell_type": "code",
   "execution_count": 230,
   "metadata": {},
   "outputs": [
    {
     "data": {
      "application/vnd.plotly.v1+json": {
       "config": {
        "plotlyServerURL": "https://plot.ly"
       },
       "data": [
        {
         "hovertemplate": "color=NTD<br>0=%{x}<br>1=%{y}<extra></extra>",
         "legendgroup": "NTD",
         "marker": {
          "color": "#636efa",
          "size": 9,
          "symbol": "circle"
         },
         "mode": "markers",
         "name": "NTD",
         "orientation": "v",
         "showlegend": true,
         "type": "scatter",
         "x": [
          -75.7684450466738,
          129.4910115406354,
          84.04491146981364,
          -57.38670382110417,
          47.88461434391988,
          154.7429075526503,
          96.12807367971502,
          113.47628908165603,
          24.96930117394589,
          49.8784216540355,
          128.10337602437798,
          -27.07930518610957,
          -24.51613320258263,
          -16.365183578612967,
          3.4243263266889854,
          -87.46048658871922,
          -13.656335368101496,
          -31.526827572445455,
          32.99981547593673,
          71.53241356857987
         ],
         "xaxis": "x",
         "y": [
          1.1202511904282297,
          -5.353048832373276,
          0.8518190630327439,
          -8.336926915164264,
          -4.889340187365953,
          5.6623291451822135,
          4.154533114411963,
          -4.340598149818113,
          -3.9279953802933574,
          -4.911712509953109,
          -2.699376549972973,
          -0.4446121601067111,
          10.164964469741607,
          1.2965565038117934,
          -7.182526199544222,
          -8.713128485926044,
          15.608830439374225,
          -3.351043003548184,
          -5.024012707433743,
          1.3437050249948967
         ],
         "yaxis": "y"
        },
        {
         "hovertemplate": "color=OTHER<br>0=%{x}<br>1=%{y}<extra></extra>",
         "legendgroup": "OTHER",
         "marker": {
          "color": "#EF553B",
          "size": 9,
          "symbol": "circle"
         },
         "mode": "markers",
         "name": "OTHER",
         "orientation": "v",
         "showlegend": true,
         "type": "scatter",
         "x": [
          160.16154219542761,
          -70.52422961453183,
          -11.39972710763548,
          144.58446251572582,
          -94.83349464467008,
          -102.2379133627521,
          -46.640418819811046,
          -21.403112701177488,
          19.180989880599004,
          19.078294575627,
          -94.66326323286484,
          -94.66787177180261,
          -94.67862377098551,
          -92.7872332680704,
          -79.61767896908036,
          -84.55813940836924,
          -44.35743548937233,
          -36.146334289233245,
          -28.56157477623017,
          59.50954230240935,
          68.97683138721601,
          67.23721536101517,
          -95.09021616306286,
          -106.35634619315493,
          -28.86988517418629,
          104.00485724925733,
          -105.44084077280924,
          -60.399115121781094,
          -53.58784812205113,
          68.99526108973437,
          -0.7585452186662431,
          -57.21464509379527,
          -37.60536699641277,
          -83.68524315246367,
          -25.228474372033297,
          -25.23426124344188
         ],
         "xaxis": "x",
         "y": [
          -4.054252687447581,
          -5.668568853953674,
          1.276362269686213,
          7.35278133642032,
          -7.878915533071694,
          -1.2425896329174393,
          -0.47300933722229627,
          -8.785535751273233,
          0.26692854638793867,
          -5.022563316134749,
          5.155454904548646,
          2.062645823440486,
          -2.099834105137687,
          3.8784877086336444,
          2.225828518573962,
          -2.9716018034622937,
          0.9348698647247646,
          1.3862402440950852,
          -1.1681371325500955,
          4.263101162070526,
          4.528174438290126,
          11.773230094693773,
          -4.98232171855152,
          43.67685489153591,
          -7.823336227293824,
          23.712491288446348,
          -10.325408612324535,
          -10.052642923047847,
          -9.814815889150005,
          -7.39975821915976,
          35.81321036249878,
          -1.7659247573236436,
          1.6957130196958672,
          4.071322161845007,
          -8.156087307057676,
          -7.823396476010241
         ],
         "yaxis": "y"
        },
        {
         "hovertemplate": "color=IVH<br>0=%{x}<br>1=%{y}<extra></extra>",
         "legendgroup": "IVH",
         "marker": {
          "color": "#00cc96",
          "size": 9,
          "symbol": "circle"
         },
         "mode": "markers",
         "name": "IVH",
         "orientation": "v",
         "showlegend": true,
         "type": "scatter",
         "x": [
          -96.09749502485143,
          -40.31574259423586,
          54.29073121550643,
          -3.3664163517313734,
          150.31145373309025,
          -0.740239352402574,
          140.5268641976868,
          -78.71993288245457,
          15.480211995609071,
          -60.498582285498266,
          -33.322360718757544,
          2.626837776356777,
          64.84511905236822,
          167.02450622408136,
          -27.91463534503405,
          75.14002752896825,
          129.3950852498118,
          -82.73160381300251,
          -71.61310823032147,
          -6.2858750746836645,
          6.152810714936934,
          110.50908599126281,
          -71.36426568855646,
          -0.34149143269556875,
          77.16238029310962,
          47.97952479837305,
          -3.9004804154517925,
          -102.32960879565667
         ],
         "xaxis": "x",
         "y": [
          5.365514584084908,
          -9.11179711144353,
          -2.1666491914543644,
          2.4363571450745187,
          -5.221221233249164,
          7.012690724819088,
          0.08557099080939921,
          1.1367823685134533,
          1.3143829985145548,
          -0.37570293749012235,
          -6.983596942209574,
          -0.5953777845556061,
          -2.7090310294091546,
          -2.4632082407655114,
          -7.468396312992214,
          -2.1665801008919714,
          -0.2153623826178315,
          2.1072072648457643,
          0.3706193279106605,
          0.46886307628210466,
          -6.86863778501403,
          3.5006838047391917,
          -9.569574543199346,
          -8.106126823351467,
          -5.865074408364784,
          2.308189490613599,
          0.48997407748228017,
          15.695836751343723
         ],
         "yaxis": "y"
        }
       ],
       "layout": {
        "annotations": [
         {
          "arrowhead": 2,
          "arrowsize": 2,
          "ax": 0,
          "axref": "x",
          "ay": 0,
          "ayref": "y",
          "showarrow": true,
          "x": 77.02266071755105,
          "xanchor": "right",
          "y": 0.17599873369342836,
          "yanchor": "top"
         },
         {
          "ax": 0,
          "ay": 0,
          "text": "Months",
          "x": 77.02266071755105,
          "xanchor": "center",
          "y": 0.17599873369342836,
          "yanchor": "bottom",
          "yshift": 5
         },
         {
          "arrowhead": 2,
          "arrowsize": 2,
          "ax": 0,
          "axref": "x",
          "ay": 0,
          "ayref": "y",
          "showarrow": true,
          "x": 3.348369693865146,
          "xanchor": "right",
          "y": 0.5655032450703092,
          "yanchor": "top"
         },
         {
          "ax": 0,
          "ay": 0,
          "text": "BMI",
          "x": 3.348369693865146,
          "xanchor": "center",
          "y": 0.5655032450703092,
          "yanchor": "bottom",
          "yshift": 5
         },
         {
          "arrowhead": 2,
          "arrowsize": 2,
          "ax": 0,
          "axref": "x",
          "ay": 0,
          "ayref": "y",
          "showarrow": true,
          "x": -1.3372463729109365,
          "xanchor": "right",
          "y": 8.768312133043878,
          "yanchor": "top"
         },
         {
          "ax": 0,
          "ay": 0,
          "text": "FR",
          "x": -1.3372463729109365,
          "xanchor": "center",
          "y": 8.768312133043878,
          "yanchor": "bottom",
          "yshift": 5
         },
         {
          "arrowhead": 2,
          "arrowsize": 2,
          "ax": 0,
          "axref": "x",
          "ay": 0,
          "ayref": "y",
          "showarrow": true,
          "x": 5.370577262427127,
          "xanchor": "right",
          "y": -0.6933929824437277,
          "yanchor": "top"
         },
         {
          "ax": 0,
          "ay": 0,
          "text": "Age",
          "x": 5.370577262427127,
          "xanchor": "center",
          "y": -0.6933929824437277,
          "yanchor": "bottom",
          "yshift": 5
         },
         {
          "arrowhead": 2,
          "arrowsize": 2,
          "ax": 0,
          "axref": "x",
          "ay": 0,
          "ayref": "y",
          "showarrow": true,
          "x": -0.009418270178718683,
          "xanchor": "right",
          "y": 0.009608734826804622,
          "yanchor": "top"
         },
         {
          "ax": 0,
          "ay": 0,
          "text": "FOHR",
          "x": -0.009418270178718683,
          "xanchor": "center",
          "y": 0.009608734826804622,
          "yanchor": "bottom",
          "yshift": 5
         }
        ],
        "legend": {
         "title": {
          "text": "color"
         },
         "tracegroupgap": 0
        },
        "margin": {
         "t": 60
        },
        "template": {
         "data": {
          "bar": [
           {
            "error_x": {
             "color": "#2a3f5f"
            },
            "error_y": {
             "color": "#2a3f5f"
            },
            "marker": {
             "line": {
              "color": "#E5ECF6",
              "width": 0.5
             },
             "pattern": {
              "fillmode": "overlay",
              "size": 10,
              "solidity": 0.2
             }
            },
            "type": "bar"
           }
          ],
          "barpolar": [
           {
            "marker": {
             "line": {
              "color": "#E5ECF6",
              "width": 0.5
             },
             "pattern": {
              "fillmode": "overlay",
              "size": 10,
              "solidity": 0.2
             }
            },
            "type": "barpolar"
           }
          ],
          "carpet": [
           {
            "aaxis": {
             "endlinecolor": "#2a3f5f",
             "gridcolor": "white",
             "linecolor": "white",
             "minorgridcolor": "white",
             "startlinecolor": "#2a3f5f"
            },
            "baxis": {
             "endlinecolor": "#2a3f5f",
             "gridcolor": "white",
             "linecolor": "white",
             "minorgridcolor": "white",
             "startlinecolor": "#2a3f5f"
            },
            "type": "carpet"
           }
          ],
          "choropleth": [
           {
            "colorbar": {
             "outlinewidth": 0,
             "ticks": ""
            },
            "type": "choropleth"
           }
          ],
          "contour": [
           {
            "colorbar": {
             "outlinewidth": 0,
             "ticks": ""
            },
            "colorscale": [
             [
              0,
              "#0d0887"
             ],
             [
              0.1111111111111111,
              "#46039f"
             ],
             [
              0.2222222222222222,
              "#7201a8"
             ],
             [
              0.3333333333333333,
              "#9c179e"
             ],
             [
              0.4444444444444444,
              "#bd3786"
             ],
             [
              0.5555555555555556,
              "#d8576b"
             ],
             [
              0.6666666666666666,
              "#ed7953"
             ],
             [
              0.7777777777777778,
              "#fb9f3a"
             ],
             [
              0.8888888888888888,
              "#fdca26"
             ],
             [
              1,
              "#f0f921"
             ]
            ],
            "type": "contour"
           }
          ],
          "contourcarpet": [
           {
            "colorbar": {
             "outlinewidth": 0,
             "ticks": ""
            },
            "type": "contourcarpet"
           }
          ],
          "heatmap": [
           {
            "colorbar": {
             "outlinewidth": 0,
             "ticks": ""
            },
            "colorscale": [
             [
              0,
              "#0d0887"
             ],
             [
              0.1111111111111111,
              "#46039f"
             ],
             [
              0.2222222222222222,
              "#7201a8"
             ],
             [
              0.3333333333333333,
              "#9c179e"
             ],
             [
              0.4444444444444444,
              "#bd3786"
             ],
             [
              0.5555555555555556,
              "#d8576b"
             ],
             [
              0.6666666666666666,
              "#ed7953"
             ],
             [
              0.7777777777777778,
              "#fb9f3a"
             ],
             [
              0.8888888888888888,
              "#fdca26"
             ],
             [
              1,
              "#f0f921"
             ]
            ],
            "type": "heatmap"
           }
          ],
          "heatmapgl": [
           {
            "colorbar": {
             "outlinewidth": 0,
             "ticks": ""
            },
            "colorscale": [
             [
              0,
              "#0d0887"
             ],
             [
              0.1111111111111111,
              "#46039f"
             ],
             [
              0.2222222222222222,
              "#7201a8"
             ],
             [
              0.3333333333333333,
              "#9c179e"
             ],
             [
              0.4444444444444444,
              "#bd3786"
             ],
             [
              0.5555555555555556,
              "#d8576b"
             ],
             [
              0.6666666666666666,
              "#ed7953"
             ],
             [
              0.7777777777777778,
              "#fb9f3a"
             ],
             [
              0.8888888888888888,
              "#fdca26"
             ],
             [
              1,
              "#f0f921"
             ]
            ],
            "type": "heatmapgl"
           }
          ],
          "histogram": [
           {
            "marker": {
             "pattern": {
              "fillmode": "overlay",
              "size": 10,
              "solidity": 0.2
             }
            },
            "type": "histogram"
           }
          ],
          "histogram2d": [
           {
            "colorbar": {
             "outlinewidth": 0,
             "ticks": ""
            },
            "colorscale": [
             [
              0,
              "#0d0887"
             ],
             [
              0.1111111111111111,
              "#46039f"
             ],
             [
              0.2222222222222222,
              "#7201a8"
             ],
             [
              0.3333333333333333,
              "#9c179e"
             ],
             [
              0.4444444444444444,
              "#bd3786"
             ],
             [
              0.5555555555555556,
              "#d8576b"
             ],
             [
              0.6666666666666666,
              "#ed7953"
             ],
             [
              0.7777777777777778,
              "#fb9f3a"
             ],
             [
              0.8888888888888888,
              "#fdca26"
             ],
             [
              1,
              "#f0f921"
             ]
            ],
            "type": "histogram2d"
           }
          ],
          "histogram2dcontour": [
           {
            "colorbar": {
             "outlinewidth": 0,
             "ticks": ""
            },
            "colorscale": [
             [
              0,
              "#0d0887"
             ],
             [
              0.1111111111111111,
              "#46039f"
             ],
             [
              0.2222222222222222,
              "#7201a8"
             ],
             [
              0.3333333333333333,
              "#9c179e"
             ],
             [
              0.4444444444444444,
              "#bd3786"
             ],
             [
              0.5555555555555556,
              "#d8576b"
             ],
             [
              0.6666666666666666,
              "#ed7953"
             ],
             [
              0.7777777777777778,
              "#fb9f3a"
             ],
             [
              0.8888888888888888,
              "#fdca26"
             ],
             [
              1,
              "#f0f921"
             ]
            ],
            "type": "histogram2dcontour"
           }
          ],
          "mesh3d": [
           {
            "colorbar": {
             "outlinewidth": 0,
             "ticks": ""
            },
            "type": "mesh3d"
           }
          ],
          "parcoords": [
           {
            "line": {
             "colorbar": {
              "outlinewidth": 0,
              "ticks": ""
             }
            },
            "type": "parcoords"
           }
          ],
          "pie": [
           {
            "automargin": true,
            "type": "pie"
           }
          ],
          "scatter": [
           {
            "marker": {
             "colorbar": {
              "outlinewidth": 0,
              "ticks": ""
             }
            },
            "type": "scatter"
           }
          ],
          "scatter3d": [
           {
            "line": {
             "colorbar": {
              "outlinewidth": 0,
              "ticks": ""
             }
            },
            "marker": {
             "colorbar": {
              "outlinewidth": 0,
              "ticks": ""
             }
            },
            "type": "scatter3d"
           }
          ],
          "scattercarpet": [
           {
            "marker": {
             "colorbar": {
              "outlinewidth": 0,
              "ticks": ""
             }
            },
            "type": "scattercarpet"
           }
          ],
          "scattergeo": [
           {
            "marker": {
             "colorbar": {
              "outlinewidth": 0,
              "ticks": ""
             }
            },
            "type": "scattergeo"
           }
          ],
          "scattergl": [
           {
            "marker": {
             "colorbar": {
              "outlinewidth": 0,
              "ticks": ""
             }
            },
            "type": "scattergl"
           }
          ],
          "scattermapbox": [
           {
            "marker": {
             "colorbar": {
              "outlinewidth": 0,
              "ticks": ""
             }
            },
            "type": "scattermapbox"
           }
          ],
          "scatterpolar": [
           {
            "marker": {
             "colorbar": {
              "outlinewidth": 0,
              "ticks": ""
             }
            },
            "type": "scatterpolar"
           }
          ],
          "scatterpolargl": [
           {
            "marker": {
             "colorbar": {
              "outlinewidth": 0,
              "ticks": ""
             }
            },
            "type": "scatterpolargl"
           }
          ],
          "scatterternary": [
           {
            "marker": {
             "colorbar": {
              "outlinewidth": 0,
              "ticks": ""
             }
            },
            "type": "scatterternary"
           }
          ],
          "surface": [
           {
            "colorbar": {
             "outlinewidth": 0,
             "ticks": ""
            },
            "colorscale": [
             [
              0,
              "#0d0887"
             ],
             [
              0.1111111111111111,
              "#46039f"
             ],
             [
              0.2222222222222222,
              "#7201a8"
             ],
             [
              0.3333333333333333,
              "#9c179e"
             ],
             [
              0.4444444444444444,
              "#bd3786"
             ],
             [
              0.5555555555555556,
              "#d8576b"
             ],
             [
              0.6666666666666666,
              "#ed7953"
             ],
             [
              0.7777777777777778,
              "#fb9f3a"
             ],
             [
              0.8888888888888888,
              "#fdca26"
             ],
             [
              1,
              "#f0f921"
             ]
            ],
            "type": "surface"
           }
          ],
          "table": [
           {
            "cells": {
             "fill": {
              "color": "#EBF0F8"
             },
             "line": {
              "color": "white"
             }
            },
            "header": {
             "fill": {
              "color": "#C8D4E3"
             },
             "line": {
              "color": "white"
             }
            },
            "type": "table"
           }
          ]
         },
         "layout": {
          "annotationdefaults": {
           "arrowcolor": "#2a3f5f",
           "arrowhead": 0,
           "arrowwidth": 1
          },
          "autotypenumbers": "strict",
          "coloraxis": {
           "colorbar": {
            "outlinewidth": 0,
            "ticks": ""
           }
          },
          "colorscale": {
           "diverging": [
            [
             0,
             "#8e0152"
            ],
            [
             0.1,
             "#c51b7d"
            ],
            [
             0.2,
             "#de77ae"
            ],
            [
             0.3,
             "#f1b6da"
            ],
            [
             0.4,
             "#fde0ef"
            ],
            [
             0.5,
             "#f7f7f7"
            ],
            [
             0.6,
             "#e6f5d0"
            ],
            [
             0.7,
             "#b8e186"
            ],
            [
             0.8,
             "#7fbc41"
            ],
            [
             0.9,
             "#4d9221"
            ],
            [
             1,
             "#276419"
            ]
           ],
           "sequential": [
            [
             0,
             "#0d0887"
            ],
            [
             0.1111111111111111,
             "#46039f"
            ],
            [
             0.2222222222222222,
             "#7201a8"
            ],
            [
             0.3333333333333333,
             "#9c179e"
            ],
            [
             0.4444444444444444,
             "#bd3786"
            ],
            [
             0.5555555555555556,
             "#d8576b"
            ],
            [
             0.6666666666666666,
             "#ed7953"
            ],
            [
             0.7777777777777778,
             "#fb9f3a"
            ],
            [
             0.8888888888888888,
             "#fdca26"
            ],
            [
             1,
             "#f0f921"
            ]
           ],
           "sequentialminus": [
            [
             0,
             "#0d0887"
            ],
            [
             0.1111111111111111,
             "#46039f"
            ],
            [
             0.2222222222222222,
             "#7201a8"
            ],
            [
             0.3333333333333333,
             "#9c179e"
            ],
            [
             0.4444444444444444,
             "#bd3786"
            ],
            [
             0.5555555555555556,
             "#d8576b"
            ],
            [
             0.6666666666666666,
             "#ed7953"
            ],
            [
             0.7777777777777778,
             "#fb9f3a"
            ],
            [
             0.8888888888888888,
             "#fdca26"
            ],
            [
             1,
             "#f0f921"
            ]
           ]
          },
          "colorway": [
           "#636efa",
           "#EF553B",
           "#00cc96",
           "#ab63fa",
           "#FFA15A",
           "#19d3f3",
           "#FF6692",
           "#B6E880",
           "#FF97FF",
           "#FECB52"
          ],
          "font": {
           "color": "#2a3f5f"
          },
          "geo": {
           "bgcolor": "white",
           "lakecolor": "white",
           "landcolor": "#E5ECF6",
           "showlakes": true,
           "showland": true,
           "subunitcolor": "white"
          },
          "hoverlabel": {
           "align": "left"
          },
          "hovermode": "closest",
          "mapbox": {
           "style": "light"
          },
          "paper_bgcolor": "white",
          "plot_bgcolor": "#E5ECF6",
          "polar": {
           "angularaxis": {
            "gridcolor": "white",
            "linecolor": "white",
            "ticks": ""
           },
           "bgcolor": "#E5ECF6",
           "radialaxis": {
            "gridcolor": "white",
            "linecolor": "white",
            "ticks": ""
           }
          },
          "scene": {
           "xaxis": {
            "backgroundcolor": "#E5ECF6",
            "gridcolor": "white",
            "gridwidth": 2,
            "linecolor": "white",
            "showbackground": true,
            "ticks": "",
            "zerolinecolor": "white"
           },
           "yaxis": {
            "backgroundcolor": "#E5ECF6",
            "gridcolor": "white",
            "gridwidth": 2,
            "linecolor": "white",
            "showbackground": true,
            "ticks": "",
            "zerolinecolor": "white"
           },
           "zaxis": {
            "backgroundcolor": "#E5ECF6",
            "gridcolor": "white",
            "gridwidth": 2,
            "linecolor": "white",
            "showbackground": true,
            "ticks": "",
            "zerolinecolor": "white"
           }
          },
          "shapedefaults": {
           "line": {
            "color": "#2a3f5f"
           }
          },
          "ternary": {
           "aaxis": {
            "gridcolor": "white",
            "linecolor": "white",
            "ticks": ""
           },
           "baxis": {
            "gridcolor": "white",
            "linecolor": "white",
            "ticks": ""
           },
           "bgcolor": "#E5ECF6",
           "caxis": {
            "gridcolor": "white",
            "linecolor": "white",
            "ticks": ""
           }
          },
          "title": {
           "x": 0.05
          },
          "xaxis": {
           "automargin": true,
           "gridcolor": "white",
           "linecolor": "white",
           "ticks": "",
           "title": {
            "standoff": 15
           },
           "zerolinecolor": "white",
           "zerolinewidth": 2
          },
          "yaxis": {
           "automargin": true,
           "gridcolor": "white",
           "linecolor": "white",
           "ticks": "",
           "title": {
            "standoff": 15
           },
           "zerolinecolor": "white",
           "zerolinewidth": 2
          }
         }
        },
        "xaxis": {
         "anchor": "y",
         "domain": [
          0,
          1
         ],
         "title": {
          "text": "0"
         }
        },
        "yaxis": {
         "anchor": "x",
         "domain": [
          0,
          1
         ],
         "title": {
          "text": "1"
         }
        }
       }
      }
     },
     "metadata": {},
     "output_type": "display_data"
    }
   ],
   "source": [
    "features = ['Months', 'BMI', 'FR', 'Age', 'FOHR']\n",
    "X = df[features]\n",
    "\n",
    "pca = PCA(n_components=5)\n",
    "components = pca.fit_transform(X)\n",
    "\n",
    "loadings = pca.components_.T * np.sqrt(pca.explained_variance_)\n",
    "\n",
    "fig = px.scatter(components, x=0, y=1, color=df['Etiology'])\n",
    "\n",
    "for i, feature in enumerate(features):\n",
    "    fig.add_annotation(\n",
    "        ax=0, ay=0,\n",
    "        axref=\"x\", ayref=\"y\",\n",
    "        x=loadings[i, 0],\n",
    "        y=loadings[i, 1],\n",
    "        showarrow=True,\n",
    "        arrowsize=2,\n",
    "        arrowhead=2,\n",
    "        xanchor=\"right\",\n",
    "        yanchor=\"top\"\n",
    "    )\n",
    "    fig.add_annotation(\n",
    "        x=loadings[i, 0],\n",
    "        y=loadings[i, 1],\n",
    "        ax=0, ay=0,\n",
    "        xanchor=\"center\",\n",
    "        yanchor=\"bottom\",\n",
    "        text=feature,\n",
    "        yshift=5,\n",
    "    )\n",
    "fig.update_traces(marker_size = 9)\n",
    "fig.show()"
   ]
  },
  {
   "cell_type": "code",
   "execution_count": 228,
   "metadata": {},
   "outputs": [
    {
     "data": {
      "application/vnd.plotly.v1+json": {
       "config": {
        "plotlyServerURL": "https://plot.ly"
       },
       "data": [
        {
         "diagonal": {
          "visible": false
         },
         "dimensions": [
          {
           "axis": {
            "matches": true
           },
           "label": "Age",
           "values": [
            2.627777778,
            20.63055556,
            15.91666667,
            4.130555556,
            13.14444444,
            21.67222222,
            16.925,
            18.33611111,
            10.97222222,
            13.49444444,
            19.57222222,
            6.661111111,
            6.891666667,
            7.502777778,
            9,
            2,
            8,
            6,
            12,
            15
           ]
          },
          {
           "axis": {
            "matches": true
           },
           "label": "BMI",
           "values": [
            13.50241284,
            26.226747,
            22.64138239,
            17.368167,
            18.4752484,
            36.3888906,
            25.11357016,
            28.67073501,
            22.45108889,
            17.93292213,
            20.09307548,
            25.63026247,
            19.81278971,
            19.3706657,
            10.44216375,
            16.6924166,
            17.87216487,
            15.15018775,
            21.70243839,
            34.28517606
           ]
          },
          {
           "axis": {
            "matches": true
           },
           "label": "Months",
           "values": [
            31,
            235,
            190,
            49,
            154,
            260,
            202,
            219,
            131,
            156,
            234,
            79,
            82,
            90,
            110,
            19,
            93,
            75,
            139,
            177
           ]
          },
          {
           "axis": {
            "matches": true
           },
           "label": "FR",
           "values": [
            11,
            1,
            8,
            1,
            3,
            11,
            11,
            2,
            4,
            3,
            4,
            8,
            19,
            10,
            1.767994098,
            1.099023358,
            24.46521562,
            5.781818536,
            2.867017456,
            7.932081627
           ]
          },
          {
           "axis": {
            "matches": true
           },
           "label": "FOHR",
           "values": [
            0.308785942,
            0.376271186,
            0.41812,
            0.338283828,
            0.358343057,
            0.348095624,
            0.382103004,
            0.37644,
            0.3525,
            0.374131274,
            0.331365314,
            0.321402484,
            0.332811276,
            0.35043755,
            0.330578512,
            0.346121057,
            0.356626506,
            0.306039106,
            0.385099025,
            0.373760331
           ]
          },
          {
           "axis": {
            "matches": true
           },
           "label": "Etiology",
           "values": [
            "NTD",
            "NTD",
            "NTD",
            "NTD",
            "NTD",
            "NTD",
            "NTD",
            "NTD",
            "NTD",
            "NTD",
            "NTD",
            "NTD",
            "NTD",
            "NTD",
            "NTD",
            "NTD",
            "NTD",
            "NTD",
            "NTD",
            "NTD"
           ]
          }
         ],
         "hovertemplate": "Etiology=NTD<br>%{xaxis.title.text}=%{x}<br>%{yaxis.title.text}=%{y}<extra></extra>",
         "legendgroup": "NTD",
         "marker": {
          "color": "#636efa",
          "size": 4,
          "symbol": "circle"
         },
         "name": "NTD",
         "showlegend": true,
         "showupperhalf": false,
         "type": "splom"
        },
        {
         "diagonal": {
          "visible": false
         },
         "dimensions": [
          {
           "axis": {
            "matches": true
           },
           "label": "Age",
           "values": [
            23.10277778,
            3.369444444,
            8.025,
            20.92222222,
            14.49166667,
            4.988888889,
            5.227777778,
            13.85555556,
            24.87777778,
            11.43888889,
            1.105555556,
            1.244444444,
            1.605555556,
            1.786111111,
            2.833333333,
            3.155555556,
            5.677777778,
            6.022222222,
            6.575,
            14.31111111,
            15.51111111,
            16.78888889,
            18.92222222,
            0.916666667,
            7,
            18,
            12,
            16,
            16,
            15,
            11,
            4,
            6,
            2,
            7,
            7
           ]
          },
          {
           "axis": {
            "matches": true
           },
           "label": "BMI",
           "values": [
            40.16922191,
            15.55997667,
            18.14047982,
            33.92324648,
            33.8450165,
            18.97694325,
            13.83735445,
            26.91024824,
            29.5480515,
            23.33326038,
            18.4310934,
            16.90380419,
            14.47894805,
            14.24059259,
            16.72850729,
            15.18425957,
            20.20922266,
            25.17772847,
            14.55499665,
            35.11575318,
            22.10290591,
            28.6977747,
            22.41016746,
            17.42026619,
            26.79307546,
            28.9176135,
            22.32769331,
            20.44289978,
            16.78646732,
            18.6320549,
            19.80732554,
            24.01264912,
            14.93163503,
            16.92333842,
            18.87771781,
            18.87771781
           ]
          },
          {
           "axis": {
            "matches": true
           },
           "label": "Months",
           "values": [
            265,
            36,
            95,
            250,
            10,
            4,
            60,
            84,
            124,
            125,
            12,
            12,
            12,
            14,
            27,
            22,
            62,
            70,
            78,
            165,
            175,
            173,
            10,
            1,
            77,
            210,
            0,
            45,
            52,
            175,
            106,
            49,
            69,
            23,
            81,
            81
           ]
          },
          {
           "axis": {
            "matches": true
           },
           "label": "FR",
           "values": [
            1,
            4,
            10,
            13,
            2,
            9,
            9,
            0,
            9,
            3,
            15,
            12,
            8,
            14,
            12,
            7,
            10,
            10,
            8,
            11,
            12,
            19,
            6,
            54,
            0.573403491,
            30.34260141,
            0.286701746,
            0.095567249,
            0.430052618,
            0.191134497,
            44.62990506,
            7.167543639,
            10.99023358,
            13.85725104,
            0.66897074,
            1.003456109
           ]
          },
          {
           "axis": {
            "matches": true
           },
           "label": "FOHR",
           "values": [
            0.31622807,
            0.446055556,
            0.325585229,
            0.349427481,
            0.327605191,
            0.31124031,
            0.361979167,
            0.417944094,
            0.341756421,
            0.324888227,
            0.394179894,
            0.387305699,
            0.398858075,
            0.467659574,
            0.327893175,
            0.301574803,
            0.332522303,
            0.357904085,
            0.433358434,
            0.416174298,
            0.349744712,
            0.346543002,
            0.384729981,
            0.607113655,
            0.340111353,
            0.334698436,
            0.408309456,
            0.409165979,
            0.352050114,
            0.371678056,
            0.509420796,
            0.383271375,
            0.389417989,
            0.346880131,
            0.423242468,
            0.423242468
           ]
          },
          {
           "axis": {
            "matches": true
           },
           "label": "Etiology",
           "values": [
            "OTHER",
            "OTHER",
            "OTHER",
            "OTHER",
            "OTHER",
            "OTHER",
            "OTHER",
            "OTHER",
            "OTHER",
            "OTHER",
            "OTHER",
            "OTHER",
            "OTHER",
            "OTHER",
            "OTHER",
            "OTHER",
            "OTHER",
            "OTHER",
            "OTHER",
            "OTHER",
            "OTHER",
            "OTHER",
            "OTHER",
            "OTHER",
            "OTHER",
            "OTHER",
            "OTHER",
            "OTHER",
            "OTHER",
            "OTHER",
            "OTHER",
            "OTHER",
            "OTHER",
            "OTHER",
            "OTHER",
            "OTHER"
           ]
          }
         ],
         "hovertemplate": "Etiology=OTHER<br>%{xaxis.title.text}=%{x}<br>%{yaxis.title.text}=%{y}<extra></extra>",
         "legendgroup": "OTHER",
         "marker": {
          "color": "#EF553B",
          "size": 4,
          "symbol": "circle"
         },
         "name": "OTHER",
         "showlegend": true,
         "showupperhalf": false,
         "type": "splom"
        },
        {
         "diagonal": {
          "visible": false
         },
         "dimensions": [
          {
           "axis": {
            "matches": true
           },
           "label": "Age",
           "values": [
            9.905555556,
            5.716666667,
            13.53055556,
            8.636111111,
            21.35,
            8.894444444,
            20.58888889,
            2.516666667,
            10.57777778,
            3.908333333,
            6.147222222,
            9.252777778,
            14.40833333,
            23.03333333,
            12.83611111,
            15.21111111,
            19.64722222,
            2.141666667,
            2.958333333,
            8.475,
            10,
            18,
            4,
            9,
            16,
            13,
            9,
            0
           ]
          },
          {
           "axis": {
            "matches": true
           },
           "label": "BMI",
           "values": [
            17.61389885,
            17.44071451,
            28.51527099,
            18.97664203,
            22.62843127,
            12.1728465,
            30.0087205,
            14.55754522,
            13.46084546,
            18.09402455,
            17.96195049,
            17.11961704,
            17.7118137,
            15.87946697,
            17.05017916,
            24.04145927,
            27.58632981,
            14.96508649,
            16.48250988,
            20.05253558,
            25.56877425,
            32.7798613,
            16.5949474,
            15.06676023,
            22.02979552,
            23.64995765,
            28.07126578,
            31.19126201
           ]
          },
          {
           "axis": {
            "matches": true
           },
           "label": "Months",
           "values": [
            10,
            66,
            160,
            103,
            256,
            106,
            246,
            28,
            122,
            46,
            73,
            109,
            171,
            273,
            78,
            181,
            235,
            24,
            35,
            100,
            112,
            216,
            35,
            106,
            183,
            154,
            102,
            4
           ]
          },
          {
           "axis": {
            "matches": true
           },
           "label": "FR",
           "values": [
            16,
            0,
            5,
            11,
            1,
            16,
            6,
            11,
            10,
            9,
            2,
            8,
            5,
            4,
            2,
            5,
            6,
            12,
            10,
            9,
            1.146806982,
            9.652292101,
            0.081232161,
            0.621187115,
            1.433508728,
            9.891210222,
            8.505485118,
            24.84748462
           ]
          },
          {
           "axis": {
            "matches": true
           },
           "label": "FOHR",
           "values": [
            0.339401294,
            0.770581114,
            0.319067797,
            0.392857143,
            0.364203455,
            0.424424973,
            0.333264786,
            0.309217391,
            0.287772277,
            0.335245474,
            0.411290323,
            0.403448276,
            0.383913765,
            0.407981221,
            0.394965278,
            0.306177261,
            0.333264786,
            0.317594255,
            0.288651316,
            0.375,
            0.447981366,
            0.293293718,
            0.361016949,
            0.562730627,
            0.331753555,
            0.342732327,
            0.33160828,
            0.347307692
           ]
          },
          {
           "axis": {
            "matches": true
           },
           "label": "Etiology",
           "values": [
            "IVH",
            "IVH",
            "IVH",
            "IVH",
            "IVH",
            "IVH",
            "IVH",
            "IVH",
            "IVH",
            "IVH",
            "IVH",
            "IVH",
            "IVH",
            "IVH",
            "IVH",
            "IVH",
            "IVH",
            "IVH",
            "IVH",
            "IVH",
            "IVH",
            "IVH",
            "IVH",
            "IVH",
            "IVH",
            "IVH",
            "IVH",
            "IVH"
           ]
          }
         ],
         "hovertemplate": "Etiology=IVH<br>%{xaxis.title.text}=%{x}<br>%{yaxis.title.text}=%{y}<extra></extra>",
         "legendgroup": "IVH",
         "marker": {
          "color": "#00cc96",
          "size": 4,
          "symbol": "circle"
         },
         "name": "IVH",
         "showlegend": true,
         "showupperhalf": false,
         "type": "splom"
        }
       ],
       "layout": {
        "dragmode": "select",
        "legend": {
         "title": {
          "text": "Etiology"
         },
         "tracegroupgap": 0
        },
        "margin": {
         "t": 60
        },
        "template": {
         "data": {
          "bar": [
           {
            "error_x": {
             "color": "#2a3f5f"
            },
            "error_y": {
             "color": "#2a3f5f"
            },
            "marker": {
             "line": {
              "color": "#E5ECF6",
              "width": 0.5
             },
             "pattern": {
              "fillmode": "overlay",
              "size": 10,
              "solidity": 0.2
             }
            },
            "type": "bar"
           }
          ],
          "barpolar": [
           {
            "marker": {
             "line": {
              "color": "#E5ECF6",
              "width": 0.5
             },
             "pattern": {
              "fillmode": "overlay",
              "size": 10,
              "solidity": 0.2
             }
            },
            "type": "barpolar"
           }
          ],
          "carpet": [
           {
            "aaxis": {
             "endlinecolor": "#2a3f5f",
             "gridcolor": "white",
             "linecolor": "white",
             "minorgridcolor": "white",
             "startlinecolor": "#2a3f5f"
            },
            "baxis": {
             "endlinecolor": "#2a3f5f",
             "gridcolor": "white",
             "linecolor": "white",
             "minorgridcolor": "white",
             "startlinecolor": "#2a3f5f"
            },
            "type": "carpet"
           }
          ],
          "choropleth": [
           {
            "colorbar": {
             "outlinewidth": 0,
             "ticks": ""
            },
            "type": "choropleth"
           }
          ],
          "contour": [
           {
            "colorbar": {
             "outlinewidth": 0,
             "ticks": ""
            },
            "colorscale": [
             [
              0,
              "#0d0887"
             ],
             [
              0.1111111111111111,
              "#46039f"
             ],
             [
              0.2222222222222222,
              "#7201a8"
             ],
             [
              0.3333333333333333,
              "#9c179e"
             ],
             [
              0.4444444444444444,
              "#bd3786"
             ],
             [
              0.5555555555555556,
              "#d8576b"
             ],
             [
              0.6666666666666666,
              "#ed7953"
             ],
             [
              0.7777777777777778,
              "#fb9f3a"
             ],
             [
              0.8888888888888888,
              "#fdca26"
             ],
             [
              1,
              "#f0f921"
             ]
            ],
            "type": "contour"
           }
          ],
          "contourcarpet": [
           {
            "colorbar": {
             "outlinewidth": 0,
             "ticks": ""
            },
            "type": "contourcarpet"
           }
          ],
          "heatmap": [
           {
            "colorbar": {
             "outlinewidth": 0,
             "ticks": ""
            },
            "colorscale": [
             [
              0,
              "#0d0887"
             ],
             [
              0.1111111111111111,
              "#46039f"
             ],
             [
              0.2222222222222222,
              "#7201a8"
             ],
             [
              0.3333333333333333,
              "#9c179e"
             ],
             [
              0.4444444444444444,
              "#bd3786"
             ],
             [
              0.5555555555555556,
              "#d8576b"
             ],
             [
              0.6666666666666666,
              "#ed7953"
             ],
             [
              0.7777777777777778,
              "#fb9f3a"
             ],
             [
              0.8888888888888888,
              "#fdca26"
             ],
             [
              1,
              "#f0f921"
             ]
            ],
            "type": "heatmap"
           }
          ],
          "heatmapgl": [
           {
            "colorbar": {
             "outlinewidth": 0,
             "ticks": ""
            },
            "colorscale": [
             [
              0,
              "#0d0887"
             ],
             [
              0.1111111111111111,
              "#46039f"
             ],
             [
              0.2222222222222222,
              "#7201a8"
             ],
             [
              0.3333333333333333,
              "#9c179e"
             ],
             [
              0.4444444444444444,
              "#bd3786"
             ],
             [
              0.5555555555555556,
              "#d8576b"
             ],
             [
              0.6666666666666666,
              "#ed7953"
             ],
             [
              0.7777777777777778,
              "#fb9f3a"
             ],
             [
              0.8888888888888888,
              "#fdca26"
             ],
             [
              1,
              "#f0f921"
             ]
            ],
            "type": "heatmapgl"
           }
          ],
          "histogram": [
           {
            "marker": {
             "pattern": {
              "fillmode": "overlay",
              "size": 10,
              "solidity": 0.2
             }
            },
            "type": "histogram"
           }
          ],
          "histogram2d": [
           {
            "colorbar": {
             "outlinewidth": 0,
             "ticks": ""
            },
            "colorscale": [
             [
              0,
              "#0d0887"
             ],
             [
              0.1111111111111111,
              "#46039f"
             ],
             [
              0.2222222222222222,
              "#7201a8"
             ],
             [
              0.3333333333333333,
              "#9c179e"
             ],
             [
              0.4444444444444444,
              "#bd3786"
             ],
             [
              0.5555555555555556,
              "#d8576b"
             ],
             [
              0.6666666666666666,
              "#ed7953"
             ],
             [
              0.7777777777777778,
              "#fb9f3a"
             ],
             [
              0.8888888888888888,
              "#fdca26"
             ],
             [
              1,
              "#f0f921"
             ]
            ],
            "type": "histogram2d"
           }
          ],
          "histogram2dcontour": [
           {
            "colorbar": {
             "outlinewidth": 0,
             "ticks": ""
            },
            "colorscale": [
             [
              0,
              "#0d0887"
             ],
             [
              0.1111111111111111,
              "#46039f"
             ],
             [
              0.2222222222222222,
              "#7201a8"
             ],
             [
              0.3333333333333333,
              "#9c179e"
             ],
             [
              0.4444444444444444,
              "#bd3786"
             ],
             [
              0.5555555555555556,
              "#d8576b"
             ],
             [
              0.6666666666666666,
              "#ed7953"
             ],
             [
              0.7777777777777778,
              "#fb9f3a"
             ],
             [
              0.8888888888888888,
              "#fdca26"
             ],
             [
              1,
              "#f0f921"
             ]
            ],
            "type": "histogram2dcontour"
           }
          ],
          "mesh3d": [
           {
            "colorbar": {
             "outlinewidth": 0,
             "ticks": ""
            },
            "type": "mesh3d"
           }
          ],
          "parcoords": [
           {
            "line": {
             "colorbar": {
              "outlinewidth": 0,
              "ticks": ""
             }
            },
            "type": "parcoords"
           }
          ],
          "pie": [
           {
            "automargin": true,
            "type": "pie"
           }
          ],
          "scatter": [
           {
            "marker": {
             "colorbar": {
              "outlinewidth": 0,
              "ticks": ""
             }
            },
            "type": "scatter"
           }
          ],
          "scatter3d": [
           {
            "line": {
             "colorbar": {
              "outlinewidth": 0,
              "ticks": ""
             }
            },
            "marker": {
             "colorbar": {
              "outlinewidth": 0,
              "ticks": ""
             }
            },
            "type": "scatter3d"
           }
          ],
          "scattercarpet": [
           {
            "marker": {
             "colorbar": {
              "outlinewidth": 0,
              "ticks": ""
             }
            },
            "type": "scattercarpet"
           }
          ],
          "scattergeo": [
           {
            "marker": {
             "colorbar": {
              "outlinewidth": 0,
              "ticks": ""
             }
            },
            "type": "scattergeo"
           }
          ],
          "scattergl": [
           {
            "marker": {
             "colorbar": {
              "outlinewidth": 0,
              "ticks": ""
             }
            },
            "type": "scattergl"
           }
          ],
          "scattermapbox": [
           {
            "marker": {
             "colorbar": {
              "outlinewidth": 0,
              "ticks": ""
             }
            },
            "type": "scattermapbox"
           }
          ],
          "scatterpolar": [
           {
            "marker": {
             "colorbar": {
              "outlinewidth": 0,
              "ticks": ""
             }
            },
            "type": "scatterpolar"
           }
          ],
          "scatterpolargl": [
           {
            "marker": {
             "colorbar": {
              "outlinewidth": 0,
              "ticks": ""
             }
            },
            "type": "scatterpolargl"
           }
          ],
          "scatterternary": [
           {
            "marker": {
             "colorbar": {
              "outlinewidth": 0,
              "ticks": ""
             }
            },
            "type": "scatterternary"
           }
          ],
          "surface": [
           {
            "colorbar": {
             "outlinewidth": 0,
             "ticks": ""
            },
            "colorscale": [
             [
              0,
              "#0d0887"
             ],
             [
              0.1111111111111111,
              "#46039f"
             ],
             [
              0.2222222222222222,
              "#7201a8"
             ],
             [
              0.3333333333333333,
              "#9c179e"
             ],
             [
              0.4444444444444444,
              "#bd3786"
             ],
             [
              0.5555555555555556,
              "#d8576b"
             ],
             [
              0.6666666666666666,
              "#ed7953"
             ],
             [
              0.7777777777777778,
              "#fb9f3a"
             ],
             [
              0.8888888888888888,
              "#fdca26"
             ],
             [
              1,
              "#f0f921"
             ]
            ],
            "type": "surface"
           }
          ],
          "table": [
           {
            "cells": {
             "fill": {
              "color": "#EBF0F8"
             },
             "line": {
              "color": "white"
             }
            },
            "header": {
             "fill": {
              "color": "#C8D4E3"
             },
             "line": {
              "color": "white"
             }
            },
            "type": "table"
           }
          ]
         },
         "layout": {
          "annotationdefaults": {
           "arrowcolor": "#2a3f5f",
           "arrowhead": 0,
           "arrowwidth": 1
          },
          "autotypenumbers": "strict",
          "coloraxis": {
           "colorbar": {
            "outlinewidth": 0,
            "ticks": ""
           }
          },
          "colorscale": {
           "diverging": [
            [
             0,
             "#8e0152"
            ],
            [
             0.1,
             "#c51b7d"
            ],
            [
             0.2,
             "#de77ae"
            ],
            [
             0.3,
             "#f1b6da"
            ],
            [
             0.4,
             "#fde0ef"
            ],
            [
             0.5,
             "#f7f7f7"
            ],
            [
             0.6,
             "#e6f5d0"
            ],
            [
             0.7,
             "#b8e186"
            ],
            [
             0.8,
             "#7fbc41"
            ],
            [
             0.9,
             "#4d9221"
            ],
            [
             1,
             "#276419"
            ]
           ],
           "sequential": [
            [
             0,
             "#0d0887"
            ],
            [
             0.1111111111111111,
             "#46039f"
            ],
            [
             0.2222222222222222,
             "#7201a8"
            ],
            [
             0.3333333333333333,
             "#9c179e"
            ],
            [
             0.4444444444444444,
             "#bd3786"
            ],
            [
             0.5555555555555556,
             "#d8576b"
            ],
            [
             0.6666666666666666,
             "#ed7953"
            ],
            [
             0.7777777777777778,
             "#fb9f3a"
            ],
            [
             0.8888888888888888,
             "#fdca26"
            ],
            [
             1,
             "#f0f921"
            ]
           ],
           "sequentialminus": [
            [
             0,
             "#0d0887"
            ],
            [
             0.1111111111111111,
             "#46039f"
            ],
            [
             0.2222222222222222,
             "#7201a8"
            ],
            [
             0.3333333333333333,
             "#9c179e"
            ],
            [
             0.4444444444444444,
             "#bd3786"
            ],
            [
             0.5555555555555556,
             "#d8576b"
            ],
            [
             0.6666666666666666,
             "#ed7953"
            ],
            [
             0.7777777777777778,
             "#fb9f3a"
            ],
            [
             0.8888888888888888,
             "#fdca26"
            ],
            [
             1,
             "#f0f921"
            ]
           ]
          },
          "colorway": [
           "#636efa",
           "#EF553B",
           "#00cc96",
           "#ab63fa",
           "#FFA15A",
           "#19d3f3",
           "#FF6692",
           "#B6E880",
           "#FF97FF",
           "#FECB52"
          ],
          "font": {
           "color": "#2a3f5f"
          },
          "geo": {
           "bgcolor": "white",
           "lakecolor": "white",
           "landcolor": "#E5ECF6",
           "showlakes": true,
           "showland": true,
           "subunitcolor": "white"
          },
          "hoverlabel": {
           "align": "left"
          },
          "hovermode": "closest",
          "mapbox": {
           "style": "light"
          },
          "paper_bgcolor": "white",
          "plot_bgcolor": "#E5ECF6",
          "polar": {
           "angularaxis": {
            "gridcolor": "white",
            "linecolor": "white",
            "ticks": ""
           },
           "bgcolor": "#E5ECF6",
           "radialaxis": {
            "gridcolor": "white",
            "linecolor": "white",
            "ticks": ""
           }
          },
          "scene": {
           "xaxis": {
            "backgroundcolor": "#E5ECF6",
            "gridcolor": "white",
            "gridwidth": 2,
            "linecolor": "white",
            "showbackground": true,
            "ticks": "",
            "zerolinecolor": "white"
           },
           "yaxis": {
            "backgroundcolor": "#E5ECF6",
            "gridcolor": "white",
            "gridwidth": 2,
            "linecolor": "white",
            "showbackground": true,
            "ticks": "",
            "zerolinecolor": "white"
           },
           "zaxis": {
            "backgroundcolor": "#E5ECF6",
            "gridcolor": "white",
            "gridwidth": 2,
            "linecolor": "white",
            "showbackground": true,
            "ticks": "",
            "zerolinecolor": "white"
           }
          },
          "shapedefaults": {
           "line": {
            "color": "#2a3f5f"
           }
          },
          "ternary": {
           "aaxis": {
            "gridcolor": "white",
            "linecolor": "white",
            "ticks": ""
           },
           "baxis": {
            "gridcolor": "white",
            "linecolor": "white",
            "ticks": ""
           },
           "bgcolor": "#E5ECF6",
           "caxis": {
            "gridcolor": "white",
            "linecolor": "white",
            "ticks": ""
           }
          },
          "title": {
           "x": 0.05
          },
          "xaxis": {
           "automargin": true,
           "gridcolor": "white",
           "linecolor": "white",
           "ticks": "",
           "title": {
            "standoff": 15
           },
           "zerolinecolor": "white",
           "zerolinewidth": 2
          },
          "yaxis": {
           "automargin": true,
           "gridcolor": "white",
           "linecolor": "white",
           "ticks": "",
           "title": {
            "standoff": 15
           },
           "zerolinecolor": "white",
           "zerolinewidth": 2
          }
         }
        }
       }
      }
     },
     "metadata": {},
     "output_type": "display_data"
    }
   ],
   "source": [
    "df = pd.read_csv(\"DS1.csv\")\n",
    "###df = df.concatenate(\"Etiology\")\n",
    "figscat = px.scatter_matrix(df, color = \"Etiology\")\n",
    "figscat.update_traces(showupperhalf = False, diagonal_visible = False)\n",
    "figscat.update_traces(marker_size = 4)\n",
    "figscat.show()"
   ]
  },
  {
   "cell_type": "code",
   "execution_count": 210,
   "metadata": {},
   "outputs": [],
   "source": [
    "import plotly.io"
   ]
  },
  {
   "cell_type": "code",
   "execution_count": 211,
   "metadata": {},
   "outputs": [],
   "source": [
    "plotly.io.write_image(figscat, 'scattermatrix.pdf', format = 'pdf')"
   ]
  },
  {
   "cell_type": "code",
   "execution_count": 209,
   "metadata": {},
   "outputs": [
    {
     "ename": "NameError",
     "evalue": "name 'plotly' is not defined",
     "output_type": "error",
     "traceback": [
      "\u001b[0;31m---------------------------------------------------------------------------\u001b[0m",
      "\u001b[0;31mNameError\u001b[0m                                 Traceback (most recent call last)",
      "\u001b[1;32m/Users/jacobalhusseini/Documents/GitHub/CSFlow/D/test.ipynb Cell 20\u001b[0m in \u001b[0;36m<cell line: 1>\u001b[0;34m()\u001b[0m\n\u001b[0;32m----> <a href='vscode-notebook-cell:/Users/jacobalhusseini/Documents/GitHub/CSFlow/D/test.ipynb#X31sZmlsZQ%3D%3D?line=0'>1</a>\u001b[0m plotly\u001b[39m.\u001b[39mimage\u001b[39m.\u001b[39msave_as(figscat, \u001b[39m'\u001b[39m\u001b[39mscattermatrix.pdf\u001b[39m\u001b[39m'\u001b[39m)\n",
      "\u001b[0;31mNameError\u001b[0m: name 'plotly' is not defined"
     ]
    }
   ],
   "source": [
    "plotly.image.save_as(figscat, 'scattermatrix.pdf')"
   ]
  },
  {
   "cell_type": "code",
   "execution_count": 1,
   "metadata": {},
   "outputs": [
    {
     "name": "stderr",
     "output_type": "stream",
     "text": [
      "2023-09-05 12:53:10.093 INFO    numexpr.utils: NumExpr defaulting to 8 threads.\n",
      "2023-09-05 12:53:12.728 \n",
      "  \u001b[33m\u001b[1mWarning:\u001b[0m to view this Streamlit app on a browser, run it with the following\n",
      "  command:\n",
      "\n",
      "    streamlit run /Users/jacobalhusseini/opt/anaconda3/envs/DataAnalytics/lib/python3.9/site-packages/ipykernel_launcher.py [ARGUMENTS]\n"
     ]
    },
    {
     "ename": "ValueError",
     "evalue": "Invalid file path or buffer object type: <class 'NoneType'>",
     "output_type": "error",
     "traceback": [
      "\u001b[0;31m---------------------------------------------------------------------------\u001b[0m",
      "\u001b[0;31mValueError\u001b[0m                                Traceback (most recent call last)",
      "\u001b[1;32m/Users/jacobalhusseini/Documents/GitHub/CSFlow/D/test.ipynb Cell 23\u001b[0m in \u001b[0;36m<cell line: 31>\u001b[0;34m()\u001b[0m\n\u001b[1;32m     <a href='vscode-notebook-cell:/Users/jacobalhusseini/Documents/GitHub/CSFlow/D/test.ipynb#X31sZmlsZQ%3D%3D?line=27'>28</a>\u001b[0m st\u001b[39m.\u001b[39mcaption(\u001b[39m\"\u001b[39m\u001b[39mAfter uploading your CSV, ensure the columns are labeled appropriately below.\u001b[39m\u001b[39m\"\u001b[39m)\n\u001b[1;32m     <a href='vscode-notebook-cell:/Users/jacobalhusseini/Documents/GitHub/CSFlow/D/test.ipynb#X31sZmlsZQ%3D%3D?line=28'>29</a>\u001b[0m st\u001b[39m.\u001b[39mcaption(\u001b[39m\"\u001b[39m\u001b[39mFlow rate = FR, Age @ enrollment = Age, Months since shunt = Months, FOHR = FOHR, and Etiology labeled as either NTD, OTHER, or IVH\u001b[39m\u001b[39m\"\u001b[39m)\n\u001b[0;32m---> <a href='vscode-notebook-cell:/Users/jacobalhusseini/Documents/GitHub/CSFlow/D/test.ipynb#X31sZmlsZQ%3D%3D?line=30'>31</a>\u001b[0m df \u001b[39m=\u001b[39m pd\u001b[39m.\u001b[39;49mread_csv(uploaded_file)\n\u001b[1;32m     <a href='vscode-notebook-cell:/Users/jacobalhusseini/Documents/GitHub/CSFlow/D/test.ipynb#X31sZmlsZQ%3D%3D?line=32'>33</a>\u001b[0m st\u001b[39m.\u001b[39mdataframe(df)\n\u001b[1;32m     <a href='vscode-notebook-cell:/Users/jacobalhusseini/Documents/GitHub/CSFlow/D/test.ipynb#X31sZmlsZQ%3D%3D?line=36'>37</a>\u001b[0m \u001b[39mif\u001b[39;00m st\u001b[39m.\u001b[39mbutton(\u001b[39m\"\u001b[39m\u001b[39mProcess Data\u001b[39m\u001b[39m\"\u001b[39m):\n",
      "File \u001b[0;32m~/opt/anaconda3/envs/DataAnalytics/lib/python3.9/site-packages/pandas/util/_decorators.py:311\u001b[0m, in \u001b[0;36mdeprecate_nonkeyword_arguments.<locals>.decorate.<locals>.wrapper\u001b[0;34m(*args, **kwargs)\u001b[0m\n\u001b[1;32m    305\u001b[0m \u001b[39mif\u001b[39;00m \u001b[39mlen\u001b[39m(args) \u001b[39m>\u001b[39m num_allow_args:\n\u001b[1;32m    306\u001b[0m     warnings\u001b[39m.\u001b[39mwarn(\n\u001b[1;32m    307\u001b[0m         msg\u001b[39m.\u001b[39mformat(arguments\u001b[39m=\u001b[39marguments),\n\u001b[1;32m    308\u001b[0m         \u001b[39mFutureWarning\u001b[39;00m,\n\u001b[1;32m    309\u001b[0m         stacklevel\u001b[39m=\u001b[39mstacklevel,\n\u001b[1;32m    310\u001b[0m     )\n\u001b[0;32m--> 311\u001b[0m \u001b[39mreturn\u001b[39;00m func(\u001b[39m*\u001b[39;49margs, \u001b[39m*\u001b[39;49m\u001b[39m*\u001b[39;49mkwargs)\n",
      "File \u001b[0;32m~/opt/anaconda3/envs/DataAnalytics/lib/python3.9/site-packages/pandas/io/parsers/readers.py:678\u001b[0m, in \u001b[0;36mread_csv\u001b[0;34m(filepath_or_buffer, sep, delimiter, header, names, index_col, usecols, squeeze, prefix, mangle_dupe_cols, dtype, engine, converters, true_values, false_values, skipinitialspace, skiprows, skipfooter, nrows, na_values, keep_default_na, na_filter, verbose, skip_blank_lines, parse_dates, infer_datetime_format, keep_date_col, date_parser, dayfirst, cache_dates, iterator, chunksize, compression, thousands, decimal, lineterminator, quotechar, quoting, doublequote, escapechar, comment, encoding, encoding_errors, dialect, error_bad_lines, warn_bad_lines, on_bad_lines, delim_whitespace, low_memory, memory_map, float_precision, storage_options)\u001b[0m\n\u001b[1;32m    663\u001b[0m kwds_defaults \u001b[39m=\u001b[39m _refine_defaults_read(\n\u001b[1;32m    664\u001b[0m     dialect,\n\u001b[1;32m    665\u001b[0m     delimiter,\n\u001b[0;32m   (...)\u001b[0m\n\u001b[1;32m    674\u001b[0m     defaults\u001b[39m=\u001b[39m{\u001b[39m\"\u001b[39m\u001b[39mdelimiter\u001b[39m\u001b[39m\"\u001b[39m: \u001b[39m\"\u001b[39m\u001b[39m,\u001b[39m\u001b[39m\"\u001b[39m},\n\u001b[1;32m    675\u001b[0m )\n\u001b[1;32m    676\u001b[0m kwds\u001b[39m.\u001b[39mupdate(kwds_defaults)\n\u001b[0;32m--> 678\u001b[0m \u001b[39mreturn\u001b[39;00m _read(filepath_or_buffer, kwds)\n",
      "File \u001b[0;32m~/opt/anaconda3/envs/DataAnalytics/lib/python3.9/site-packages/pandas/io/parsers/readers.py:575\u001b[0m, in \u001b[0;36m_read\u001b[0;34m(filepath_or_buffer, kwds)\u001b[0m\n\u001b[1;32m    572\u001b[0m _validate_names(kwds\u001b[39m.\u001b[39mget(\u001b[39m\"\u001b[39m\u001b[39mnames\u001b[39m\u001b[39m\"\u001b[39m, \u001b[39mNone\u001b[39;00m))\n\u001b[1;32m    574\u001b[0m \u001b[39m# Create the parser.\u001b[39;00m\n\u001b[0;32m--> 575\u001b[0m parser \u001b[39m=\u001b[39m TextFileReader(filepath_or_buffer, \u001b[39m*\u001b[39;49m\u001b[39m*\u001b[39;49mkwds)\n\u001b[1;32m    577\u001b[0m \u001b[39mif\u001b[39;00m chunksize \u001b[39mor\u001b[39;00m iterator:\n\u001b[1;32m    578\u001b[0m     \u001b[39mreturn\u001b[39;00m parser\n",
      "File \u001b[0;32m~/opt/anaconda3/envs/DataAnalytics/lib/python3.9/site-packages/pandas/io/parsers/readers.py:932\u001b[0m, in \u001b[0;36mTextFileReader.__init__\u001b[0;34m(self, f, engine, **kwds)\u001b[0m\n\u001b[1;32m    929\u001b[0m     \u001b[39mself\u001b[39m\u001b[39m.\u001b[39moptions[\u001b[39m\"\u001b[39m\u001b[39mhas_index_names\u001b[39m\u001b[39m\"\u001b[39m] \u001b[39m=\u001b[39m kwds[\u001b[39m\"\u001b[39m\u001b[39mhas_index_names\u001b[39m\u001b[39m\"\u001b[39m]\n\u001b[1;32m    931\u001b[0m \u001b[39mself\u001b[39m\u001b[39m.\u001b[39mhandles: IOHandles \u001b[39m|\u001b[39m \u001b[39mNone\u001b[39;00m \u001b[39m=\u001b[39m \u001b[39mNone\u001b[39;00m\n\u001b[0;32m--> 932\u001b[0m \u001b[39mself\u001b[39m\u001b[39m.\u001b[39m_engine \u001b[39m=\u001b[39m \u001b[39mself\u001b[39;49m\u001b[39m.\u001b[39;49m_make_engine(f, \u001b[39mself\u001b[39;49m\u001b[39m.\u001b[39;49mengine)\n",
      "File \u001b[0;32m~/opt/anaconda3/envs/DataAnalytics/lib/python3.9/site-packages/pandas/io/parsers/readers.py:1216\u001b[0m, in \u001b[0;36mTextFileReader._make_engine\u001b[0;34m(self, f, engine)\u001b[0m\n\u001b[1;32m   1212\u001b[0m     mode \u001b[39m=\u001b[39m \u001b[39m\"\u001b[39m\u001b[39mrb\u001b[39m\u001b[39m\"\u001b[39m\n\u001b[1;32m   1213\u001b[0m \u001b[39m# error: No overload variant of \"get_handle\" matches argument types\u001b[39;00m\n\u001b[1;32m   1214\u001b[0m \u001b[39m# \"Union[str, PathLike[str], ReadCsvBuffer[bytes], ReadCsvBuffer[str]]\"\u001b[39;00m\n\u001b[1;32m   1215\u001b[0m \u001b[39m# , \"str\", \"bool\", \"Any\", \"Any\", \"Any\", \"Any\", \"Any\"\u001b[39;00m\n\u001b[0;32m-> 1216\u001b[0m \u001b[39mself\u001b[39m\u001b[39m.\u001b[39mhandles \u001b[39m=\u001b[39m get_handle(  \u001b[39m# type: ignore[call-overload]\u001b[39;49;00m\n\u001b[1;32m   1217\u001b[0m     f,\n\u001b[1;32m   1218\u001b[0m     mode,\n\u001b[1;32m   1219\u001b[0m     encoding\u001b[39m=\u001b[39;49m\u001b[39mself\u001b[39;49m\u001b[39m.\u001b[39;49moptions\u001b[39m.\u001b[39;49mget(\u001b[39m\"\u001b[39;49m\u001b[39mencoding\u001b[39;49m\u001b[39m\"\u001b[39;49m, \u001b[39mNone\u001b[39;49;00m),\n\u001b[1;32m   1220\u001b[0m     compression\u001b[39m=\u001b[39;49m\u001b[39mself\u001b[39;49m\u001b[39m.\u001b[39;49moptions\u001b[39m.\u001b[39;49mget(\u001b[39m\"\u001b[39;49m\u001b[39mcompression\u001b[39;49m\u001b[39m\"\u001b[39;49m, \u001b[39mNone\u001b[39;49;00m),\n\u001b[1;32m   1221\u001b[0m     memory_map\u001b[39m=\u001b[39;49m\u001b[39mself\u001b[39;49m\u001b[39m.\u001b[39;49moptions\u001b[39m.\u001b[39;49mget(\u001b[39m\"\u001b[39;49m\u001b[39mmemory_map\u001b[39;49m\u001b[39m\"\u001b[39;49m, \u001b[39mFalse\u001b[39;49;00m),\n\u001b[1;32m   1222\u001b[0m     is_text\u001b[39m=\u001b[39;49mis_text,\n\u001b[1;32m   1223\u001b[0m     errors\u001b[39m=\u001b[39;49m\u001b[39mself\u001b[39;49m\u001b[39m.\u001b[39;49moptions\u001b[39m.\u001b[39;49mget(\u001b[39m\"\u001b[39;49m\u001b[39mencoding_errors\u001b[39;49m\u001b[39m\"\u001b[39;49m, \u001b[39m\"\u001b[39;49m\u001b[39mstrict\u001b[39;49m\u001b[39m\"\u001b[39;49m),\n\u001b[1;32m   1224\u001b[0m     storage_options\u001b[39m=\u001b[39;49m\u001b[39mself\u001b[39;49m\u001b[39m.\u001b[39;49moptions\u001b[39m.\u001b[39;49mget(\u001b[39m\"\u001b[39;49m\u001b[39mstorage_options\u001b[39;49m\u001b[39m\"\u001b[39;49m, \u001b[39mNone\u001b[39;49;00m),\n\u001b[1;32m   1225\u001b[0m )\n\u001b[1;32m   1226\u001b[0m \u001b[39massert\u001b[39;00m \u001b[39mself\u001b[39m\u001b[39m.\u001b[39mhandles \u001b[39mis\u001b[39;00m \u001b[39mnot\u001b[39;00m \u001b[39mNone\u001b[39;00m\n\u001b[1;32m   1227\u001b[0m f \u001b[39m=\u001b[39m \u001b[39mself\u001b[39m\u001b[39m.\u001b[39mhandles\u001b[39m.\u001b[39mhandle\n",
      "File \u001b[0;32m~/opt/anaconda3/envs/DataAnalytics/lib/python3.9/site-packages/pandas/io/common.py:667\u001b[0m, in \u001b[0;36mget_handle\u001b[0;34m(path_or_buf, mode, encoding, compression, memory_map, is_text, errors, storage_options)\u001b[0m\n\u001b[1;32m    664\u001b[0m     codecs\u001b[39m.\u001b[39mlookup_error(errors)\n\u001b[1;32m    666\u001b[0m \u001b[39m# open URLs\u001b[39;00m\n\u001b[0;32m--> 667\u001b[0m ioargs \u001b[39m=\u001b[39m _get_filepath_or_buffer(\n\u001b[1;32m    668\u001b[0m     path_or_buf,\n\u001b[1;32m    669\u001b[0m     encoding\u001b[39m=\u001b[39;49mencoding,\n\u001b[1;32m    670\u001b[0m     compression\u001b[39m=\u001b[39;49mcompression,\n\u001b[1;32m    671\u001b[0m     mode\u001b[39m=\u001b[39;49mmode,\n\u001b[1;32m    672\u001b[0m     storage_options\u001b[39m=\u001b[39;49mstorage_options,\n\u001b[1;32m    673\u001b[0m )\n\u001b[1;32m    675\u001b[0m handle \u001b[39m=\u001b[39m ioargs\u001b[39m.\u001b[39mfilepath_or_buffer\n\u001b[1;32m    676\u001b[0m handles: \u001b[39mlist\u001b[39m[BaseBuffer]\n",
      "File \u001b[0;32m~/opt/anaconda3/envs/DataAnalytics/lib/python3.9/site-packages/pandas/io/common.py:424\u001b[0m, in \u001b[0;36m_get_filepath_or_buffer\u001b[0;34m(filepath_or_buffer, encoding, compression, mode, storage_options)\u001b[0m\n\u001b[1;32m    420\u001b[0m \u001b[39mif\u001b[39;00m \u001b[39mnot\u001b[39;00m (\n\u001b[1;32m    421\u001b[0m     \u001b[39mhasattr\u001b[39m(filepath_or_buffer, \u001b[39m\"\u001b[39m\u001b[39mread\u001b[39m\u001b[39m\"\u001b[39m) \u001b[39mor\u001b[39;00m \u001b[39mhasattr\u001b[39m(filepath_or_buffer, \u001b[39m\"\u001b[39m\u001b[39mwrite\u001b[39m\u001b[39m\"\u001b[39m)\n\u001b[1;32m    422\u001b[0m ):\n\u001b[1;32m    423\u001b[0m     msg \u001b[39m=\u001b[39m \u001b[39mf\u001b[39m\u001b[39m\"\u001b[39m\u001b[39mInvalid file path or buffer object type: \u001b[39m\u001b[39m{\u001b[39;00m\u001b[39mtype\u001b[39m(filepath_or_buffer)\u001b[39m}\u001b[39;00m\u001b[39m\"\u001b[39m\n\u001b[0;32m--> 424\u001b[0m     \u001b[39mraise\u001b[39;00m \u001b[39mValueError\u001b[39;00m(msg)\n\u001b[1;32m    426\u001b[0m \u001b[39mreturn\u001b[39;00m IOArgs(\n\u001b[1;32m    427\u001b[0m     filepath_or_buffer\u001b[39m=\u001b[39mfilepath_or_buffer,\n\u001b[1;32m    428\u001b[0m     encoding\u001b[39m=\u001b[39mencoding,\n\u001b[0;32m   (...)\u001b[0m\n\u001b[1;32m    431\u001b[0m     mode\u001b[39m=\u001b[39mmode,\n\u001b[1;32m    432\u001b[0m )\n",
      "\u001b[0;31mValueError\u001b[0m: Invalid file path or buffer object type: <class 'NoneType'>"
     ]
    }
   ],
   "source": [
    "import streamlit as st\n",
    "import pandas as pd\n",
    "import numpy as np\n",
    "import plotly.express as px\n",
    "from scipy import stats\n",
    "import statistics\n",
    "import plotly.graph_objects as go\n",
    "from plotly.subplots import make_subplots\n",
    "import plotly.express as px\n",
    "from sklearn.decomposition import PCA\n",
    "import time\n",
    "\n",
    "\n",
    "\n",
    "\n",
    "\n",
    "\n",
    "st.title(\"CSFlow Computation\")\n",
    "\n",
    "with st.sidebar:\n",
    "    options = st.multiselect(\n",
    "        'How would you like to analyze the data?',\n",
    "        ['PCA','Histogram','3D Scatter', 'PCA Matrix']\n",
    "    )\n",
    "\n",
    "st.subheader(\"Data Cleaning:\")\n",
    "uploaded_file = st.file_uploader(\"Insert CSV File Here!\")\n",
    "st.caption(\"After uploading your CSV, ensure the columns are labeled appropriately below.\")\n",
    "st.caption(\"Flow rate = FR, Age @ enrollment = Age, Months since shunt = Months, FOHR = FOHR, and Etiology labeled as either NTD, OTHER, or IVH\")\n",
    "\n",
    "df = pd.read_csv(uploaded_file)\n",
    "\n",
    "st.dataframe(df)\n",
    "\n",
    "\n",
    "\n",
    "if st.button(\"Process Data\"):\n",
    "    with st.spinner('Wait for it...'):\n",
    "        time.sleep(1)\n",
    "    st.success('Done!')\n",
    "\n",
    "\n",
    "\n",
    "\n",
    "    if options == 'Histogram':\n",
    "        #Histogram\n",
    "        hist_values = px.histogram(\n",
    "            df, x = \"FR\", \n",
    "            #nbins = 150,\n",
    "            title = \"Histogram of Flow Rate Distributions\",\n",
    "            color = \"Etiology\",\n",
    "            #text_auto = True,\n",
    "            #y_title = \"Count\",\n",
    "            #x_title = \"Flow Rate\",\n",
    "            )\n",
    "        \n",
    "        st.plotly_chart(hist_values)\n",
    "        \n",
    "\n",
    "    SubPlot = make_subplots(rows = 1, cols = 4,\n",
    "    y_title= \"Flow Rate\", x_title=\"\", subplot_titles= (\"Age\", \"BMI\", \"Months\", \"FOHR\")   \n",
    "                    )\n",
    "\n",
    "    SubPlot.update_layout(showlegend = False, title = \"\", plot_bgcolor = 'white')\n",
    "\n",
    "    SubPlot.update_xaxes(showline = True, linecolor = 'black', linewidth = 1.5, ticks = \"outside\", showgrid = True, gridcolor = \"lightgray\", gridwidth = .5)\n",
    "    SubPlot.update_yaxes(showline = True, linecolor = 'black', linewidth = 1.5, ticks = \"inside\", showgrid = True, gridcolor = \"lightgray\", gridwidth = .5)\n",
    "\n",
    "    SubPlot.append_trace(go.Scatter(x = df['Age'], y = df[\"FR\"], mode = \"markers\", marker = dict(color = \"red\")), row = 1, col = 1)\n",
    "    SubPlot.append_trace(go.Scatter(x = df['BMI'], y = df[\"FR\"], mode = \"markers\", marker = dict(color = \"green\")), row = 1, col = 2)\n",
    "    SubPlot.append_trace(go.Scatter(x = df['Months'], y = df[\"FR\"], mode = \"markers\", marker = dict(color = \"orange\")), row = 1, col = 3)\n",
    "    SubPlot.append_trace(go.Scatter(x = df['FOHR'], y = df[\"FR\"], mode = \"markers\", marker = dict(color = \"purple\")), row = 1, col =4)\n",
    "\n",
    "    SubPlot.update_traces(marker = dict(size = 8, line = dict(width = .75, color = \"black\")))\n",
    "\n",
    "    st.plotly_chart(SubPlot)\n",
    "\n",
    "\n",
    "\n",
    "   \n",
    "    Plot3D = px.scatter_3d(df, x = \"FOHR\", y = \"Age\", z = \"FR\", color = \"Etiology\")\n",
    "    Plot3D.update_traces(marker_size = 5, opacity = 0.75)\n",
    "\n",
    "    st.plotly_chart(Plot3D)\n",
    "\n",
    "\n",
    "\n",
    "    pca = PCA()\n",
    "    features = [\"FR\", \"BMI\", \"FOHR\", \"Age\", \"Months\"]\n",
    "    components = pca.fit_transform(df[features])\n",
    "    labels = {\n",
    "        str(i): f\"PC {i+1} ({var:.1f}%)\"\n",
    "        for i, var in enumerate(pca.explained_variance_ratio_ * 100)\n",
    "    }\n",
    "\n",
    "    fig = px.scatter_matrix(\n",
    "    components,\n",
    "    labels=labels,\n",
    "    dimensions=range(5),\n",
    "        color=df[\"Etiology\"]\n",
    "    )\n",
    "    fig.update_traces(diagonal_visible=False, showupperhalf = False )\n",
    "    fig.update_traces(marker_size = 4.5\n",
    "                )\n",
    "    \n",
    "    st.plotly_chart(fig)\n",
    "\n",
    "\n",
    "\n"
   ]
  },
  {
   "cell_type": "code",
   "execution_count": 5,
   "metadata": {},
   "outputs": [
    {
     "name": "stdout",
     "output_type": "stream",
     "text": [
      "             Age        BMI      Months         FR       FOHR\n",
      "count  84.000000  84.000000   84.000000  84.000000  84.000000\n",
      "mean   10.440112  21.313393  106.107143   8.480109   0.372665\n",
      "std     6.439124   6.319014   77.023861   8.876736   0.070257\n",
      "min     0.000000  10.442164    0.000000   0.000000   0.287772\n",
      "25%     5.565278  16.874470   42.750000   2.000000   0.332330\n",
      "50%     9.126389  19.173804   91.500000   8.000000   0.354563\n",
      "75%    15.286111  25.275490  166.500000  11.000000   0.394376\n",
      "max    24.877778  40.169222  273.000000  54.000000   0.770581\n"
     ]
    },
    {
     "data": {
      "image/png": "[encoded data removed]",
      "text/plain": [
       "<Figure size 1348.38x1250 with 30 Axes>"
      ]
     },
     "metadata": {},
     "output_type": "display_data"
    },
    {
     "data": {
      "image/png": "[encoded data removed]",
      "text/plain": [
       "<Figure size 1000x800 with 2 Axes>"
      ]
     },
     "metadata": {},
     "output_type": "display_data"
    },
    {
     "name": "stdout",
     "output_type": "stream",
     "text": [
      "Confusion Matrix:\n",
      " [[2 0 2]\n",
      " [4 0 1]\n",
      " [2 0 6]]\n",
      "\n",
      "Classification Report:\n",
      "               precision    recall  f1-score   support\n",
      "\n",
      "         IVH       0.25      0.50      0.33         4\n",
      "         NTD       0.00      0.00      0.00         5\n",
      "       OTHER       0.67      0.75      0.71         8\n",
      "\n",
      "    accuracy                           0.47        17\n",
      "   macro avg       0.31      0.42      0.35        17\n",
      "weighted avg       0.37      0.47      0.41        17\n",
      "\n"
     ]
    },
    {
     "name": "stderr",
     "output_type": "stream",
     "text": [
      "/Users/jacobalhusseini/opt/anaconda3/envs/DataAnalytics/lib/python3.9/site-packages/sklearn/metrics/_classification.py:1344: UndefinedMetricWarning: Precision and F-score are ill-defined and being set to 0.0 in labels with no predicted samples. Use `zero_division` parameter to control this behavior.\n",
      "  _warn_prf(average, modifier, msg_start, len(result))\n",
      "/Users/jacobalhusseini/opt/anaconda3/envs/DataAnalytics/lib/python3.9/site-packages/sklearn/metrics/_classification.py:1344: UndefinedMetricWarning: Precision and F-score are ill-defined and being set to 0.0 in labels with no predicted samples. Use `zero_division` parameter to control this behavior.\n",
      "  _warn_prf(average, modifier, msg_start, len(result))\n",
      "/Users/jacobalhusseini/opt/anaconda3/envs/DataAnalytics/lib/python3.9/site-packages/sklearn/metrics/_classification.py:1344: UndefinedMetricWarning: Precision and F-score are ill-defined and being set to 0.0 in labels with no predicted samples. Use `zero_division` parameter to control this behavior.\n",
      "  _warn_prf(average, modifier, msg_start, len(result))\n"
     ]
    }
   ],
   "source": [
    "import pandas as pd\n",
    "import numpy as np\n",
    "import matplotlib.pyplot as plt\n",
    "import seaborn as sns\n",
    "from sklearn.model_selection import train_test_split\n",
    "from sklearn.linear_model import LogisticRegression\n",
    "from sklearn.metrics import confusion_matrix, classification_report\n",
    "from sklearn.preprocessing import StandardScaler\n",
    "\n",
    "# Load the data\n",
    "data = pd.read_csv('DS1.csv')  # Replace 'your_data_file.csv' with your actual data file\n",
    "\n",
    "# Data exploration and visualization\n",
    "# Summary statistics\n",
    "print(data.describe())\n",
    "\n",
    "# Pairplot for multivariate analysis\n",
    "sns.pairplot(data, hue='Etiology', diag_kind='kde')\n",
    "plt.show()\n",
    "\n",
    "# Correlation heatmap\n",
    "corr_matrix = data.corr()\n",
    "plt.figure(figsize=(10, 8))\n",
    "sns.heatmap(corr_matrix, annot=True, cmap='coolwarm')\n",
    "plt.title('Correlation Heatmap')\n",
    "plt.show()\n",
    "\n",
    "# Split the data into train and test sets\n",
    "X = data[['Age', 'BMI', 'Months', 'FR', 'FOHR']]\n",
    "y = data['Etiology']\n",
    "\n",
    "X_train, X_test, y_train, y_test = train_test_split(X, y, test_size=0.2, random_state=42)\n",
    "\n",
    "# Standardize the features\n",
    "scaler = StandardScaler()\n",
    "X_train = scaler.fit_transform(X_train)\n",
    "X_test = scaler.transform(X_test)\n",
    "\n",
    "# Fit a Generalized Linear Model (GLM)\n",
    "model = LogisticRegression(max_iter=1000, random_state=42)\n",
    "model.fit(X_train, y_train)\n",
    "\n",
    "# Evaluate the model\n",
    "y_pred = model.predict(X_test)\n",
    "\n",
    "# Confusion matrix and classification report\n",
    "conf_matrix = confusion_matrix(y_test, y_pred)\n",
    "class_report = classification_report(y_test, y_pred)\n",
    "\n",
    "print(\"Confusion Matrix:\\n\", conf_matrix)\n",
    "print(\"\\nClassification Report:\\n\", class_report)\n"
   ]
  },
  {
   "cell_type": "code",
   "execution_count": 6,
   "metadata": {},
   "outputs": [
    {
     "ename": "FileNotFoundError",
     "evalue": "[Errno 2] No such file or directory: 'DS2.csv'",
     "output_type": "error",
     "traceback": [
      "\u001b[0;31m---------------------------------------------------------------------------\u001b[0m",
      "\u001b[0;31mFileNotFoundError\u001b[0m                         Traceback (most recent call last)",
      "\u001b[1;32m/Users/jacobalhusseini/Documents/GitHub/CSFlow/D/test.ipynb Cell 25\u001b[0m in \u001b[0;36m<cell line: 11>\u001b[0;34m()\u001b[0m\n\u001b[1;32m      <a href='vscode-notebook-cell:/Users/jacobalhusseini/Documents/GitHub/CSFlow/D/test.ipynb#X33sZmlsZQ%3D%3D?line=7'>8</a>\u001b[0m \u001b[39mfrom\u001b[39;00m \u001b[39msklearn\u001b[39;00m\u001b[39m.\u001b[39;00m\u001b[39mpreprocessing\u001b[39;00m \u001b[39mimport\u001b[39;00m StandardScaler\n\u001b[1;32m     <a href='vscode-notebook-cell:/Users/jacobalhusseini/Documents/GitHub/CSFlow/D/test.ipynb#X33sZmlsZQ%3D%3D?line=9'>10</a>\u001b[0m \u001b[39m# Load the data\u001b[39;00m\n\u001b[0;32m---> <a href='vscode-notebook-cell:/Users/jacobalhusseini/Documents/GitHub/CSFlow/D/test.ipynb#X33sZmlsZQ%3D%3D?line=10'>11</a>\u001b[0m data \u001b[39m=\u001b[39m pd\u001b[39m.\u001b[39;49mread_csv(\u001b[39m'\u001b[39;49m\u001b[39mDS2.csv\u001b[39;49m\u001b[39m'\u001b[39;49m)  \u001b[39m# Replace 'your_data_file.csv' with your actual data file\u001b[39;00m\n\u001b[1;32m     <a href='vscode-notebook-cell:/Users/jacobalhusseini/Documents/GitHub/CSFlow/D/test.ipynb#X33sZmlsZQ%3D%3D?line=12'>13</a>\u001b[0m \u001b[39m# Data exploration and visualization\u001b[39;00m\n\u001b[1;32m     <a href='vscode-notebook-cell:/Users/jacobalhusseini/Documents/GitHub/CSFlow/D/test.ipynb#X33sZmlsZQ%3D%3D?line=13'>14</a>\u001b[0m \u001b[39m# Summary statistics\u001b[39;00m\n\u001b[1;32m     <a href='vscode-notebook-cell:/Users/jacobalhusseini/Documents/GitHub/CSFlow/D/test.ipynb#X33sZmlsZQ%3D%3D?line=14'>15</a>\u001b[0m \u001b[39mprint\u001b[39m(data\u001b[39m.\u001b[39mdescribe())\n",
      "File \u001b[0;32m~/opt/anaconda3/envs/DataAnalytics/lib/python3.9/site-packages/pandas/util/_decorators.py:311\u001b[0m, in \u001b[0;36mdeprecate_nonkeyword_arguments.<locals>.decorate.<locals>.wrapper\u001b[0;34m(*args, **kwargs)\u001b[0m\n\u001b[1;32m    305\u001b[0m \u001b[39mif\u001b[39;00m \u001b[39mlen\u001b[39m(args) \u001b[39m>\u001b[39m num_allow_args:\n\u001b[1;32m    306\u001b[0m     warnings\u001b[39m.\u001b[39mwarn(\n\u001b[1;32m    307\u001b[0m         msg\u001b[39m.\u001b[39mformat(arguments\u001b[39m=\u001b[39marguments),\n\u001b[1;32m    308\u001b[0m         \u001b[39mFutureWarning\u001b[39;00m,\n\u001b[1;32m    309\u001b[0m         stacklevel\u001b[39m=\u001b[39mstacklevel,\n\u001b[1;32m    310\u001b[0m     )\n\u001b[0;32m--> 311\u001b[0m \u001b[39mreturn\u001b[39;00m func(\u001b[39m*\u001b[39;49margs, \u001b[39m*\u001b[39;49m\u001b[39m*\u001b[39;49mkwargs)\n",
      "File \u001b[0;32m~/opt/anaconda3/envs/DataAnalytics/lib/python3.9/site-packages/pandas/io/parsers/readers.py:678\u001b[0m, in \u001b[0;36mread_csv\u001b[0;34m(filepath_or_buffer, sep, delimiter, header, names, index_col, usecols, squeeze, prefix, mangle_dupe_cols, dtype, engine, converters, true_values, false_values, skipinitialspace, skiprows, skipfooter, nrows, na_values, keep_default_na, na_filter, verbose, skip_blank_lines, parse_dates, infer_datetime_format, keep_date_col, date_parser, dayfirst, cache_dates, iterator, chunksize, compression, thousands, decimal, lineterminator, quotechar, quoting, doublequote, escapechar, comment, encoding, encoding_errors, dialect, error_bad_lines, warn_bad_lines, on_bad_lines, delim_whitespace, low_memory, memory_map, float_precision, storage_options)\u001b[0m\n\u001b[1;32m    663\u001b[0m kwds_defaults \u001b[39m=\u001b[39m _refine_defaults_read(\n\u001b[1;32m    664\u001b[0m     dialect,\n\u001b[1;32m    665\u001b[0m     delimiter,\n\u001b[0;32m   (...)\u001b[0m\n\u001b[1;32m    674\u001b[0m     defaults\u001b[39m=\u001b[39m{\u001b[39m\"\u001b[39m\u001b[39mdelimiter\u001b[39m\u001b[39m\"\u001b[39m: \u001b[39m\"\u001b[39m\u001b[39m,\u001b[39m\u001b[39m\"\u001b[39m},\n\u001b[1;32m    675\u001b[0m )\n\u001b[1;32m    676\u001b[0m kwds\u001b[39m.\u001b[39mupdate(kwds_defaults)\n\u001b[0;32m--> 678\u001b[0m \u001b[39mreturn\u001b[39;00m _read(filepath_or_buffer, kwds)\n",
      "File \u001b[0;32m~/opt/anaconda3/envs/DataAnalytics/lib/python3.9/site-packages/pandas/io/parsers/readers.py:575\u001b[0m, in \u001b[0;36m_read\u001b[0;34m(filepath_or_buffer, kwds)\u001b[0m\n\u001b[1;32m    572\u001b[0m _validate_names(kwds\u001b[39m.\u001b[39mget(\u001b[39m\"\u001b[39m\u001b[39mnames\u001b[39m\u001b[39m\"\u001b[39m, \u001b[39mNone\u001b[39;00m))\n\u001b[1;32m    574\u001b[0m \u001b[39m# Create the parser.\u001b[39;00m\n\u001b[0;32m--> 575\u001b[0m parser \u001b[39m=\u001b[39m TextFileReader(filepath_or_buffer, \u001b[39m*\u001b[39;49m\u001b[39m*\u001b[39;49mkwds)\n\u001b[1;32m    577\u001b[0m \u001b[39mif\u001b[39;00m chunksize \u001b[39mor\u001b[39;00m iterator:\n\u001b[1;32m    578\u001b[0m     \u001b[39mreturn\u001b[39;00m parser\n",
      "File \u001b[0;32m~/opt/anaconda3/envs/DataAnalytics/lib/python3.9/site-packages/pandas/io/parsers/readers.py:932\u001b[0m, in \u001b[0;36mTextFileReader.__init__\u001b[0;34m(self, f, engine, **kwds)\u001b[0m\n\u001b[1;32m    929\u001b[0m     \u001b[39mself\u001b[39m\u001b[39m.\u001b[39moptions[\u001b[39m\"\u001b[39m\u001b[39mhas_index_names\u001b[39m\u001b[39m\"\u001b[39m] \u001b[39m=\u001b[39m kwds[\u001b[39m\"\u001b[39m\u001b[39mhas_index_names\u001b[39m\u001b[39m\"\u001b[39m]\n\u001b[1;32m    931\u001b[0m \u001b[39mself\u001b[39m\u001b[39m.\u001b[39mhandles: IOHandles \u001b[39m|\u001b[39m \u001b[39mNone\u001b[39;00m \u001b[39m=\u001b[39m \u001b[39mNone\u001b[39;00m\n\u001b[0;32m--> 932\u001b[0m \u001b[39mself\u001b[39m\u001b[39m.\u001b[39m_engine \u001b[39m=\u001b[39m \u001b[39mself\u001b[39;49m\u001b[39m.\u001b[39;49m_make_engine(f, \u001b[39mself\u001b[39;49m\u001b[39m.\u001b[39;49mengine)\n",
      "File \u001b[0;32m~/opt/anaconda3/envs/DataAnalytics/lib/python3.9/site-packages/pandas/io/parsers/readers.py:1216\u001b[0m, in \u001b[0;36mTextFileReader._make_engine\u001b[0;34m(self, f, engine)\u001b[0m\n\u001b[1;32m   1212\u001b[0m     mode \u001b[39m=\u001b[39m \u001b[39m\"\u001b[39m\u001b[39mrb\u001b[39m\u001b[39m\"\u001b[39m\n\u001b[1;32m   1213\u001b[0m \u001b[39m# error: No overload variant of \"get_handle\" matches argument types\u001b[39;00m\n\u001b[1;32m   1214\u001b[0m \u001b[39m# \"Union[str, PathLike[str], ReadCsvBuffer[bytes], ReadCsvBuffer[str]]\"\u001b[39;00m\n\u001b[1;32m   1215\u001b[0m \u001b[39m# , \"str\", \"bool\", \"Any\", \"Any\", \"Any\", \"Any\", \"Any\"\u001b[39;00m\n\u001b[0;32m-> 1216\u001b[0m \u001b[39mself\u001b[39m\u001b[39m.\u001b[39mhandles \u001b[39m=\u001b[39m get_handle(  \u001b[39m# type: ignore[call-overload]\u001b[39;49;00m\n\u001b[1;32m   1217\u001b[0m     f,\n\u001b[1;32m   1218\u001b[0m     mode,\n\u001b[1;32m   1219\u001b[0m     encoding\u001b[39m=\u001b[39;49m\u001b[39mself\u001b[39;49m\u001b[39m.\u001b[39;49moptions\u001b[39m.\u001b[39;49mget(\u001b[39m\"\u001b[39;49m\u001b[39mencoding\u001b[39;49m\u001b[39m\"\u001b[39;49m, \u001b[39mNone\u001b[39;49;00m),\n\u001b[1;32m   1220\u001b[0m     compression\u001b[39m=\u001b[39;49m\u001b[39mself\u001b[39;49m\u001b[39m.\u001b[39;49moptions\u001b[39m.\u001b[39;49mget(\u001b[39m\"\u001b[39;49m\u001b[39mcompression\u001b[39;49m\u001b[39m\"\u001b[39;49m, \u001b[39mNone\u001b[39;49;00m),\n\u001b[1;32m   1221\u001b[0m     memory_map\u001b[39m=\u001b[39;49m\u001b[39mself\u001b[39;49m\u001b[39m.\u001b[39;49moptions\u001b[39m.\u001b[39;49mget(\u001b[39m\"\u001b[39;49m\u001b[39mmemory_map\u001b[39;49m\u001b[39m\"\u001b[39;49m, \u001b[39mFalse\u001b[39;49;00m),\n\u001b[1;32m   1222\u001b[0m     is_text\u001b[39m=\u001b[39;49mis_text,\n\u001b[1;32m   1223\u001b[0m     errors\u001b[39m=\u001b[39;49m\u001b[39mself\u001b[39;49m\u001b[39m.\u001b[39;49moptions\u001b[39m.\u001b[39;49mget(\u001b[39m\"\u001b[39;49m\u001b[39mencoding_errors\u001b[39;49m\u001b[39m\"\u001b[39;49m, \u001b[39m\"\u001b[39;49m\u001b[39mstrict\u001b[39;49m\u001b[39m\"\u001b[39;49m),\n\u001b[1;32m   1224\u001b[0m     storage_options\u001b[39m=\u001b[39;49m\u001b[39mself\u001b[39;49m\u001b[39m.\u001b[39;49moptions\u001b[39m.\u001b[39;49mget(\u001b[39m\"\u001b[39;49m\u001b[39mstorage_options\u001b[39;49m\u001b[39m\"\u001b[39;49m, \u001b[39mNone\u001b[39;49;00m),\n\u001b[1;32m   1225\u001b[0m )\n\u001b[1;32m   1226\u001b[0m \u001b[39massert\u001b[39;00m \u001b[39mself\u001b[39m\u001b[39m.\u001b[39mhandles \u001b[39mis\u001b[39;00m \u001b[39mnot\u001b[39;00m \u001b[39mNone\u001b[39;00m\n\u001b[1;32m   1227\u001b[0m f \u001b[39m=\u001b[39m \u001b[39mself\u001b[39m\u001b[39m.\u001b[39mhandles\u001b[39m.\u001b[39mhandle\n",
      "File \u001b[0;32m~/opt/anaconda3/envs/DataAnalytics/lib/python3.9/site-packages/pandas/io/common.py:786\u001b[0m, in \u001b[0;36mget_handle\u001b[0;34m(path_or_buf, mode, encoding, compression, memory_map, is_text, errors, storage_options)\u001b[0m\n\u001b[1;32m    781\u001b[0m \u001b[39melif\u001b[39;00m \u001b[39misinstance\u001b[39m(handle, \u001b[39mstr\u001b[39m):\n\u001b[1;32m    782\u001b[0m     \u001b[39m# Check whether the filename is to be opened in binary mode.\u001b[39;00m\n\u001b[1;32m    783\u001b[0m     \u001b[39m# Binary mode does not support 'encoding' and 'newline'.\u001b[39;00m\n\u001b[1;32m    784\u001b[0m     \u001b[39mif\u001b[39;00m ioargs\u001b[39m.\u001b[39mencoding \u001b[39mand\u001b[39;00m \u001b[39m\"\u001b[39m\u001b[39mb\u001b[39m\u001b[39m\"\u001b[39m \u001b[39mnot\u001b[39;00m \u001b[39min\u001b[39;00m ioargs\u001b[39m.\u001b[39mmode:\n\u001b[1;32m    785\u001b[0m         \u001b[39m# Encoding\u001b[39;00m\n\u001b[0;32m--> 786\u001b[0m         handle \u001b[39m=\u001b[39m \u001b[39mopen\u001b[39;49m(\n\u001b[1;32m    787\u001b[0m             handle,\n\u001b[1;32m    788\u001b[0m             ioargs\u001b[39m.\u001b[39;49mmode,\n\u001b[1;32m    789\u001b[0m             encoding\u001b[39m=\u001b[39;49mioargs\u001b[39m.\u001b[39;49mencoding,\n\u001b[1;32m    790\u001b[0m             errors\u001b[39m=\u001b[39;49merrors,\n\u001b[1;32m    791\u001b[0m             newline\u001b[39m=\u001b[39;49m\u001b[39m\"\u001b[39;49m\u001b[39m\"\u001b[39;49m,\n\u001b[1;32m    792\u001b[0m         )\n\u001b[1;32m    793\u001b[0m     \u001b[39melse\u001b[39;00m:\n\u001b[1;32m    794\u001b[0m         \u001b[39m# Binary mode\u001b[39;00m\n\u001b[1;32m    795\u001b[0m         handle \u001b[39m=\u001b[39m \u001b[39mopen\u001b[39m(handle, ioargs\u001b[39m.\u001b[39mmode)\n",
      "\u001b[0;31mFileNotFoundError\u001b[0m: [Errno 2] No such file or directory: 'DS2.csv'"
     ]
    }
   ],
   "source": [
    "import pandas as pd\n",
    "import numpy as np\n",
    "import matplotlib.pyplot as plt\n",
    "import seaborn as sns\n",
    "from sklearn.model_selection import train_test_split\n",
    "from sklearn.linear_model import LogisticRegression\n",
    "from sklearn.metrics import confusion_matrix, classification_report\n",
    "from sklearn.preprocessing import StandardScaler\n",
    "\n",
    "# Load the data\n",
    "data = pd.read_csv('DS2.csv')  # Replace 'your_data_file.csv' with your actual data file\n",
    "\n",
    "# Data exploration and visualization\n",
    "# Summary statistics\n",
    "print(data.describe())\n",
    "\n",
    "# Pairplot for multivariate analysis\n",
    "sns.pairplot(data, hue='Etiology', diag_kind='kde')\n",
    "plt.show()\n",
    "\n",
    "# Correlation heatmap\n",
    "corr_matrix = data.corr()\n",
    "plt.figure(figsize=(12, 10))\n",
    "sns.heatmap(corr_matrix, annot=True, cmap='coolwarm')\n",
    "plt.title('Correlation Heatmap')\n",
    "plt.show()\n",
    "\n",
    "# Split the data into train and test sets\n",
    "X = data[['Age', 'Sex', 'Head Size (cm)', 'BMI', 'Time of Day Scanned',\n",
    "          'Months', 'FR', 'FOHR', 'Current Valve/Setting', '# of past shunt revisions']]\n",
    "y = data['Etiology']\n",
    "\n",
    "X_train, X_test, y_train, y_test = train_test_split(X, y, test_size=0.2, random_state=42)\n",
    "\n",
    "# Standardize the features\n",
    "scaler = StandardScaler()\n",
    "X_train = scaler.fit_transform(X_train)\n",
    "X_test = scaler.transform(X_test)\n",
    "\n",
    "# Fit a Generalized Linear Model (GLM)\n",
    "model = LogisticRegression(max_iter=1000, random_state=42)\n",
    "model.fit(X_train, y_train)\n",
    "\n",
    "# Evaluate the model\n",
    "y_pred = model.predict(X_test)\n",
    "\n",
    "# Confusion matrix and classification report\n",
    "conf_matrix = confusion_matrix(y_test, y_pred)\n",
    "class_report = classification_report(y_test, y_pred)\n",
    "\n",
    "print(\"Confusion Matrix:\\n\", conf_matrix)\n",
    "print(\"\\nClassification Report:\\n\", class_report)\n"
   ]
  },
  {
   "cell_type": "code",
   "execution_count": null,
   "metadata": {},
   "outputs": [],
   "source": []
  }
 ],
 "metadata": {
  "kernelspec": {
   "display_name": "DataAnalytics382",
   "language": "python",
   "name": "python3"
  },
  "language_info": {
   "codemirror_mode": {
    "name": "ipython",
    "version": 3
   },
   "file_extension": ".py",
   "mimetype": "text/x-python",
   "name": "python",
   "nbconvert_exporter": "python",
   "pygments_lexer": "ipython3",
   "version": "3.9.9"
  },
  "orig_nbformat": 4
 },
 "nbformat": 4,
 "nbformat_minor": 2
}
